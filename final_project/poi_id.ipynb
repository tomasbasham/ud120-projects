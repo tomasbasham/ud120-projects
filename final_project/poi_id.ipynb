{
 "cells": [
  {
   "cell_type": "markdown",
   "metadata": {},
   "source": [
    "# Identifying Fraud from Public Enron Data"
   ]
  },
  {
   "cell_type": "markdown",
   "metadata": {},
   "source": [
    "In 2000, Enron Corporation was an American energy, commodities, and services company based in Houston, Texas. It was founded in 1985 as a merger between Houston Natural Gas and InterNorth, both relatively small regional companies. Before its bankruptcy on December 2, 2001, Enron employed approximately 20,000 staff and was a major electricity, natural gas, communications and pulp and paper company, with claimed revenues of nearly $101 billion during 2000. Fortune named Enron \"America's Most Innovative Company\" for six consecutive years.\n",
    "\n",
    "At the end of 2001, it was revealed that Enron's reported financial condition was sustained by institutionalised, systematic, and creatively planned accounting fraud, known since as the Enron scandal. Enron has since become a well-known example of willful corporate fraud and corruption. The scandal also brought into question the accounting practices and activities of many corporations in the United States and was a factor in the enactment of the Sarbanes–Oxley Act of 2002. The scandal also affected the greater business world by causing the dissolution of the Arthur Andersen accounting firm, which had been Enron's main auditor for years."
   ]
  },
  {
   "cell_type": "markdown",
   "metadata": {},
   "source": [
    "## Citation"
   ]
  },
  {
   "cell_type": "markdown",
   "metadata": {},
   "source": [
    "This dataset consists from Enron emails and financial data publicly available for research. The Enron Email dataset was collected and prepared by the CALO Project (A Cognitive Assistant that Learns and Organizes), details are described in https://www.cs.cmu.edu/~./enron/. The financial data was published in Payments to Insiders report by FindLaw and available at www.findlaw.com."
   ]
  },
  {
   "cell_type": "markdown",
   "metadata": {},
   "source": [
    "## Objective"
   ]
  },
  {
   "cell_type": "markdown",
   "metadata": {},
   "source": [
    "The objective of this project is to implement and optimise a predictive model using the financial and email data provided by the Enron dataset capable of identifying persons on interest (POIs). Specifically the project intends to demonstrate working with a real world dataset, performing such tasks as cleaning and preparing the data; feature selection and engineering; possible dimensionality reduction; supervised classification and hyperparameter tuning; and validation.\n",
    "\n",
    "To help guide the implementation of this project and address some key points I have attempted to follow the [rubric](https://review.udacity.com/#!/rubrics/27/view) created by the Udacity team."
   ]
  },
  {
   "cell_type": "markdown",
   "metadata": {},
   "source": [
    "## Tools"
   ]
  },
  {
   "cell_type": "markdown",
   "metadata": {},
   "source": [
    "The tools used in this experiment are under very active development and it can be difficult to know which versions will successfully run this notebook. In light of this I've printed the versions I have used and that I expect to reproduce the same results."
   ]
  },
  {
   "cell_type": "code",
   "execution_count": 1,
   "metadata": {},
   "outputs": [
    {
     "name": "stdout",
     "output_type": "stream",
     "text": [
      "scipy: 1.0.0\n",
      "sklearn: 0.19.1\n",
      "numpy: 1.14.0\n",
      "matplotlib: 2.1.2\n",
      "pandas: 0.22.0\n"
     ]
    }
   ],
   "source": [
    "import sys\n",
    "sys.path.append('../tools/')\n",
    "\n",
    "from __future__ import print_function\n",
    "\n",
    "# scipy\n",
    "import scipy\n",
    "print('scipy: %s' % scipy.__version__)\n",
    "\n",
    "# scikit-learn\n",
    "import sklearn\n",
    "print('sklearn: %s' % sklearn.__version__)\n",
    "\n",
    "# numpy\n",
    "import numpy\n",
    "print('numpy: %s' % numpy.__version__)\n",
    "\n",
    "# matplotlib\n",
    "import matplotlib\n",
    "print('matplotlib: %s' % matplotlib.__version__)\n",
    "\n",
    "# pandas\n",
    "import pandas\n",
    "print('pandas: %s' % pandas.__version__)"
   ]
  },
  {
   "cell_type": "markdown",
   "metadata": {},
   "source": [
    "## Data Structure"
   ]
  },
  {
   "cell_type": "markdown",
   "metadata": {},
   "source": [
    "The Enron dataset is a collection of key/value pairs associating persons included in the dataset (the keys) with a collection of labelled features (the values). The labelled features for each person are represented by a dictionary and include the following data:"
   ]
  },
  {
   "cell_type": "markdown",
   "metadata": {},
   "source": [
    "- Financial features (all units in US dollars):\n",
    "  - `bonus`\n",
    "  - `deferral_payments`\n",
    "  - `deferred_income`\n",
    "  - `director_fees`\n",
    "  - `exercised_stock_options`\n",
    "  - `expenses`\n",
    "  - `loan_advances`\n",
    "  - `long_term_incentive`\n",
    "  - `other`\n",
    "  - `restricted_stock`\n",
    "  - `restricted_stock_deferred`\n",
    "  - `salary`\n",
    "  - `total_payments`\n",
    "  - `total_stock_value`\n",
    "- Email features (most units are integers with exception to `email_address` which is a string)\n",
    "  - `email_address`\n",
    "  - `from_messages`\n",
    "  - `from_poi_to_this_person`\n",
    "  - `from_this_person_to_poi`\n",
    "  - `shared_receipt_with_poi`\n",
    "  - `to_messages`\n",
    "- Labels (boolean, represented as an integer)\n",
    "  - `poi`"
   ]
  },
  {
   "cell_type": "markdown",
   "metadata": {},
   "source": [
    "## Data Exploration"
   ]
  },
  {
   "cell_type": "markdown",
   "metadata": {},
   "source": [
    "The first step is to examine the data that we have to work with. It is very often the case that a dataset will contain errors, and it is imperitive that these errors are resolved before making any further analysis of the data at hand. If the errors are not resolved then the final predictive model may not generalise well to any new data."
   ]
  },
  {
   "cell_type": "markdown",
   "metadata": {},
   "source": [
    "When examining the data we are trying to answer the following:\n",
    "- Are there any errors in the data?\n",
    "- Are there any outliers in the data?\n",
    "- Are there any missing values in the data?\n",
    "- Does the data represent a realistic range of values?"
   ]
  },
  {
   "cell_type": "markdown",
   "metadata": {},
   "source": [
    "Lets start by reading the data from the provided `pkl` file. This extension expresses that the data is stored in a Pickle file, used to srialise and deserialise Python data objects into a sequence of raw bytes that may be more efficienty stored on disk."
   ]
  },
  {
   "cell_type": "code",
   "execution_count": 2,
   "metadata": {},
   "outputs": [],
   "source": [
    "import pickle\n",
    "\n",
    "# Load the dictionary containing the dataset.\n",
    "with open('final_project_dataset.pkl', 'r') as data_file:\n",
    "    data_dict = pickle.load(data_file)\n",
    "\n",
    "# Sanity check\n",
    "assert type(data_dict) is dict"
   ]
  },
  {
   "cell_type": "markdown",
   "metadata": {},
   "source": [
    "By the lack of error we may conclude we have a dictionary. Dictionaries are a primative data structure in python; but whilst they provide a simple interface through which data may be manipulated they are not flexible enough to perform many statistical operations. Instead this data can be loaded into a Pandas DataFrame: A two-dimensional size-mutable, tabular data structure with labeled axes (rows and columns)."
   ]
  },
  {
   "cell_type": "code",
   "execution_count": 3,
   "metadata": {},
   "outputs": [
    {
     "data": {
      "text/html": [
       "<div>\n",
       "<style scoped>\n",
       "    .dataframe tbody tr th:only-of-type {\n",
       "        vertical-align: middle;\n",
       "    }\n",
       "\n",
       "    .dataframe tbody tr th {\n",
       "        vertical-align: top;\n",
       "    }\n",
       "\n",
       "    .dataframe thead th {\n",
       "        text-align: right;\n",
       "    }\n",
       "</style>\n",
       "<table border=\"1\" class=\"dataframe\">\n",
       "  <thead>\n",
       "    <tr style=\"text-align: right;\">\n",
       "      <th></th>\n",
       "      <th>salary</th>\n",
       "      <th>to_messages</th>\n",
       "      <th>deferral_payments</th>\n",
       "      <th>total_payments</th>\n",
       "      <th>exercised_stock_options</th>\n",
       "      <th>bonus</th>\n",
       "      <th>restricted_stock</th>\n",
       "      <th>shared_receipt_with_poi</th>\n",
       "      <th>restricted_stock_deferred</th>\n",
       "      <th>total_stock_value</th>\n",
       "      <th>...</th>\n",
       "      <th>loan_advances</th>\n",
       "      <th>from_messages</th>\n",
       "      <th>other</th>\n",
       "      <th>from_this_person_to_poi</th>\n",
       "      <th>poi</th>\n",
       "      <th>director_fees</th>\n",
       "      <th>deferred_income</th>\n",
       "      <th>long_term_incentive</th>\n",
       "      <th>email_address</th>\n",
       "      <th>from_poi_to_this_person</th>\n",
       "    </tr>\n",
       "  </thead>\n",
       "  <tbody>\n",
       "    <tr>\n",
       "      <th>ALLEN PHILLIP K</th>\n",
       "      <td>201955</td>\n",
       "      <td>2902</td>\n",
       "      <td>2869717</td>\n",
       "      <td>4484442</td>\n",
       "      <td>1729541</td>\n",
       "      <td>4175000</td>\n",
       "      <td>126027</td>\n",
       "      <td>1407</td>\n",
       "      <td>-126027</td>\n",
       "      <td>1729541</td>\n",
       "      <td>...</td>\n",
       "      <td>NaN</td>\n",
       "      <td>2195</td>\n",
       "      <td>152</td>\n",
       "      <td>65</td>\n",
       "      <td>False</td>\n",
       "      <td>NaN</td>\n",
       "      <td>-3081055</td>\n",
       "      <td>304805</td>\n",
       "      <td>phillip.allen@enron.com</td>\n",
       "      <td>47</td>\n",
       "    </tr>\n",
       "    <tr>\n",
       "      <th>BADUM JAMES P</th>\n",
       "      <td>NaN</td>\n",
       "      <td>NaN</td>\n",
       "      <td>178980</td>\n",
       "      <td>182466</td>\n",
       "      <td>257817</td>\n",
       "      <td>NaN</td>\n",
       "      <td>NaN</td>\n",
       "      <td>NaN</td>\n",
       "      <td>NaN</td>\n",
       "      <td>257817</td>\n",
       "      <td>...</td>\n",
       "      <td>NaN</td>\n",
       "      <td>NaN</td>\n",
       "      <td>NaN</td>\n",
       "      <td>NaN</td>\n",
       "      <td>False</td>\n",
       "      <td>NaN</td>\n",
       "      <td>NaN</td>\n",
       "      <td>NaN</td>\n",
       "      <td>NaN</td>\n",
       "      <td>NaN</td>\n",
       "    </tr>\n",
       "    <tr>\n",
       "      <th>BANNANTINE JAMES M</th>\n",
       "      <td>477</td>\n",
       "      <td>566</td>\n",
       "      <td>NaN</td>\n",
       "      <td>916197</td>\n",
       "      <td>4046157</td>\n",
       "      <td>NaN</td>\n",
       "      <td>1757552</td>\n",
       "      <td>465</td>\n",
       "      <td>-560222</td>\n",
       "      <td>5243487</td>\n",
       "      <td>...</td>\n",
       "      <td>NaN</td>\n",
       "      <td>29</td>\n",
       "      <td>864523</td>\n",
       "      <td>0</td>\n",
       "      <td>False</td>\n",
       "      <td>NaN</td>\n",
       "      <td>-5104</td>\n",
       "      <td>NaN</td>\n",
       "      <td>james.bannantine@enron.com</td>\n",
       "      <td>39</td>\n",
       "    </tr>\n",
       "    <tr>\n",
       "      <th>BAXTER JOHN C</th>\n",
       "      <td>267102</td>\n",
       "      <td>NaN</td>\n",
       "      <td>1295738</td>\n",
       "      <td>5634343</td>\n",
       "      <td>6680544</td>\n",
       "      <td>1200000</td>\n",
       "      <td>3942714</td>\n",
       "      <td>NaN</td>\n",
       "      <td>NaN</td>\n",
       "      <td>10623258</td>\n",
       "      <td>...</td>\n",
       "      <td>NaN</td>\n",
       "      <td>NaN</td>\n",
       "      <td>2660303</td>\n",
       "      <td>NaN</td>\n",
       "      <td>False</td>\n",
       "      <td>NaN</td>\n",
       "      <td>-1386055</td>\n",
       "      <td>1586055</td>\n",
       "      <td>NaN</td>\n",
       "      <td>NaN</td>\n",
       "    </tr>\n",
       "    <tr>\n",
       "      <th>BAY FRANKLIN R</th>\n",
       "      <td>239671</td>\n",
       "      <td>NaN</td>\n",
       "      <td>260455</td>\n",
       "      <td>827696</td>\n",
       "      <td>NaN</td>\n",
       "      <td>400000</td>\n",
       "      <td>145796</td>\n",
       "      <td>NaN</td>\n",
       "      <td>-82782</td>\n",
       "      <td>63014</td>\n",
       "      <td>...</td>\n",
       "      <td>NaN</td>\n",
       "      <td>NaN</td>\n",
       "      <td>69</td>\n",
       "      <td>NaN</td>\n",
       "      <td>False</td>\n",
       "      <td>NaN</td>\n",
       "      <td>-201641</td>\n",
       "      <td>NaN</td>\n",
       "      <td>frank.bay@enron.com</td>\n",
       "      <td>NaN</td>\n",
       "    </tr>\n",
       "  </tbody>\n",
       "</table>\n",
       "<p>5 rows × 21 columns</p>\n",
       "</div>"
      ],
      "text/plain": [
       "                    salary to_messages deferral_payments total_payments  \\\n",
       "ALLEN PHILLIP K     201955        2902           2869717        4484442   \n",
       "BADUM JAMES P          NaN         NaN            178980         182466   \n",
       "BANNANTINE JAMES M     477         566               NaN         916197   \n",
       "BAXTER JOHN C       267102         NaN           1295738        5634343   \n",
       "BAY FRANKLIN R      239671         NaN            260455         827696   \n",
       "\n",
       "                   exercised_stock_options    bonus restricted_stock  \\\n",
       "ALLEN PHILLIP K                    1729541  4175000           126027   \n",
       "BADUM JAMES P                       257817      NaN              NaN   \n",
       "BANNANTINE JAMES M                 4046157      NaN          1757552   \n",
       "BAXTER JOHN C                      6680544  1200000          3942714   \n",
       "BAY FRANKLIN R                         NaN   400000           145796   \n",
       "\n",
       "                   shared_receipt_with_poi restricted_stock_deferred  \\\n",
       "ALLEN PHILLIP K                       1407                   -126027   \n",
       "BADUM JAMES P                          NaN                       NaN   \n",
       "BANNANTINE JAMES M                     465                   -560222   \n",
       "BAXTER JOHN C                          NaN                       NaN   \n",
       "BAY FRANKLIN R                         NaN                    -82782   \n",
       "\n",
       "                   total_stock_value           ...           loan_advances  \\\n",
       "ALLEN PHILLIP K              1729541           ...                     NaN   \n",
       "BADUM JAMES P                 257817           ...                     NaN   \n",
       "BANNANTINE JAMES M           5243487           ...                     NaN   \n",
       "BAXTER JOHN C               10623258           ...                     NaN   \n",
       "BAY FRANKLIN R                 63014           ...                     NaN   \n",
       "\n",
       "                   from_messages    other from_this_person_to_poi    poi  \\\n",
       "ALLEN PHILLIP K             2195      152                      65  False   \n",
       "BADUM JAMES P                NaN      NaN                     NaN  False   \n",
       "BANNANTINE JAMES M            29   864523                       0  False   \n",
       "BAXTER JOHN C                NaN  2660303                     NaN  False   \n",
       "BAY FRANKLIN R               NaN       69                     NaN  False   \n",
       "\n",
       "                    director_fees deferred_income long_term_incentive  \\\n",
       "ALLEN PHILLIP K               NaN        -3081055              304805   \n",
       "BADUM JAMES P                 NaN             NaN                 NaN   \n",
       "BANNANTINE JAMES M            NaN           -5104                 NaN   \n",
       "BAXTER JOHN C                 NaN        -1386055             1586055   \n",
       "BAY FRANKLIN R                NaN         -201641                 NaN   \n",
       "\n",
       "                                 email_address from_poi_to_this_person  \n",
       "ALLEN PHILLIP K        phillip.allen@enron.com                      47  \n",
       "BADUM JAMES P                              NaN                     NaN  \n",
       "BANNANTINE JAMES M  james.bannantine@enron.com                      39  \n",
       "BAXTER JOHN C                              NaN                     NaN  \n",
       "BAY FRANKLIN R             frank.bay@enron.com                     NaN  \n",
       "\n",
       "[5 rows x 21 columns]"
      ]
     },
     "execution_count": 3,
     "metadata": {},
     "output_type": "execute_result"
    }
   ],
   "source": [
    "import pandas as pd\n",
    "\n",
    "# Use 2 decimal place output instead of scientific notation. It is far easier to read and compare.\n",
    "pd.set_option('display.float_format', lambda x: '%.2f' % x)\n",
    "\n",
    "# Transpose the data so the names are used as indices.\n",
    "enron_data = pd.DataFrame.from_dict(data_dict, orient='index')\n",
    "enron_data.head()"
   ]
  },
  {
   "cell_type": "markdown",
   "metadata": {},
   "source": [
    "We're in luck! The data could be read into a Pandas DataFrame. This will make it far easier to explore in the following sections and allows for any changes made to be re-exported as a simple dictionary.\n",
    "\n",
    "The indexes are the names of Enron employees. There are several familiar names in the expanded list closely linked to the Enron scandal, including Kennth Lay, Jeffry Skilling, Andrew Fastow, and Cliff Baxter. There are also many unknown names in the list that are hopefully equally useful in describing the patterns we'll later discover in the data.\n",
    "\n",
    "Additionally there is an entry for \"The Travel Agency in the Park\" that is noted in the footnotes of the original FindLaw document that states paymets were made to this company by Enron and that this business was co-owned by the sister of Enron’s former Chairman. From an accounting perspective this information is very relavent but I suspect this will impede our predictive model. Therefore this entry is a good canditate to be removed in later sections.\n",
    "\n",
    "The columns describe the features available in the dataset. They are expressive enough that we may understand what each value represents but unfortunately they do not indicate their unit of measurement. Luckily we're told how each value is represented so this will not be an issue."
   ]
  },
  {
   "cell_type": "markdown",
   "metadata": {},
   "source": [
    "One of the first things of note is there seems to be a lot of missing data scattered throughout the dataset. This is indicated by the `NaN` string. Python will not be able to interpret this as missing data and may present issues when plotting features and performing any data manipulation. Instead we can tell Pandas to replace missing values by specifiying our missing value marker."
   ]
  },
  {
   "cell_type": "code",
   "execution_count": 4,
   "metadata": {},
   "outputs": [
    {
     "data": {
      "text/plain": [
       "numpy.float64"
      ]
     },
     "execution_count": 4,
     "metadata": {},
     "output_type": "execute_result"
    }
   ],
   "source": [
    "import numpy as np\n",
    "\n",
    "# NumPy uses the IEEE Standard for Binary Floating-Point for Arithmetic (IEEE 754).\n",
    "# This means that Not a Number is not equivalent to infinity.\n",
    "enron_data = enron_data.replace('NaN', np.nan)\n",
    "\n",
    "type(enron_data.loc['ALLEN PHILLIP K'].director_fees)"
   ]
  },
  {
   "cell_type": "markdown",
   "metadata": {},
   "source": [
    "Great! Now that Pandas is aware of missing data and we have some sensible data to work with lets print out a few statistics."
   ]
  },
  {
   "cell_type": "code",
   "execution_count": 5,
   "metadata": {},
   "outputs": [
    {
     "name": "stdout",
     "output_type": "stream",
     "text": [
      "<class 'pandas.core.frame.DataFrame'>\n",
      "Index: 146 entries, ALLEN PHILLIP K to YEAP SOON\n",
      "Data columns (total 21 columns):\n",
      "salary                       95 non-null float64\n",
      "to_messages                  86 non-null float64\n",
      "deferral_payments            39 non-null float64\n",
      "total_payments               125 non-null float64\n",
      "exercised_stock_options      102 non-null float64\n",
      "bonus                        82 non-null float64\n",
      "restricted_stock             110 non-null float64\n",
      "shared_receipt_with_poi      86 non-null float64\n",
      "restricted_stock_deferred    18 non-null float64\n",
      "total_stock_value            126 non-null float64\n",
      "expenses                     95 non-null float64\n",
      "loan_advances                4 non-null float64\n",
      "from_messages                86 non-null float64\n",
      "other                        93 non-null float64\n",
      "from_this_person_to_poi      86 non-null float64\n",
      "poi                          146 non-null bool\n",
      "director_fees                17 non-null float64\n",
      "deferred_income              49 non-null float64\n",
      "long_term_incentive          66 non-null float64\n",
      "email_address                111 non-null object\n",
      "from_poi_to_this_person      86 non-null float64\n",
      "dtypes: bool(1), float64(19), object(1)\n",
      "memory usage: 29.1+ KB\n",
      "\n",
      "Number of data points:       3066\n",
      "Number of missing values:    1358\n",
      "Number of POIs:              18\n"
     ]
    }
   ],
   "source": [
    "# Print information about the data frame.\n",
    "enron_data.info()\n",
    "print()\n",
    "\n",
    "# Justify the output of statistics.\n",
    "print_stat = lambda t, stat: print('{}:'.format(t).ljust(28), stat)\n",
    "\n",
    "# Print a few statistics not included in the above.\n",
    "print_stat('Number of data points', enron_data.shape[0] * enron_data.shape[1])\n",
    "print_stat('Number of missing values', enron_data.isna().sum().sum())\n",
    "print_stat('Number of POIs', len(enron_data[enron_data['poi'] == True]))"
   ]
  },
  {
   "cell_type": "markdown",
   "metadata": {},
   "source": [
    "It looks like we have lots of integers, and a single column of strings and booleans. The boolean column, `poi` indicates whether the persion is a “Person Of Interest”. This is the column we’ll be trying to predict using the other data. Additionally the above shows the following:\n",
    "\n",
    "- There are 146 examples each containing 21 values,\n",
    "- Of the 21 values there are 19 numerical features, 1 text feature (\"email\") and 1 binary classification (\"poi\"),\n",
    "- There are 3066 data points, of which 1358 are missing,\n",
    "- 18 of the 146 examples are persons of interest.\n",
    "\n",
    "A significant proportion (44.3%) of the data is missing. From the table we can see this is particularly prevalent in the features `deferral_payments`, `deferred_income` `director_fees`, `loan_advances` and `restricted_stock_deferred`. At this time I will not remove any of these features just in case they are still useful when attempting to derive patterns in the data."
   ]
  },
  {
   "cell_type": "markdown",
   "metadata": {},
   "source": [
    "In addition to the summary statistics we can print some aggregate statistics over each features in the dataset. This allows us to see some typical statistical values that may unearth some useful information."
   ]
  },
  {
   "cell_type": "code",
   "execution_count": 6,
   "metadata": {},
   "outputs": [
    {
     "data": {
      "text/html": [
       "<div>\n",
       "<style scoped>\n",
       "    .dataframe tbody tr th:only-of-type {\n",
       "        vertical-align: middle;\n",
       "    }\n",
       "\n",
       "    .dataframe tbody tr th {\n",
       "        vertical-align: top;\n",
       "    }\n",
       "\n",
       "    .dataframe thead th {\n",
       "        text-align: right;\n",
       "    }\n",
       "</style>\n",
       "<table border=\"1\" class=\"dataframe\">\n",
       "  <thead>\n",
       "    <tr style=\"text-align: right;\">\n",
       "      <th></th>\n",
       "      <th>salary</th>\n",
       "      <th>to_messages</th>\n",
       "      <th>deferral_payments</th>\n",
       "      <th>total_payments</th>\n",
       "      <th>exercised_stock_options</th>\n",
       "      <th>bonus</th>\n",
       "      <th>restricted_stock</th>\n",
       "      <th>shared_receipt_with_poi</th>\n",
       "      <th>restricted_stock_deferred</th>\n",
       "      <th>total_stock_value</th>\n",
       "      <th>expenses</th>\n",
       "      <th>loan_advances</th>\n",
       "      <th>from_messages</th>\n",
       "      <th>other</th>\n",
       "      <th>from_this_person_to_poi</th>\n",
       "      <th>director_fees</th>\n",
       "      <th>deferred_income</th>\n",
       "      <th>long_term_incentive</th>\n",
       "      <th>from_poi_to_this_person</th>\n",
       "    </tr>\n",
       "  </thead>\n",
       "  <tbody>\n",
       "    <tr>\n",
       "      <th>count</th>\n",
       "      <td>95.00</td>\n",
       "      <td>86.00</td>\n",
       "      <td>39.00</td>\n",
       "      <td>125.00</td>\n",
       "      <td>102.00</td>\n",
       "      <td>82.00</td>\n",
       "      <td>110.00</td>\n",
       "      <td>86.00</td>\n",
       "      <td>18.00</td>\n",
       "      <td>126.00</td>\n",
       "      <td>95.00</td>\n",
       "      <td>4.00</td>\n",
       "      <td>86.00</td>\n",
       "      <td>93.00</td>\n",
       "      <td>86.00</td>\n",
       "      <td>17.00</td>\n",
       "      <td>49.00</td>\n",
       "      <td>66.00</td>\n",
       "      <td>86.00</td>\n",
       "    </tr>\n",
       "    <tr>\n",
       "      <th>mean</th>\n",
       "      <td>562194.29</td>\n",
       "      <td>2073.86</td>\n",
       "      <td>1642674.15</td>\n",
       "      <td>5081526.49</td>\n",
       "      <td>5987053.77</td>\n",
       "      <td>2374234.61</td>\n",
       "      <td>2321741.14</td>\n",
       "      <td>1176.47</td>\n",
       "      <td>166410.56</td>\n",
       "      <td>6773957.45</td>\n",
       "      <td>108728.92</td>\n",
       "      <td>41962500.00</td>\n",
       "      <td>608.79</td>\n",
       "      <td>919064.97</td>\n",
       "      <td>41.23</td>\n",
       "      <td>166804.88</td>\n",
       "      <td>-1140475.14</td>\n",
       "      <td>1470361.45</td>\n",
       "      <td>64.90</td>\n",
       "    </tr>\n",
       "    <tr>\n",
       "      <th>std</th>\n",
       "      <td>2716369.15</td>\n",
       "      <td>2582.70</td>\n",
       "      <td>5161929.97</td>\n",
       "      <td>29061716.40</td>\n",
       "      <td>31062006.57</td>\n",
       "      <td>10713327.97</td>\n",
       "      <td>12518278.18</td>\n",
       "      <td>1178.32</td>\n",
       "      <td>4201494.31</td>\n",
       "      <td>38957772.73</td>\n",
       "      <td>533534.81</td>\n",
       "      <td>47083208.70</td>\n",
       "      <td>1841.03</td>\n",
       "      <td>4589252.91</td>\n",
       "      <td>100.07</td>\n",
       "      <td>319891.41</td>\n",
       "      <td>4025406.38</td>\n",
       "      <td>5942759.32</td>\n",
       "      <td>86.98</td>\n",
       "    </tr>\n",
       "    <tr>\n",
       "      <th>min</th>\n",
       "      <td>477.00</td>\n",
       "      <td>57.00</td>\n",
       "      <td>-102500.00</td>\n",
       "      <td>148.00</td>\n",
       "      <td>3285.00</td>\n",
       "      <td>70000.00</td>\n",
       "      <td>-2604490.00</td>\n",
       "      <td>2.00</td>\n",
       "      <td>-7576788.00</td>\n",
       "      <td>-44093.00</td>\n",
       "      <td>148.00</td>\n",
       "      <td>400000.00</td>\n",
       "      <td>12.00</td>\n",
       "      <td>2.00</td>\n",
       "      <td>0.00</td>\n",
       "      <td>3285.00</td>\n",
       "      <td>-27992891.00</td>\n",
       "      <td>69223.00</td>\n",
       "      <td>0.00</td>\n",
       "    </tr>\n",
       "    <tr>\n",
       "      <th>25%</th>\n",
       "      <td>211816.00</td>\n",
       "      <td>541.25</td>\n",
       "      <td>81573.00</td>\n",
       "      <td>394475.00</td>\n",
       "      <td>527886.25</td>\n",
       "      <td>431250.00</td>\n",
       "      <td>254018.00</td>\n",
       "      <td>249.75</td>\n",
       "      <td>-389621.75</td>\n",
       "      <td>494510.25</td>\n",
       "      <td>22614.00</td>\n",
       "      <td>1600000.00</td>\n",
       "      <td>22.75</td>\n",
       "      <td>1215.00</td>\n",
       "      <td>1.00</td>\n",
       "      <td>98784.00</td>\n",
       "      <td>-694862.00</td>\n",
       "      <td>281250.00</td>\n",
       "      <td>10.00</td>\n",
       "    </tr>\n",
       "    <tr>\n",
       "      <th>50%</th>\n",
       "      <td>259996.00</td>\n",
       "      <td>1211.00</td>\n",
       "      <td>227449.00</td>\n",
       "      <td>1101393.00</td>\n",
       "      <td>1310813.50</td>\n",
       "      <td>769375.00</td>\n",
       "      <td>451740.00</td>\n",
       "      <td>740.50</td>\n",
       "      <td>-146975.00</td>\n",
       "      <td>1102872.50</td>\n",
       "      <td>46950.00</td>\n",
       "      <td>41762500.00</td>\n",
       "      <td>41.00</td>\n",
       "      <td>52382.00</td>\n",
       "      <td>8.00</td>\n",
       "      <td>108579.00</td>\n",
       "      <td>-159792.00</td>\n",
       "      <td>442035.00</td>\n",
       "      <td>35.00</td>\n",
       "    </tr>\n",
       "    <tr>\n",
       "      <th>75%</th>\n",
       "      <td>312117.00</td>\n",
       "      <td>2634.75</td>\n",
       "      <td>1002671.50</td>\n",
       "      <td>2093263.00</td>\n",
       "      <td>2547724.00</td>\n",
       "      <td>1200000.00</td>\n",
       "      <td>1002369.75</td>\n",
       "      <td>1888.25</td>\n",
       "      <td>-75009.75</td>\n",
       "      <td>2949846.75</td>\n",
       "      <td>79952.50</td>\n",
       "      <td>82125000.00</td>\n",
       "      <td>145.50</td>\n",
       "      <td>362096.00</td>\n",
       "      <td>24.75</td>\n",
       "      <td>113784.00</td>\n",
       "      <td>-38346.00</td>\n",
       "      <td>938672.00</td>\n",
       "      <td>72.25</td>\n",
       "    </tr>\n",
       "    <tr>\n",
       "      <th>max</th>\n",
       "      <td>26704229.00</td>\n",
       "      <td>15149.00</td>\n",
       "      <td>32083396.00</td>\n",
       "      <td>309886585.00</td>\n",
       "      <td>311764000.00</td>\n",
       "      <td>97343619.00</td>\n",
       "      <td>130322299.00</td>\n",
       "      <td>5521.00</td>\n",
       "      <td>15456290.00</td>\n",
       "      <td>434509511.00</td>\n",
       "      <td>5235198.00</td>\n",
       "      <td>83925000.00</td>\n",
       "      <td>14368.00</td>\n",
       "      <td>42667589.00</td>\n",
       "      <td>609.00</td>\n",
       "      <td>1398517.00</td>\n",
       "      <td>-833.00</td>\n",
       "      <td>48521928.00</td>\n",
       "      <td>528.00</td>\n",
       "    </tr>\n",
       "  </tbody>\n",
       "</table>\n",
       "</div>"
      ],
      "text/plain": [
       "           salary  to_messages  deferral_payments  total_payments  \\\n",
       "count       95.00        86.00              39.00          125.00   \n",
       "mean    562194.29      2073.86         1642674.15      5081526.49   \n",
       "std    2716369.15      2582.70         5161929.97     29061716.40   \n",
       "min        477.00        57.00         -102500.00          148.00   \n",
       "25%     211816.00       541.25           81573.00       394475.00   \n",
       "50%     259996.00      1211.00          227449.00      1101393.00   \n",
       "75%     312117.00      2634.75         1002671.50      2093263.00   \n",
       "max   26704229.00     15149.00        32083396.00    309886585.00   \n",
       "\n",
       "       exercised_stock_options       bonus  restricted_stock  \\\n",
       "count                   102.00       82.00            110.00   \n",
       "mean                5987053.77  2374234.61        2321741.14   \n",
       "std                31062006.57 10713327.97       12518278.18   \n",
       "min                    3285.00    70000.00       -2604490.00   \n",
       "25%                  527886.25   431250.00         254018.00   \n",
       "50%                 1310813.50   769375.00         451740.00   \n",
       "75%                 2547724.00  1200000.00        1002369.75   \n",
       "max               311764000.00 97343619.00      130322299.00   \n",
       "\n",
       "       shared_receipt_with_poi  restricted_stock_deferred  total_stock_value  \\\n",
       "count                    86.00                      18.00             126.00   \n",
       "mean                   1176.47                  166410.56         6773957.45   \n",
       "std                    1178.32                 4201494.31        38957772.73   \n",
       "min                       2.00                -7576788.00          -44093.00   \n",
       "25%                     249.75                 -389621.75          494510.25   \n",
       "50%                     740.50                 -146975.00         1102872.50   \n",
       "75%                    1888.25                  -75009.75         2949846.75   \n",
       "max                    5521.00                15456290.00       434509511.00   \n",
       "\n",
       "        expenses  loan_advances  from_messages       other  \\\n",
       "count      95.00           4.00          86.00       93.00   \n",
       "mean   108728.92    41962500.00         608.79   919064.97   \n",
       "std    533534.81    47083208.70        1841.03  4589252.91   \n",
       "min       148.00      400000.00          12.00        2.00   \n",
       "25%     22614.00     1600000.00          22.75     1215.00   \n",
       "50%     46950.00    41762500.00          41.00    52382.00   \n",
       "75%     79952.50    82125000.00         145.50   362096.00   \n",
       "max   5235198.00    83925000.00       14368.00 42667589.00   \n",
       "\n",
       "       from_this_person_to_poi  director_fees  deferred_income  \\\n",
       "count                    86.00          17.00            49.00   \n",
       "mean                     41.23      166804.88      -1140475.14   \n",
       "std                     100.07      319891.41       4025406.38   \n",
       "min                       0.00        3285.00     -27992891.00   \n",
       "25%                       1.00       98784.00       -694862.00   \n",
       "50%                       8.00      108579.00       -159792.00   \n",
       "75%                      24.75      113784.00        -38346.00   \n",
       "max                     609.00     1398517.00          -833.00   \n",
       "\n",
       "       long_term_incentive  from_poi_to_this_person  \n",
       "count                66.00                    86.00  \n",
       "mean            1470361.45                    64.90  \n",
       "std             5942759.32                    86.98  \n",
       "min               69223.00                     0.00  \n",
       "25%              281250.00                    10.00  \n",
       "50%              442035.00                    35.00  \n",
       "75%              938672.00                    72.25  \n",
       "max            48521928.00                   528.00  "
      ]
     },
     "execution_count": 6,
     "metadata": {},
     "output_type": "execute_result"
    }
   ],
   "source": [
    "enron_data.describe()"
   ]
  },
  {
   "cell_type": "markdown",
   "metadata": {},
   "source": [
    "Without a statistical background, further analysis is not particularly easy unless we know that our data should fall in a particular range. It's usually better to visualize the data in some way. Visualization makes outliers and errors immediately stand out, whereas they might go unnoticed in a large table of numbers. We'll investigate this further in the following sections."
   ]
  },
  {
   "cell_type": "markdown",
   "metadata": {},
   "source": [
    "### Data Cleansing"
   ]
  },
  {
   "cell_type": "markdown",
   "metadata": {},
   "source": [
    "Lets begin analysing the dataset by first ensuring the values are in fact accurate according to the financial records available from the FindLaw report. There are two features in particular that should total the values of other features. These features are `total_payments` and `total_stock_value`."
   ]
  },
  {
   "cell_type": "markdown",
   "metadata": {},
   "source": [
    "Starting with the features relating to payment we're able to find any examples where the `total_payments` feature is not equal to the sum of all the other payment features: `salary`, `bonus`, `long_term_incentive`, `deferred_income`, `deferral_payments`, `loan_advances`, `other`, `expenses`, `director_fees`."
   ]
  },
  {
   "cell_type": "code",
   "execution_count": 7,
   "metadata": {},
   "outputs": [],
   "source": [
    "def inaccurate_examples(features):\n",
    "    '''\n",
    "    Return a function that checkes for data inconsistencies.\n",
    "    '''\n",
    "    def sum_features(data):\n",
    "        '''\n",
    "        Sum along the columns of all passed features, excluding the last,\n",
    "        and compare the value to the last feature.\n",
    "        '''\n",
    "        return data[data[features[:-1]].sum(axis='columns').ne(data[features[-1]], fill_value=0)][features]\n",
    "    return sum_features"
   ]
  },
  {
   "cell_type": "code",
   "execution_count": 8,
   "metadata": {},
   "outputs": [
    {
     "data": {
      "text/html": [
       "<div>\n",
       "<style scoped>\n",
       "    .dataframe tbody tr th:only-of-type {\n",
       "        vertical-align: middle;\n",
       "    }\n",
       "\n",
       "    .dataframe tbody tr th {\n",
       "        vertical-align: top;\n",
       "    }\n",
       "\n",
       "    .dataframe thead th {\n",
       "        text-align: right;\n",
       "    }\n",
       "</style>\n",
       "<table border=\"1\" class=\"dataframe\">\n",
       "  <thead>\n",
       "    <tr style=\"text-align: right;\">\n",
       "      <th></th>\n",
       "      <th>salary</th>\n",
       "      <th>bonus</th>\n",
       "      <th>long_term_incentive</th>\n",
       "      <th>deferred_income</th>\n",
       "      <th>deferral_payments</th>\n",
       "      <th>loan_advances</th>\n",
       "      <th>other</th>\n",
       "      <th>expenses</th>\n",
       "      <th>director_fees</th>\n",
       "      <th>total_payments</th>\n",
       "    </tr>\n",
       "  </thead>\n",
       "  <tbody>\n",
       "    <tr>\n",
       "      <th>BELFER ROBERT</th>\n",
       "      <td>nan</td>\n",
       "      <td>nan</td>\n",
       "      <td>nan</td>\n",
       "      <td>nan</td>\n",
       "      <td>-102500.00</td>\n",
       "      <td>nan</td>\n",
       "      <td>nan</td>\n",
       "      <td>nan</td>\n",
       "      <td>3285.00</td>\n",
       "      <td>102500.00</td>\n",
       "    </tr>\n",
       "    <tr>\n",
       "      <th>BHATNAGAR SANJAY</th>\n",
       "      <td>nan</td>\n",
       "      <td>nan</td>\n",
       "      <td>nan</td>\n",
       "      <td>nan</td>\n",
       "      <td>nan</td>\n",
       "      <td>nan</td>\n",
       "      <td>137864.00</td>\n",
       "      <td>nan</td>\n",
       "      <td>137864.00</td>\n",
       "      <td>15456290.00</td>\n",
       "    </tr>\n",
       "  </tbody>\n",
       "</table>\n",
       "</div>"
      ],
      "text/plain": [
       "                  salary  bonus  long_term_incentive  deferred_income  \\\n",
       "BELFER ROBERT        nan    nan                  nan              nan   \n",
       "BHATNAGAR SANJAY     nan    nan                  nan              nan   \n",
       "\n",
       "                  deferral_payments  loan_advances     other  expenses  \\\n",
       "BELFER ROBERT            -102500.00            nan       nan       nan   \n",
       "BHATNAGAR SANJAY                nan            nan 137864.00       nan   \n",
       "\n",
       "                  director_fees  total_payments  \n",
       "BELFER ROBERT           3285.00       102500.00  \n",
       "BHATNAGAR SANJAY      137864.00     15456290.00  "
      ]
     },
     "execution_count": 8,
     "metadata": {},
     "output_type": "execute_result"
    }
   ],
   "source": [
    "# In the order specified in the FindLaw report.\n",
    "payment_features = ['salary', 'bonus', 'long_term_incentive', 'deferred_income', 'deferral_payments',\n",
    "                   'loan_advances', 'other', 'expenses', 'director_fees', 'total_payments']\n",
    "\n",
    "inaccurate_payment_examples = inaccurate_examples(payment_features)\n",
    "inaccurate_payment_examples(enron_data)"
   ]
  },
  {
   "cell_type": "markdown",
   "metadata": {},
   "source": [
    "Similarly we're able to find any examples where the `total_stock_values` feature is not equal to the sum of all the other stock features: `exercised_stock_options`, `restricted_stock`, `restricted_stock_deferred`, `total_stock_value`."
   ]
  },
  {
   "cell_type": "code",
   "execution_count": 9,
   "metadata": {},
   "outputs": [
    {
     "data": {
      "text/html": [
       "<div>\n",
       "<style scoped>\n",
       "    .dataframe tbody tr th:only-of-type {\n",
       "        vertical-align: middle;\n",
       "    }\n",
       "\n",
       "    .dataframe tbody tr th {\n",
       "        vertical-align: top;\n",
       "    }\n",
       "\n",
       "    .dataframe thead th {\n",
       "        text-align: right;\n",
       "    }\n",
       "</style>\n",
       "<table border=\"1\" class=\"dataframe\">\n",
       "  <thead>\n",
       "    <tr style=\"text-align: right;\">\n",
       "      <th></th>\n",
       "      <th>exercised_stock_options</th>\n",
       "      <th>restricted_stock</th>\n",
       "      <th>restricted_stock_deferred</th>\n",
       "      <th>total_stock_value</th>\n",
       "    </tr>\n",
       "  </thead>\n",
       "  <tbody>\n",
       "    <tr>\n",
       "      <th>BELFER ROBERT</th>\n",
       "      <td>3285.00</td>\n",
       "      <td>nan</td>\n",
       "      <td>44093.00</td>\n",
       "      <td>-44093.00</td>\n",
       "    </tr>\n",
       "    <tr>\n",
       "      <th>BHATNAGAR SANJAY</th>\n",
       "      <td>2604490.00</td>\n",
       "      <td>-2604490.00</td>\n",
       "      <td>15456290.00</td>\n",
       "      <td>nan</td>\n",
       "    </tr>\n",
       "  </tbody>\n",
       "</table>\n",
       "</div>"
      ],
      "text/plain": [
       "                  exercised_stock_options  restricted_stock  \\\n",
       "BELFER ROBERT                     3285.00               nan   \n",
       "BHATNAGAR SANJAY               2604490.00       -2604490.00   \n",
       "\n",
       "                  restricted_stock_deferred  total_stock_value  \n",
       "BELFER ROBERT                      44093.00          -44093.00  \n",
       "BHATNAGAR SANJAY                15456290.00                nan  "
      ]
     },
     "execution_count": 9,
     "metadata": {},
     "output_type": "execute_result"
    }
   ],
   "source": [
    "# In the order specified in the FindLaw report.\n",
    "stock_value_features = ['exercised_stock_options', 'restricted_stock', 'restricted_stock_deferred',\n",
    "                        'total_stock_value']\n",
    "\n",
    "inaccurate_stock_value_examples = inaccurate_examples(stock_value_features)\n",
    "inaccurate_stock_value_examples(enron_data)"
   ]
  },
  {
   "cell_type": "markdown",
   "metadata": {},
   "source": [
    "In both cases the same two names are reported to be inaccurate. This is likely the result of an input error so we'll have to correct this.\n",
    "\n",
    "In the original report, `-102,500` is listed as Robert Belfer’s deferred income, not deferral payments whilst `3,285` is listed as his expenses, and director fees listed as `102,500`, making total payments equal to `3,285`. Furthermore there is no listing for Robert Belger's exercied stock options whilst his restricted stock and restricted stock deferred are listed as `44093` and `-44093` respectively. Looks like everything shifted one column to the right. We’ll have to move it one to the left to fix it. The opposite happened to Sanjay Bhatnagar, so we’ll have to move his columns to the right to fix them."
   ]
  },
  {
   "cell_type": "code",
   "execution_count": 10,
   "metadata": {},
   "outputs": [],
   "source": [
    "# First Robert Belfer...\n",
    "enron_data.loc[('BELFER ROBERT','deferred_income')] = -102500\n",
    "enron_data.loc[('BELFER ROBERT','deferral_payments')] = np.nan\n",
    "enron_data.loc[('BELFER ROBERT','expenses')] = 3285\n",
    "enron_data.loc[('BELFER ROBERT','director_fees')] = 102500\n",
    "enron_data.loc[('BELFER ROBERT','total_payments')] = 3285\n",
    "enron_data.loc[('BELFER ROBERT','exercised_stock_options')] = np.nan\n",
    "enron_data.loc[('BELFER ROBERT','restricted_stock')] = 44093\n",
    "enron_data.loc[('BELFER ROBERT','restricted_stock_deferred')] = -44093\n",
    "enron_data.loc[('BELFER ROBERT','total_stock_value')] = np.nan\n",
    "\n",
    "# ... and then Snajay Bhatnagar.\n",
    "enron_data.loc[('BHATNAGAR SANJAY','total_payments')] = 137864\n",
    "enron_data.loc[('BHATNAGAR SANJAY','restricted_stock_deferred')] = -2604490\n",
    "enron_data.loc[('BHATNAGAR SANJAY','total_stock_value')] = 15456290\n",
    "enron_data.loc[('BHATNAGAR SANJAY','expenses')] = 137864\n",
    "enron_data.loc[('BHATNAGAR SANJAY','exercised_stock_options')] = 15456290\n",
    "enron_data.loc[('BHATNAGAR SANJAY','other')] = np.nan\n",
    "enron_data.loc[('BHATNAGAR SANJAY','restricted_stock')] = 2604490\n",
    "enron_data.loc[('BHATNAGAR SANJAY','director_fees')] = np.nan"
   ]
  },
  {
   "cell_type": "markdown",
   "metadata": {},
   "source": [
    "Lets check that we have fixed the issues."
   ]
  },
  {
   "cell_type": "code",
   "execution_count": 11,
   "metadata": {},
   "outputs": [
    {
     "name": "stdout",
     "output_type": "stream",
     "text": [
      "Number of inconsistencies: 0\n"
     ]
    }
   ],
   "source": [
    "inconsistencies = len(inaccurate_payment_examples(enron_data)) + \\\n",
    "    len(inaccurate_stock_value_examples(enron_data))\n",
    "\n",
    "print('Number of inconsistencies:', inconsistencies)"
   ]
  },
  {
   "cell_type": "markdown",
   "metadata": {},
   "source": [
    "Looks good!"
   ]
  },
  {
   "cell_type": "markdown",
   "metadata": {},
   "source": [
    "### Incomplete Data"
   ]
  },
  {
   "cell_type": "markdown",
   "metadata": {},
   "source": [
    "As we saw in a previous section this dataset is plagued with missing values. Using the same Pandas DataFrame we can print out a list of all the features in the dataset alongside the number of values missing for that feature. "
   ]
  },
  {
   "cell_type": "code",
   "execution_count": 12,
   "metadata": {},
   "outputs": [
    {
     "data": {
      "text/html": [
       "<div>\n",
       "<style scoped>\n",
       "    .dataframe tbody tr th:only-of-type {\n",
       "        vertical-align: middle;\n",
       "    }\n",
       "\n",
       "    .dataframe tbody tr th {\n",
       "        vertical-align: top;\n",
       "    }\n",
       "\n",
       "    .dataframe thead th {\n",
       "        text-align: right;\n",
       "    }\n",
       "</style>\n",
       "<table border=\"1\" class=\"dataframe\">\n",
       "  <thead>\n",
       "    <tr style=\"text-align: right;\">\n",
       "      <th></th>\n",
       "      <th># missing values</th>\n",
       "    </tr>\n",
       "  </thead>\n",
       "  <tbody>\n",
       "    <tr>\n",
       "      <th>salary</th>\n",
       "      <td>51</td>\n",
       "    </tr>\n",
       "    <tr>\n",
       "      <th>to_messages</th>\n",
       "      <td>60</td>\n",
       "    </tr>\n",
       "    <tr>\n",
       "      <th>deferral_payments</th>\n",
       "      <td>108</td>\n",
       "    </tr>\n",
       "    <tr>\n",
       "      <th>total_payments</th>\n",
       "      <td>21</td>\n",
       "    </tr>\n",
       "    <tr>\n",
       "      <th>exercised_stock_options</th>\n",
       "      <td>45</td>\n",
       "    </tr>\n",
       "    <tr>\n",
       "      <th>bonus</th>\n",
       "      <td>64</td>\n",
       "    </tr>\n",
       "    <tr>\n",
       "      <th>restricted_stock</th>\n",
       "      <td>35</td>\n",
       "    </tr>\n",
       "    <tr>\n",
       "      <th>shared_receipt_with_poi</th>\n",
       "      <td>60</td>\n",
       "    </tr>\n",
       "    <tr>\n",
       "      <th>restricted_stock_deferred</th>\n",
       "      <td>128</td>\n",
       "    </tr>\n",
       "    <tr>\n",
       "      <th>total_stock_value</th>\n",
       "      <td>20</td>\n",
       "    </tr>\n",
       "    <tr>\n",
       "      <th>expenses</th>\n",
       "      <td>49</td>\n",
       "    </tr>\n",
       "    <tr>\n",
       "      <th>loan_advances</th>\n",
       "      <td>142</td>\n",
       "    </tr>\n",
       "    <tr>\n",
       "      <th>from_messages</th>\n",
       "      <td>60</td>\n",
       "    </tr>\n",
       "    <tr>\n",
       "      <th>other</th>\n",
       "      <td>54</td>\n",
       "    </tr>\n",
       "    <tr>\n",
       "      <th>from_this_person_to_poi</th>\n",
       "      <td>60</td>\n",
       "    </tr>\n",
       "    <tr>\n",
       "      <th>poi</th>\n",
       "      <td>0</td>\n",
       "    </tr>\n",
       "    <tr>\n",
       "      <th>director_fees</th>\n",
       "      <td>130</td>\n",
       "    </tr>\n",
       "    <tr>\n",
       "      <th>deferred_income</th>\n",
       "      <td>96</td>\n",
       "    </tr>\n",
       "    <tr>\n",
       "      <th>long_term_incentive</th>\n",
       "      <td>80</td>\n",
       "    </tr>\n",
       "    <tr>\n",
       "      <th>email_address</th>\n",
       "      <td>35</td>\n",
       "    </tr>\n",
       "    <tr>\n",
       "      <th>from_poi_to_this_person</th>\n",
       "      <td>60</td>\n",
       "    </tr>\n",
       "  </tbody>\n",
       "</table>\n",
       "</div>"
      ],
      "text/plain": [
       "                           # missing values\n",
       "salary                                   51\n",
       "to_messages                              60\n",
       "deferral_payments                       108\n",
       "total_payments                           21\n",
       "exercised_stock_options                  45\n",
       "bonus                                    64\n",
       "restricted_stock                         35\n",
       "shared_receipt_with_poi                  60\n",
       "restricted_stock_deferred               128\n",
       "total_stock_value                        20\n",
       "expenses                                 49\n",
       "loan_advances                           142\n",
       "from_messages                            60\n",
       "other                                    54\n",
       "from_this_person_to_poi                  60\n",
       "poi                                       0\n",
       "director_fees                           130\n",
       "deferred_income                          96\n",
       "long_term_incentive                      80\n",
       "email_address                            35\n",
       "from_poi_to_this_person                  60"
      ]
     },
     "execution_count": 12,
     "metadata": {},
     "output_type": "execute_result"
    }
   ],
   "source": [
    "missing_data = enron_data.isna().sum().to_frame(name='# missing values')\n",
    "missing_data"
   ]
  },
  {
   "cell_type": "markdown",
   "metadata": {},
   "source": [
    "From the above we can see that every example in the dataset is labelled indicating whether it represents a person of interest. However no other features can be considerd complete. This will have the effect of causing difficulty for our predictive model to discover patterns from this data. The feature of largest concern is `loan_advances` which has only 4 values present in the entire dataset (~3%). Lets visualise the extent of the missing values in the form of a bar graph."
   ]
  },
  {
   "cell_type": "code",
   "execution_count": 13,
   "metadata": {},
   "outputs": [
    {
     "name": "stderr",
     "output_type": "stream",
     "text": [
      "/usr/local/envs/py2env/lib/python2.7/site-packages/matplotlib/font_manager.py:1320: UserWarning: findfont: Font family [u'sans-serif'] not found. Falling back to DejaVu Sans\n",
      "  (prop.get_family(), self.defaultFamily[fontext]))\n"
     ]
    },
    {
     "data": {
      "image/png": "[encoded data removed]",
      "text/plain": [
       "<matplotlib.figure.Figure at 0x7fa13fd65a50>"
      ]
     },
     "metadata": {},
     "output_type": "display_data"
    }
   ],
   "source": [
    "missing_data.plot(kind='bar', figsize=(15,5));"
   ]
  },
  {
   "cell_type": "markdown",
   "metadata": {},
   "source": [
    "Due to the high number of missing values there may be many examples not offering anything useful to our predictive model. I've chosen, somewhat arbitrarily, a threshold of 85% missing values to mean those examples we may be interested in removing from the dataset.\n",
    "\n",
    "We can retrieve these examples using the following snippet (thank you [stackoverflow](https://stackoverflow.com/a/52882784/1613695) and Wen)."
   ]
  },
  {
   "cell_type": "code",
   "execution_count": 14,
   "metadata": {},
   "outputs": [
    {
     "data": {
      "text/html": [
       "<div>\n",
       "<style scoped>\n",
       "    .dataframe tbody tr th:only-of-type {\n",
       "        vertical-align: middle;\n",
       "    }\n",
       "\n",
       "    .dataframe tbody tr th {\n",
       "        vertical-align: top;\n",
       "    }\n",
       "\n",
       "    .dataframe thead th {\n",
       "        text-align: right;\n",
       "    }\n",
       "</style>\n",
       "<table border=\"1\" class=\"dataframe\">\n",
       "  <thead>\n",
       "    <tr style=\"text-align: right;\">\n",
       "      <th></th>\n",
       "      <th>salary</th>\n",
       "      <th>to_messages</th>\n",
       "      <th>deferral_payments</th>\n",
       "      <th>total_payments</th>\n",
       "      <th>exercised_stock_options</th>\n",
       "      <th>bonus</th>\n",
       "      <th>restricted_stock</th>\n",
       "      <th>shared_receipt_with_poi</th>\n",
       "      <th>restricted_stock_deferred</th>\n",
       "      <th>total_stock_value</th>\n",
       "      <th>...</th>\n",
       "      <th>loan_advances</th>\n",
       "      <th>from_messages</th>\n",
       "      <th>other</th>\n",
       "      <th>from_this_person_to_poi</th>\n",
       "      <th>poi</th>\n",
       "      <th>director_fees</th>\n",
       "      <th>deferred_income</th>\n",
       "      <th>long_term_incentive</th>\n",
       "      <th>email_address</th>\n",
       "      <th>from_poi_to_this_person</th>\n",
       "    </tr>\n",
       "  </thead>\n",
       "  <tbody>\n",
       "    <tr>\n",
       "      <th>GRAMM WENDY L</th>\n",
       "      <td>nan</td>\n",
       "      <td>nan</td>\n",
       "      <td>nan</td>\n",
       "      <td>119292.00</td>\n",
       "      <td>nan</td>\n",
       "      <td>nan</td>\n",
       "      <td>nan</td>\n",
       "      <td>nan</td>\n",
       "      <td>nan</td>\n",
       "      <td>nan</td>\n",
       "      <td>...</td>\n",
       "      <td>nan</td>\n",
       "      <td>nan</td>\n",
       "      <td>nan</td>\n",
       "      <td>nan</td>\n",
       "      <td>False</td>\n",
       "      <td>119292.00</td>\n",
       "      <td>nan</td>\n",
       "      <td>nan</td>\n",
       "      <td>NaN</td>\n",
       "      <td>nan</td>\n",
       "    </tr>\n",
       "    <tr>\n",
       "      <th>LOCKHART EUGENE E</th>\n",
       "      <td>nan</td>\n",
       "      <td>nan</td>\n",
       "      <td>nan</td>\n",
       "      <td>nan</td>\n",
       "      <td>nan</td>\n",
       "      <td>nan</td>\n",
       "      <td>nan</td>\n",
       "      <td>nan</td>\n",
       "      <td>nan</td>\n",
       "      <td>nan</td>\n",
       "      <td>...</td>\n",
       "      <td>nan</td>\n",
       "      <td>nan</td>\n",
       "      <td>nan</td>\n",
       "      <td>nan</td>\n",
       "      <td>False</td>\n",
       "      <td>nan</td>\n",
       "      <td>nan</td>\n",
       "      <td>nan</td>\n",
       "      <td>NaN</td>\n",
       "      <td>nan</td>\n",
       "    </tr>\n",
       "    <tr>\n",
       "      <th>THE TRAVEL AGENCY IN THE PARK</th>\n",
       "      <td>nan</td>\n",
       "      <td>nan</td>\n",
       "      <td>nan</td>\n",
       "      <td>362096.00</td>\n",
       "      <td>nan</td>\n",
       "      <td>nan</td>\n",
       "      <td>nan</td>\n",
       "      <td>nan</td>\n",
       "      <td>nan</td>\n",
       "      <td>nan</td>\n",
       "      <td>...</td>\n",
       "      <td>nan</td>\n",
       "      <td>nan</td>\n",
       "      <td>362096.00</td>\n",
       "      <td>nan</td>\n",
       "      <td>False</td>\n",
       "      <td>nan</td>\n",
       "      <td>nan</td>\n",
       "      <td>nan</td>\n",
       "      <td>NaN</td>\n",
       "      <td>nan</td>\n",
       "    </tr>\n",
       "    <tr>\n",
       "      <th>WHALEY DAVID A</th>\n",
       "      <td>nan</td>\n",
       "      <td>nan</td>\n",
       "      <td>nan</td>\n",
       "      <td>nan</td>\n",
       "      <td>98718.00</td>\n",
       "      <td>nan</td>\n",
       "      <td>nan</td>\n",
       "      <td>nan</td>\n",
       "      <td>nan</td>\n",
       "      <td>98718.00</td>\n",
       "      <td>...</td>\n",
       "      <td>nan</td>\n",
       "      <td>nan</td>\n",
       "      <td>nan</td>\n",
       "      <td>nan</td>\n",
       "      <td>False</td>\n",
       "      <td>nan</td>\n",
       "      <td>nan</td>\n",
       "      <td>nan</td>\n",
       "      <td>NaN</td>\n",
       "      <td>nan</td>\n",
       "    </tr>\n",
       "    <tr>\n",
       "      <th>WROBEL BRUCE</th>\n",
       "      <td>nan</td>\n",
       "      <td>nan</td>\n",
       "      <td>nan</td>\n",
       "      <td>nan</td>\n",
       "      <td>139130.00</td>\n",
       "      <td>nan</td>\n",
       "      <td>nan</td>\n",
       "      <td>nan</td>\n",
       "      <td>nan</td>\n",
       "      <td>139130.00</td>\n",
       "      <td>...</td>\n",
       "      <td>nan</td>\n",
       "      <td>nan</td>\n",
       "      <td>nan</td>\n",
       "      <td>nan</td>\n",
       "      <td>False</td>\n",
       "      <td>nan</td>\n",
       "      <td>nan</td>\n",
       "      <td>nan</td>\n",
       "      <td>NaN</td>\n",
       "      <td>nan</td>\n",
       "    </tr>\n",
       "  </tbody>\n",
       "</table>\n",
       "<p>5 rows × 21 columns</p>\n",
       "</div>"
      ],
      "text/plain": [
       "                               salary  to_messages  deferral_payments  \\\n",
       "GRAMM WENDY L                     nan          nan                nan   \n",
       "LOCKHART EUGENE E                 nan          nan                nan   \n",
       "THE TRAVEL AGENCY IN THE PARK     nan          nan                nan   \n",
       "WHALEY DAVID A                    nan          nan                nan   \n",
       "WROBEL BRUCE                      nan          nan                nan   \n",
       "\n",
       "                               total_payments  exercised_stock_options  bonus  \\\n",
       "GRAMM WENDY L                       119292.00                      nan    nan   \n",
       "LOCKHART EUGENE E                         nan                      nan    nan   \n",
       "THE TRAVEL AGENCY IN THE PARK       362096.00                      nan    nan   \n",
       "WHALEY DAVID A                            nan                 98718.00    nan   \n",
       "WROBEL BRUCE                              nan                139130.00    nan   \n",
       "\n",
       "                               restricted_stock  shared_receipt_with_poi  \\\n",
       "GRAMM WENDY L                               nan                      nan   \n",
       "LOCKHART EUGENE E                           nan                      nan   \n",
       "THE TRAVEL AGENCY IN THE PARK               nan                      nan   \n",
       "WHALEY DAVID A                              nan                      nan   \n",
       "WROBEL BRUCE                                nan                      nan   \n",
       "\n",
       "                               restricted_stock_deferred  total_stock_value  \\\n",
       "GRAMM WENDY L                                        nan                nan   \n",
       "LOCKHART EUGENE E                                    nan                nan   \n",
       "THE TRAVEL AGENCY IN THE PARK                        nan                nan   \n",
       "WHALEY DAVID A                                       nan           98718.00   \n",
       "WROBEL BRUCE                                         nan          139130.00   \n",
       "\n",
       "                                        ...            loan_advances  \\\n",
       "GRAMM WENDY L                           ...                      nan   \n",
       "LOCKHART EUGENE E                       ...                      nan   \n",
       "THE TRAVEL AGENCY IN THE PARK           ...                      nan   \n",
       "WHALEY DAVID A                          ...                      nan   \n",
       "WROBEL BRUCE                            ...                      nan   \n",
       "\n",
       "                               from_messages     other  \\\n",
       "GRAMM WENDY L                            nan       nan   \n",
       "LOCKHART EUGENE E                        nan       nan   \n",
       "THE TRAVEL AGENCY IN THE PARK            nan 362096.00   \n",
       "WHALEY DAVID A                           nan       nan   \n",
       "WROBEL BRUCE                             nan       nan   \n",
       "\n",
       "                               from_this_person_to_poi    poi  director_fees  \\\n",
       "GRAMM WENDY L                                      nan  False      119292.00   \n",
       "LOCKHART EUGENE E                                  nan  False            nan   \n",
       "THE TRAVEL AGENCY IN THE PARK                      nan  False            nan   \n",
       "WHALEY DAVID A                                     nan  False            nan   \n",
       "WROBEL BRUCE                                       nan  False            nan   \n",
       "\n",
       "                               deferred_income  long_term_incentive  \\\n",
       "GRAMM WENDY L                              nan                  nan   \n",
       "LOCKHART EUGENE E                          nan                  nan   \n",
       "THE TRAVEL AGENCY IN THE PARK              nan                  nan   \n",
       "WHALEY DAVID A                             nan                  nan   \n",
       "WROBEL BRUCE                               nan                  nan   \n",
       "\n",
       "                               email_address from_poi_to_this_person  \n",
       "GRAMM WENDY L                            NaN                     nan  \n",
       "LOCKHART EUGENE E                        NaN                     nan  \n",
       "THE TRAVEL AGENCY IN THE PARK            NaN                     nan  \n",
       "WHALEY DAVID A                           NaN                     nan  \n",
       "WROBEL BRUCE                             NaN                     nan  \n",
       "\n",
       "[5 rows x 21 columns]"
      ]
     },
     "execution_count": 14,
     "metadata": {},
     "output_type": "execute_result"
    }
   ],
   "source": [
    "threshold = .85\n",
    "\n",
    "# Return the rows that have a percentage of their data missing.\n",
    "#\n",
    "# `enron_data.isna().sum(1)` gives the number of missing values for each person.\n",
    "# `enron_data.shape[1]` is equivalent to `len(enron_data.columns)`\n",
    "enron_data[(enron_data.isna().sum(1) / enron_data.shape[1]) > threshold]"
   ]
  },
  {
   "cell_type": "markdown",
   "metadata": {},
   "source": [
    "These really are adding little value and none of them are persons of interest. In fact `THE TRAVEL AGENCY IN THE PARK` does not represent an individual employee and may have a negative impact on out predictive model. Lets just drop them from the dataset."
   ]
  },
  {
   "cell_type": "code",
   "execution_count": 15,
   "metadata": {},
   "outputs": [],
   "source": [
    "threshold = 1 - threshold\n",
    "\n",
    "# Return the rows that have a percentage of their data present.\n",
    "#\n",
    "# `enron_data.shape[1]` is equivalent to `len(enron_data.columns)`\n",
    "enron_data = enron_data.dropna(thresh=enron_data.shape[1] * threshold)"
   ]
  },
  {
   "cell_type": "markdown",
   "metadata": {},
   "source": [
    "For various reasons, many real world datasets contain missing values, often encoded as blanks, or in the case of this dataset `np.nana` values. Such datasets however are incompatible with the estimators we'll be using in later sections which assume that all values in an array are numerical, and that all have and hold meaning. A basic strategy to use incomplete datasets is to discard entire rows and/or columns containing missing values. However, this comes at the price of losing data which may be valuable (even though incomplete) and in the case of this dataset will remove every available feature. A better strategy is to impute the missing values, i.e. to infer them from the known part of the data.\n",
    "\n",
    "There are a few statistical methods often employed to impute missing values that focus around central tendency. Each have their own qualities:\n",
    "\n",
    "- mean: The mean value is very sensitive to outliers. That is, one or two extreme values can change the mean a lot,\n",
    "- mode: Continuous data is unlikely going to have a single value that is most frequent. Therfore this is best used for catagorial data,\n",
    "- median: The mdeian is far less sensitive to outliers making it more robust."
   ]
  },
  {
   "cell_type": "markdown",
   "metadata": {},
   "source": [
    "The majority of the features in this dataset are concerned with financial data. According to the FindLaw report, where a value appears missing (has a `-` in place of a numerical value) this is equivalent to the value being `0`. This we can imagine would be true for such features as `director_fees` and `loan_advances` since the majority of Enron employees would not be directors of the company and are unlikely to be receiving loan advances. In light of this let's fill in the `np.nan` values for financial features with a `0`."
   ]
  },
  {
   "cell_type": "code",
   "execution_count": 16,
   "metadata": {},
   "outputs": [],
   "source": [
    "financial_features = payment_features + stock_value_features\n",
    "enron_data[financial_features] = enron_data[financial_features].fillna(0)"
   ]
  },
  {
   "cell_type": "markdown",
   "metadata": {},
   "source": [
    "As for the other type of feature concerning numbers of emails being sent to and from Enron emplyees, `np.nan` values indicate that the data is unknown. For this type of feature I want to infer the values from the available data, most likely using the median value given it is less sensitive to outliers. However imputing the data this early may be a mistake; something that is dicussed further in the section on data leakage, more specifically validation leakage.\n",
    "\n",
    "Despite the risk of imputing data this early I am forced to do so anyway because the `test_classifier` method I will later use to evaluate my classifier does not allow for the validation data (after being split) to be imputed, or manipulated in any way.\n",
    "\n",
    "Because the behaviour of a person of interest is likely to differ from somebody we're not interested in I will separately impute the values for the two classes. I feel this will provide a more accurate and fair assesment of each classes distribution of email values."
   ]
  },
  {
   "cell_type": "code",
   "execution_count": 17,
   "metadata": {},
   "outputs": [],
   "source": [
    "from sklearn.preprocessing import Imputer\n",
    "\n",
    "email_features = ['from_messages', 'from_poi_to_this_person', 'from_this_person_to_poi',\n",
    "                  'shared_receipt_with_poi', 'to_messages']\n",
    "\n",
    "poi_email_features = enron_data.loc[enron_data.poi == True, email_features]\n",
    "non_poi_email_features = enron_data.loc[enron_data.poi == False, email_features]\n",
    "\n",
    "# Simple imputer using the median value for each feature.\n",
    "median_imputer = Imputer(missing_values=np.nan, strategy='median')\n",
    "\n",
    "enron_data.loc[enron_data.poi == True, email_features] = median_imputer.fit_transform(poi_email_features)\n",
    "enron_data.loc[enron_data.poi == False, email_features] = median_imputer.fit_transform(non_poi_email_features)"
   ]
  },
  {
   "cell_type": "markdown",
   "metadata": {},
   "source": [
    "The one exception within the email features is `email_address` which is a text value where perhaps `np.nan` values should be treated as empty strings. However since the sklearn estimators require values to be numerical I will just remove the `email_address` feature entirely."
   ]
  },
  {
   "cell_type": "code",
   "execution_count": 18,
   "metadata": {},
   "outputs": [],
   "source": [
    "enron_data = enron_data.drop(columns=['email_address'])"
   ]
  },
  {
   "cell_type": "markdown",
   "metadata": {},
   "source": [
    "### Data Leakage"
   ]
  },
  {
   "cell_type": "markdown",
   "metadata": {},
   "source": [
    "Data leakage causes a predictive model to appear accurate on the validation data but perform poorly when trying to use the model to make further predictions on completely new data. It is a type of overfitting that can be difficult to track down.\n",
    "\n",
    "There are two main types of data leakage: Label leakage and validation leakage."
   ]
  },
  {
   "cell_type": "markdown",
   "metadata": {},
   "source": [
    "#### Label leakage"
   ]
  },
  {
   "cell_type": "markdown",
   "metadata": {},
   "source": [
    "Label leakage [1] occurs when a predictive model includes data that will not be available at prediction time. This is a subtle form of cheating caused by features that give a bias towards the target label. For example if trying to predict whether an Enron employee is a person of interest we were given a feature expressing whether they had been incarcerated, `is_incarcerated`, this could possibly be an extremely useful indicator as to whether the Enron employee was in fact a person of interest.\n",
    "\n",
    "In this example an employee will be incarcerated after they are given the status person of interest. So the raw dataset shows a strong correlation between the two features. But `is_incarcerated` will frequently be changed __after__ the value for `poi` is determined.\n",
    "\n",
    "The predictive model will show that a value of `False` for `is_incarcerated` indicates that an employee is not a person of interest. Since the validation data comes from the same source as the testing data this pattern will continue and the model will perform very well. However the same model will perform poorly when used on new data not containing the `is_incarcerated` feature. It is generally recommended that to prevent this type of data leakage, any variables updated (or created) after the target label is realised should be excluded from the dataset."
   ]
  },
  {
   "cell_type": "markdown",
   "metadata": {},
   "source": [
    "There is no single solution that universally solves label leakage. It requires knowledge about your data, case-specific inspection and common sense.\n",
    "\n",
    "However, in most cases of label leakage there exists 1 or more features having a high statistical correlation to the target label. So two tactics to keep in mind:\n",
    "\n",
    "1. To screen for possible target leakage, look for columns that are statistically correlated to your target.\n",
    "1. If you build a model and find it extremely accurate, you likely have a leakage problem."
   ]
  },
  {
   "cell_type": "markdown",
   "metadata": {},
   "source": [
    "We can check for correlated values in our dataset by computing a pairwise correlation of columns, excluding NA/null values. Specifically we're interested in features that have a high correlation to the target label, `poi`."
   ]
  },
  {
   "cell_type": "code",
   "execution_count": 19,
   "metadata": {},
   "outputs": [
    {
     "data": {
      "text/html": [
       "<div>\n",
       "<style scoped>\n",
       "    .dataframe tbody tr th:only-of-type {\n",
       "        vertical-align: middle;\n",
       "    }\n",
       "\n",
       "    .dataframe tbody tr th {\n",
       "        vertical-align: top;\n",
       "    }\n",
       "\n",
       "    .dataframe thead th {\n",
       "        text-align: right;\n",
       "    }\n",
       "</style>\n",
       "<table border=\"1\" class=\"dataframe\">\n",
       "  <thead>\n",
       "    <tr style=\"text-align: right;\">\n",
       "      <th></th>\n",
       "      <th>salary</th>\n",
       "      <th>to_messages</th>\n",
       "      <th>deferral_payments</th>\n",
       "      <th>total_payments</th>\n",
       "      <th>exercised_stock_options</th>\n",
       "      <th>bonus</th>\n",
       "      <th>restricted_stock</th>\n",
       "      <th>shared_receipt_with_poi</th>\n",
       "      <th>restricted_stock_deferred</th>\n",
       "      <th>total_stock_value</th>\n",
       "      <th>expenses</th>\n",
       "      <th>loan_advances</th>\n",
       "      <th>from_messages</th>\n",
       "      <th>other</th>\n",
       "      <th>from_this_person_to_poi</th>\n",
       "      <th>poi</th>\n",
       "      <th>director_fees</th>\n",
       "      <th>deferred_income</th>\n",
       "      <th>long_term_incentive</th>\n",
       "      <th>from_poi_to_this_person</th>\n",
       "    </tr>\n",
       "  </thead>\n",
       "  <tbody>\n",
       "    <tr>\n",
       "      <th>salary</th>\n",
       "      <td>1.00</td>\n",
       "      <td>0.00</td>\n",
       "      <td>0.96</td>\n",
       "      <td>0.96</td>\n",
       "      <td>0.99</td>\n",
       "      <td>0.99</td>\n",
       "      <td>0.99</td>\n",
       "      <td>0.01</td>\n",
       "      <td>-0.91</td>\n",
       "      <td>0.99</td>\n",
       "      <td>0.99</td>\n",
       "      <td>0.74</td>\n",
       "      <td>-0.01</td>\n",
       "      <td>0.96</td>\n",
       "      <td>-0.01</td>\n",
       "      <td>-0.00</td>\n",
       "      <td>0.96</td>\n",
       "      <td>-0.97</td>\n",
       "      <td>0.99</td>\n",
       "      <td>0.00</td>\n",
       "    </tr>\n",
       "    <tr>\n",
       "      <th>to_messages</th>\n",
       "      <td>0.00</td>\n",
       "      <td>1.00</td>\n",
       "      <td>-0.00</td>\n",
       "      <td>0.03</td>\n",
       "      <td>-0.01</td>\n",
       "      <td>0.04</td>\n",
       "      <td>0.00</td>\n",
       "      <td>0.86</td>\n",
       "      <td>0.04</td>\n",
       "      <td>-0.01</td>\n",
       "      <td>-0.01</td>\n",
       "      <td>0.05</td>\n",
       "      <td>0.50</td>\n",
       "      <td>0.00</td>\n",
       "      <td>0.59</td>\n",
       "      <td>0.12</td>\n",
       "      <td>-0.05</td>\n",
       "      <td>0.00</td>\n",
       "      <td>-0.00</td>\n",
       "      <td>0.56</td>\n",
       "    </tr>\n",
       "    <tr>\n",
       "      <th>deferral_payments</th>\n",
       "      <td>0.96</td>\n",
       "      <td>-0.00</td>\n",
       "      <td>1.00</td>\n",
       "      <td>0.92</td>\n",
       "      <td>0.95</td>\n",
       "      <td>0.96</td>\n",
       "      <td>0.95</td>\n",
       "      <td>0.02</td>\n",
       "      <td>-0.88</td>\n",
       "      <td>0.95</td>\n",
       "      <td>0.96</td>\n",
       "      <td>0.69</td>\n",
       "      <td>-0.01</td>\n",
       "      <td>0.95</td>\n",
       "      <td>-0.02</td>\n",
       "      <td>-0.04</td>\n",
       "      <td>0.93</td>\n",
       "      <td>-0.97</td>\n",
       "      <td>0.95</td>\n",
       "      <td>0.03</td>\n",
       "    </tr>\n",
       "    <tr>\n",
       "      <th>total_payments</th>\n",
       "      <td>0.96</td>\n",
       "      <td>0.03</td>\n",
       "      <td>0.92</td>\n",
       "      <td>1.00</td>\n",
       "      <td>0.96</td>\n",
       "      <td>0.96</td>\n",
       "      <td>0.97</td>\n",
       "      <td>0.05</td>\n",
       "      <td>-0.86</td>\n",
       "      <td>0.97</td>\n",
       "      <td>0.95</td>\n",
       "      <td>0.90</td>\n",
       "      <td>-0.02</td>\n",
       "      <td>0.98</td>\n",
       "      <td>-0.00</td>\n",
       "      <td>0.05</td>\n",
       "      <td>0.91</td>\n",
       "      <td>-0.92</td>\n",
       "      <td>0.96</td>\n",
       "      <td>0.04</td>\n",
       "    </tr>\n",
       "    <tr>\n",
       "      <th>exercised_stock_options</th>\n",
       "      <td>0.99</td>\n",
       "      <td>-0.01</td>\n",
       "      <td>0.95</td>\n",
       "      <td>0.96</td>\n",
       "      <td>1.00</td>\n",
       "      <td>0.98</td>\n",
       "      <td>0.99</td>\n",
       "      <td>-0.00</td>\n",
       "      <td>-0.92</td>\n",
       "      <td>1.00</td>\n",
       "      <td>0.98</td>\n",
       "      <td>0.77</td>\n",
       "      <td>-0.03</td>\n",
       "      <td>0.97</td>\n",
       "      <td>-0.02</td>\n",
       "      <td>0.04</td>\n",
       "      <td>0.95</td>\n",
       "      <td>-0.96</td>\n",
       "      <td>0.98</td>\n",
       "      <td>-0.00</td>\n",
       "    </tr>\n",
       "    <tr>\n",
       "      <th>bonus</th>\n",
       "      <td>0.99</td>\n",
       "      <td>0.04</td>\n",
       "      <td>0.96</td>\n",
       "      <td>0.96</td>\n",
       "      <td>0.98</td>\n",
       "      <td>1.00</td>\n",
       "      <td>0.98</td>\n",
       "      <td>0.06</td>\n",
       "      <td>-0.90</td>\n",
       "      <td>0.99</td>\n",
       "      <td>0.99</td>\n",
       "      <td>0.75</td>\n",
       "      <td>0.01</td>\n",
       "      <td>0.96</td>\n",
       "      <td>0.04</td>\n",
       "      <td>0.02</td>\n",
       "      <td>0.95</td>\n",
       "      <td>-0.97</td>\n",
       "      <td>0.99</td>\n",
       "      <td>0.06</td>\n",
       "    </tr>\n",
       "    <tr>\n",
       "      <th>restricted_stock</th>\n",
       "      <td>0.99</td>\n",
       "      <td>0.00</td>\n",
       "      <td>0.95</td>\n",
       "      <td>0.97</td>\n",
       "      <td>0.99</td>\n",
       "      <td>0.98</td>\n",
       "      <td>1.00</td>\n",
       "      <td>0.00</td>\n",
       "      <td>-0.91</td>\n",
       "      <td>0.99</td>\n",
       "      <td>0.98</td>\n",
       "      <td>0.78</td>\n",
       "      <td>-0.02</td>\n",
       "      <td>0.97</td>\n",
       "      <td>-0.01</td>\n",
       "      <td>0.01</td>\n",
       "      <td>0.95</td>\n",
       "      <td>-0.96</td>\n",
       "      <td>0.98</td>\n",
       "      <td>-0.01</td>\n",
       "    </tr>\n",
       "    <tr>\n",
       "      <th>shared_receipt_with_poi</th>\n",
       "      <td>0.01</td>\n",
       "      <td>0.86</td>\n",
       "      <td>0.02</td>\n",
       "      <td>0.05</td>\n",
       "      <td>-0.00</td>\n",
       "      <td>0.06</td>\n",
       "      <td>0.00</td>\n",
       "      <td>1.00</td>\n",
       "      <td>0.05</td>\n",
       "      <td>-0.00</td>\n",
       "      <td>-0.00</td>\n",
       "      <td>0.07</td>\n",
       "      <td>0.26</td>\n",
       "      <td>0.02</td>\n",
       "      <td>0.50</td>\n",
       "      <td>0.30</td>\n",
       "      <td>-0.06</td>\n",
       "      <td>-0.03</td>\n",
       "      <td>0.01</td>\n",
       "      <td>0.68</td>\n",
       "    </tr>\n",
       "    <tr>\n",
       "      <th>restricted_stock_deferred</th>\n",
       "      <td>-0.91</td>\n",
       "      <td>0.04</td>\n",
       "      <td>-0.88</td>\n",
       "      <td>-0.86</td>\n",
       "      <td>-0.92</td>\n",
       "      <td>-0.90</td>\n",
       "      <td>-0.91</td>\n",
       "      <td>0.05</td>\n",
       "      <td>1.00</td>\n",
       "      <td>-0.91</td>\n",
       "      <td>-0.92</td>\n",
       "      <td>-0.65</td>\n",
       "      <td>0.02</td>\n",
       "      <td>-0.87</td>\n",
       "      <td>0.04</td>\n",
       "      <td>0.06</td>\n",
       "      <td>-0.88</td>\n",
       "      <td>0.89</td>\n",
       "      <td>-0.90</td>\n",
       "      <td>0.04</td>\n",
       "    </tr>\n",
       "    <tr>\n",
       "      <th>total_stock_value</th>\n",
       "      <td>0.99</td>\n",
       "      <td>-0.01</td>\n",
       "      <td>0.95</td>\n",
       "      <td>0.97</td>\n",
       "      <td>1.00</td>\n",
       "      <td>0.99</td>\n",
       "      <td>0.99</td>\n",
       "      <td>-0.00</td>\n",
       "      <td>-0.91</td>\n",
       "      <td>1.00</td>\n",
       "      <td>0.98</td>\n",
       "      <td>0.78</td>\n",
       "      <td>-0.02</td>\n",
       "      <td>0.97</td>\n",
       "      <td>-0.02</td>\n",
       "      <td>0.03</td>\n",
       "      <td>0.95</td>\n",
       "      <td>-0.96</td>\n",
       "      <td>0.98</td>\n",
       "      <td>-0.00</td>\n",
       "    </tr>\n",
       "    <tr>\n",
       "      <th>expenses</th>\n",
       "      <td>0.99</td>\n",
       "      <td>-0.01</td>\n",
       "      <td>0.96</td>\n",
       "      <td>0.95</td>\n",
       "      <td>0.98</td>\n",
       "      <td>0.99</td>\n",
       "      <td>0.98</td>\n",
       "      <td>-0.00</td>\n",
       "      <td>-0.92</td>\n",
       "      <td>0.98</td>\n",
       "      <td>1.00</td>\n",
       "      <td>0.72</td>\n",
       "      <td>-0.01</td>\n",
       "      <td>0.95</td>\n",
       "      <td>-0.01</td>\n",
       "      <td>-0.01</td>\n",
       "      <td>0.96</td>\n",
       "      <td>-0.96</td>\n",
       "      <td>0.98</td>\n",
       "      <td>-0.02</td>\n",
       "    </tr>\n",
       "    <tr>\n",
       "      <th>loan_advances</th>\n",
       "      <td>0.74</td>\n",
       "      <td>0.05</td>\n",
       "      <td>0.69</td>\n",
       "      <td>0.90</td>\n",
       "      <td>0.77</td>\n",
       "      <td>0.75</td>\n",
       "      <td>0.78</td>\n",
       "      <td>0.07</td>\n",
       "      <td>-0.65</td>\n",
       "      <td>0.78</td>\n",
       "      <td>0.72</td>\n",
       "      <td>1.00</td>\n",
       "      <td>-0.03</td>\n",
       "      <td>0.84</td>\n",
       "      <td>-0.03</td>\n",
       "      <td>0.13</td>\n",
       "      <td>0.69</td>\n",
       "      <td>-0.70</td>\n",
       "      <td>0.75</td>\n",
       "      <td>0.04</td>\n",
       "    </tr>\n",
       "    <tr>\n",
       "      <th>from_messages</th>\n",
       "      <td>-0.01</td>\n",
       "      <td>0.50</td>\n",
       "      <td>-0.01</td>\n",
       "      <td>-0.02</td>\n",
       "      <td>-0.03</td>\n",
       "      <td>0.01</td>\n",
       "      <td>-0.02</td>\n",
       "      <td>0.26</td>\n",
       "      <td>0.02</td>\n",
       "      <td>-0.02</td>\n",
       "      <td>-0.01</td>\n",
       "      <td>-0.03</td>\n",
       "      <td>1.00</td>\n",
       "      <td>-0.04</td>\n",
       "      <td>0.61</td>\n",
       "      <td>-0.04</td>\n",
       "      <td>-0.04</td>\n",
       "      <td>0.02</td>\n",
       "      <td>-0.01</td>\n",
       "      <td>0.22</td>\n",
       "    </tr>\n",
       "    <tr>\n",
       "      <th>other</th>\n",
       "      <td>0.96</td>\n",
       "      <td>0.00</td>\n",
       "      <td>0.95</td>\n",
       "      <td>0.98</td>\n",
       "      <td>0.97</td>\n",
       "      <td>0.96</td>\n",
       "      <td>0.97</td>\n",
       "      <td>0.02</td>\n",
       "      <td>-0.87</td>\n",
       "      <td>0.97</td>\n",
       "      <td>0.95</td>\n",
       "      <td>0.84</td>\n",
       "      <td>-0.04</td>\n",
       "      <td>1.00</td>\n",
       "      <td>-0.04</td>\n",
       "      <td>0.02</td>\n",
       "      <td>0.92</td>\n",
       "      <td>-0.94</td>\n",
       "      <td>0.97</td>\n",
       "      <td>0.02</td>\n",
       "    </tr>\n",
       "    <tr>\n",
       "      <th>from_this_person_to_poi</th>\n",
       "      <td>-0.01</td>\n",
       "      <td>0.59</td>\n",
       "      <td>-0.02</td>\n",
       "      <td>-0.00</td>\n",
       "      <td>-0.02</td>\n",
       "      <td>0.04</td>\n",
       "      <td>-0.01</td>\n",
       "      <td>0.50</td>\n",
       "      <td>0.04</td>\n",
       "      <td>-0.02</td>\n",
       "      <td>-0.01</td>\n",
       "      <td>-0.03</td>\n",
       "      <td>0.61</td>\n",
       "      <td>-0.04</td>\n",
       "      <td>1.00</td>\n",
       "      <td>0.13</td>\n",
       "      <td>-0.04</td>\n",
       "      <td>0.02</td>\n",
       "      <td>0.00</td>\n",
       "      <td>0.47</td>\n",
       "    </tr>\n",
       "    <tr>\n",
       "      <th>poi</th>\n",
       "      <td>-0.00</td>\n",
       "      <td>0.12</td>\n",
       "      <td>-0.04</td>\n",
       "      <td>0.05</td>\n",
       "      <td>0.04</td>\n",
       "      <td>0.02</td>\n",
       "      <td>0.01</td>\n",
       "      <td>0.30</td>\n",
       "      <td>0.06</td>\n",
       "      <td>0.03</td>\n",
       "      <td>-0.01</td>\n",
       "      <td>0.13</td>\n",
       "      <td>-0.04</td>\n",
       "      <td>0.02</td>\n",
       "      <td>0.13</td>\n",
       "      <td>1.00</td>\n",
       "      <td>-0.06</td>\n",
       "      <td>-0.04</td>\n",
       "      <td>0.01</td>\n",
       "      <td>0.21</td>\n",
       "    </tr>\n",
       "    <tr>\n",
       "      <th>director_fees</th>\n",
       "      <td>0.96</td>\n",
       "      <td>-0.05</td>\n",
       "      <td>0.93</td>\n",
       "      <td>0.91</td>\n",
       "      <td>0.95</td>\n",
       "      <td>0.95</td>\n",
       "      <td>0.95</td>\n",
       "      <td>-0.06</td>\n",
       "      <td>-0.88</td>\n",
       "      <td>0.95</td>\n",
       "      <td>0.96</td>\n",
       "      <td>0.69</td>\n",
       "      <td>-0.04</td>\n",
       "      <td>0.92</td>\n",
       "      <td>-0.04</td>\n",
       "      <td>-0.06</td>\n",
       "      <td>1.00</td>\n",
       "      <td>-0.93</td>\n",
       "      <td>0.95</td>\n",
       "      <td>-0.06</td>\n",
       "    </tr>\n",
       "    <tr>\n",
       "      <th>deferred_income</th>\n",
       "      <td>-0.97</td>\n",
       "      <td>0.00</td>\n",
       "      <td>-0.97</td>\n",
       "      <td>-0.92</td>\n",
       "      <td>-0.96</td>\n",
       "      <td>-0.97</td>\n",
       "      <td>-0.96</td>\n",
       "      <td>-0.03</td>\n",
       "      <td>0.89</td>\n",
       "      <td>-0.96</td>\n",
       "      <td>-0.96</td>\n",
       "      <td>-0.70</td>\n",
       "      <td>0.02</td>\n",
       "      <td>-0.94</td>\n",
       "      <td>0.02</td>\n",
       "      <td>-0.04</td>\n",
       "      <td>-0.93</td>\n",
       "      <td>1.00</td>\n",
       "      <td>-0.97</td>\n",
       "      <td>-0.02</td>\n",
       "    </tr>\n",
       "    <tr>\n",
       "      <th>long_term_incentive</th>\n",
       "      <td>0.99</td>\n",
       "      <td>-0.00</td>\n",
       "      <td>0.95</td>\n",
       "      <td>0.96</td>\n",
       "      <td>0.98</td>\n",
       "      <td>0.99</td>\n",
       "      <td>0.98</td>\n",
       "      <td>0.01</td>\n",
       "      <td>-0.90</td>\n",
       "      <td>0.98</td>\n",
       "      <td>0.98</td>\n",
       "      <td>0.75</td>\n",
       "      <td>-0.01</td>\n",
       "      <td>0.97</td>\n",
       "      <td>0.00</td>\n",
       "      <td>0.01</td>\n",
       "      <td>0.95</td>\n",
       "      <td>-0.97</td>\n",
       "      <td>1.00</td>\n",
       "      <td>0.01</td>\n",
       "    </tr>\n",
       "    <tr>\n",
       "      <th>from_poi_to_this_person</th>\n",
       "      <td>0.00</td>\n",
       "      <td>0.56</td>\n",
       "      <td>0.03</td>\n",
       "      <td>0.04</td>\n",
       "      <td>-0.00</td>\n",
       "      <td>0.06</td>\n",
       "      <td>-0.01</td>\n",
       "      <td>0.68</td>\n",
       "      <td>0.04</td>\n",
       "      <td>-0.00</td>\n",
       "      <td>-0.02</td>\n",
       "      <td>0.04</td>\n",
       "      <td>0.22</td>\n",
       "      <td>0.02</td>\n",
       "      <td>0.47</td>\n",
       "      <td>0.21</td>\n",
       "      <td>-0.06</td>\n",
       "      <td>-0.02</td>\n",
       "      <td>0.01</td>\n",
       "      <td>1.00</td>\n",
       "    </tr>\n",
       "  </tbody>\n",
       "</table>\n",
       "</div>"
      ],
      "text/plain": [
       "                           salary  to_messages  deferral_payments  \\\n",
       "salary                       1.00         0.00               0.96   \n",
       "to_messages                  0.00         1.00              -0.00   \n",
       "deferral_payments            0.96        -0.00               1.00   \n",
       "total_payments               0.96         0.03               0.92   \n",
       "exercised_stock_options      0.99        -0.01               0.95   \n",
       "bonus                        0.99         0.04               0.96   \n",
       "restricted_stock             0.99         0.00               0.95   \n",
       "shared_receipt_with_poi      0.01         0.86               0.02   \n",
       "restricted_stock_deferred   -0.91         0.04              -0.88   \n",
       "total_stock_value            0.99        -0.01               0.95   \n",
       "expenses                     0.99        -0.01               0.96   \n",
       "loan_advances                0.74         0.05               0.69   \n",
       "from_messages               -0.01         0.50              -0.01   \n",
       "other                        0.96         0.00               0.95   \n",
       "from_this_person_to_poi     -0.01         0.59              -0.02   \n",
       "poi                         -0.00         0.12              -0.04   \n",
       "director_fees                0.96        -0.05               0.93   \n",
       "deferred_income             -0.97         0.00              -0.97   \n",
       "long_term_incentive          0.99        -0.00               0.95   \n",
       "from_poi_to_this_person      0.00         0.56               0.03   \n",
       "\n",
       "                           total_payments  exercised_stock_options  bonus  \\\n",
       "salary                               0.96                     0.99   0.99   \n",
       "to_messages                          0.03                    -0.01   0.04   \n",
       "deferral_payments                    0.92                     0.95   0.96   \n",
       "total_payments                       1.00                     0.96   0.96   \n",
       "exercised_stock_options              0.96                     1.00   0.98   \n",
       "bonus                                0.96                     0.98   1.00   \n",
       "restricted_stock                     0.97                     0.99   0.98   \n",
       "shared_receipt_with_poi              0.05                    -0.00   0.06   \n",
       "restricted_stock_deferred           -0.86                    -0.92  -0.90   \n",
       "total_stock_value                    0.97                     1.00   0.99   \n",
       "expenses                             0.95                     0.98   0.99   \n",
       "loan_advances                        0.90                     0.77   0.75   \n",
       "from_messages                       -0.02                    -0.03   0.01   \n",
       "other                                0.98                     0.97   0.96   \n",
       "from_this_person_to_poi             -0.00                    -0.02   0.04   \n",
       "poi                                  0.05                     0.04   0.02   \n",
       "director_fees                        0.91                     0.95   0.95   \n",
       "deferred_income                     -0.92                    -0.96  -0.97   \n",
       "long_term_incentive                  0.96                     0.98   0.99   \n",
       "from_poi_to_this_person              0.04                    -0.00   0.06   \n",
       "\n",
       "                           restricted_stock  shared_receipt_with_poi  \\\n",
       "salary                                 0.99                     0.01   \n",
       "to_messages                            0.00                     0.86   \n",
       "deferral_payments                      0.95                     0.02   \n",
       "total_payments                         0.97                     0.05   \n",
       "exercised_stock_options                0.99                    -0.00   \n",
       "bonus                                  0.98                     0.06   \n",
       "restricted_stock                       1.00                     0.00   \n",
       "shared_receipt_with_poi                0.00                     1.00   \n",
       "restricted_stock_deferred             -0.91                     0.05   \n",
       "total_stock_value                      0.99                    -0.00   \n",
       "expenses                               0.98                    -0.00   \n",
       "loan_advances                          0.78                     0.07   \n",
       "from_messages                         -0.02                     0.26   \n",
       "other                                  0.97                     0.02   \n",
       "from_this_person_to_poi               -0.01                     0.50   \n",
       "poi                                    0.01                     0.30   \n",
       "director_fees                          0.95                    -0.06   \n",
       "deferred_income                       -0.96                    -0.03   \n",
       "long_term_incentive                    0.98                     0.01   \n",
       "from_poi_to_this_person               -0.01                     0.68   \n",
       "\n",
       "                           restricted_stock_deferred  total_stock_value  \\\n",
       "salary                                         -0.91               0.99   \n",
       "to_messages                                     0.04              -0.01   \n",
       "deferral_payments                              -0.88               0.95   \n",
       "total_payments                                 -0.86               0.97   \n",
       "exercised_stock_options                        -0.92               1.00   \n",
       "bonus                                          -0.90               0.99   \n",
       "restricted_stock                               -0.91               0.99   \n",
       "shared_receipt_with_poi                         0.05              -0.00   \n",
       "restricted_stock_deferred                       1.00              -0.91   \n",
       "total_stock_value                              -0.91               1.00   \n",
       "expenses                                       -0.92               0.98   \n",
       "loan_advances                                  -0.65               0.78   \n",
       "from_messages                                   0.02              -0.02   \n",
       "other                                          -0.87               0.97   \n",
       "from_this_person_to_poi                         0.04              -0.02   \n",
       "poi                                             0.06               0.03   \n",
       "director_fees                                  -0.88               0.95   \n",
       "deferred_income                                 0.89              -0.96   \n",
       "long_term_incentive                            -0.90               0.98   \n",
       "from_poi_to_this_person                         0.04              -0.00   \n",
       "\n",
       "                           expenses  loan_advances  from_messages  other  \\\n",
       "salary                         0.99           0.74          -0.01   0.96   \n",
       "to_messages                   -0.01           0.05           0.50   0.00   \n",
       "deferral_payments              0.96           0.69          -0.01   0.95   \n",
       "total_payments                 0.95           0.90          -0.02   0.98   \n",
       "exercised_stock_options        0.98           0.77          -0.03   0.97   \n",
       "bonus                          0.99           0.75           0.01   0.96   \n",
       "restricted_stock               0.98           0.78          -0.02   0.97   \n",
       "shared_receipt_with_poi       -0.00           0.07           0.26   0.02   \n",
       "restricted_stock_deferred     -0.92          -0.65           0.02  -0.87   \n",
       "total_stock_value              0.98           0.78          -0.02   0.97   \n",
       "expenses                       1.00           0.72          -0.01   0.95   \n",
       "loan_advances                  0.72           1.00          -0.03   0.84   \n",
       "from_messages                 -0.01          -0.03           1.00  -0.04   \n",
       "other                          0.95           0.84          -0.04   1.00   \n",
       "from_this_person_to_poi       -0.01          -0.03           0.61  -0.04   \n",
       "poi                           -0.01           0.13          -0.04   0.02   \n",
       "director_fees                  0.96           0.69          -0.04   0.92   \n",
       "deferred_income               -0.96          -0.70           0.02  -0.94   \n",
       "long_term_incentive            0.98           0.75          -0.01   0.97   \n",
       "from_poi_to_this_person       -0.02           0.04           0.22   0.02   \n",
       "\n",
       "                           from_this_person_to_poi   poi  director_fees  \\\n",
       "salary                                       -0.01 -0.00           0.96   \n",
       "to_messages                                   0.59  0.12          -0.05   \n",
       "deferral_payments                            -0.02 -0.04           0.93   \n",
       "total_payments                               -0.00  0.05           0.91   \n",
       "exercised_stock_options                      -0.02  0.04           0.95   \n",
       "bonus                                         0.04  0.02           0.95   \n",
       "restricted_stock                             -0.01  0.01           0.95   \n",
       "shared_receipt_with_poi                       0.50  0.30          -0.06   \n",
       "restricted_stock_deferred                     0.04  0.06          -0.88   \n",
       "total_stock_value                            -0.02  0.03           0.95   \n",
       "expenses                                     -0.01 -0.01           0.96   \n",
       "loan_advances                                -0.03  0.13           0.69   \n",
       "from_messages                                 0.61 -0.04          -0.04   \n",
       "other                                        -0.04  0.02           0.92   \n",
       "from_this_person_to_poi                       1.00  0.13          -0.04   \n",
       "poi                                           0.13  1.00          -0.06   \n",
       "director_fees                                -0.04 -0.06           1.00   \n",
       "deferred_income                               0.02 -0.04          -0.93   \n",
       "long_term_incentive                           0.00  0.01           0.95   \n",
       "from_poi_to_this_person                       0.47  0.21          -0.06   \n",
       "\n",
       "                           deferred_income  long_term_incentive  \\\n",
       "salary                               -0.97                 0.99   \n",
       "to_messages                           0.00                -0.00   \n",
       "deferral_payments                    -0.97                 0.95   \n",
       "total_payments                       -0.92                 0.96   \n",
       "exercised_stock_options              -0.96                 0.98   \n",
       "bonus                                -0.97                 0.99   \n",
       "restricted_stock                     -0.96                 0.98   \n",
       "shared_receipt_with_poi              -0.03                 0.01   \n",
       "restricted_stock_deferred             0.89                -0.90   \n",
       "total_stock_value                    -0.96                 0.98   \n",
       "expenses                             -0.96                 0.98   \n",
       "loan_advances                        -0.70                 0.75   \n",
       "from_messages                         0.02                -0.01   \n",
       "other                                -0.94                 0.97   \n",
       "from_this_person_to_poi               0.02                 0.00   \n",
       "poi                                  -0.04                 0.01   \n",
       "director_fees                        -0.93                 0.95   \n",
       "deferred_income                       1.00                -0.97   \n",
       "long_term_incentive                  -0.97                 1.00   \n",
       "from_poi_to_this_person              -0.02                 0.01   \n",
       "\n",
       "                           from_poi_to_this_person  \n",
       "salary                                        0.00  \n",
       "to_messages                                   0.56  \n",
       "deferral_payments                             0.03  \n",
       "total_payments                                0.04  \n",
       "exercised_stock_options                      -0.00  \n",
       "bonus                                         0.06  \n",
       "restricted_stock                             -0.01  \n",
       "shared_receipt_with_poi                       0.68  \n",
       "restricted_stock_deferred                     0.04  \n",
       "total_stock_value                            -0.00  \n",
       "expenses                                     -0.02  \n",
       "loan_advances                                 0.04  \n",
       "from_messages                                 0.22  \n",
       "other                                         0.02  \n",
       "from_this_person_to_poi                       0.47  \n",
       "poi                                           0.21  \n",
       "director_fees                                -0.06  \n",
       "deferred_income                              -0.02  \n",
       "long_term_incentive                           0.01  \n",
       "from_poi_to_this_person                       1.00  "
      ]
     },
     "execution_count": 19,
     "metadata": {},
     "output_type": "execute_result"
    }
   ],
   "source": [
    "enron_data.corr()"
   ]
  },
  {
   "cell_type": "markdown",
   "metadata": {},
   "source": [
    "Perhaps not so surprisingly the email features that include emails to/from a poi have a slightly more significant correlation than other features. However quite interestingly `loan_advances` has the highest corrlelation of the financial features to the target label at `0.13`. This is not high enough to be of any conern so I'll not be remving any features from the dataset."
   ]
  },
  {
   "cell_type": "markdown",
   "metadata": {},
   "source": [
    "#### Validation Leakage"
   ]
  },
  {
   "cell_type": "markdown",
   "metadata": {},
   "source": [
    "A much different type of leak occurs when you aren't careful distinguishing training data from validation data [2]. For example, this happens if you run preprocessing (like fitting the Imputer for missing values) before calling [`sklearn.model_selection.train_test_split`](http://scikit-learn.org/stable/modules/generated/sklearn.model_selection.train_test_split.html). Validation is meant to be a measure of how the model does on data it hasn't considered before. You can corrupt this process in subtle ways if the validation data affects the preprocessing behaviour. The end result is that your model will get very good validation scores, giving you great confidence, but perform poorly when deployed to make decisions.\n",
    "\n",
    "If your validation is based on a simple train-test split, exclude the validation data from any type of fitting, including the fitting of preprocessing steps. This is easier if you use [`sklearn.pipeline.Pipeline`](http://scikit-learn.org/stable/modules/generated/sklearn.pipeline.Pipeline.html). When using cross-validation, it's even more critical that you use pipelines and do your preprocessing inside the pipeline."
   ]
  },
  {
   "cell_type": "markdown",
   "metadata": {},
   "source": [
    "### Outliers"
   ]
  },
  {
   "cell_type": "markdown",
   "metadata": {},
   "source": [
    "In previous sections I've cleaned data that exhibited issues with data entry and missing values. Now I would like to discover the outliers. This part of the data exploration has deliberately been left until last. The reson being that this step is destructive. That is up until now we have been correcting the data so that it is true to the source, or using sensible data where it was otherwise not available. In this section I will remove data that will not be useful to the investigation."
   ]
  },
  {
   "cell_type": "markdown",
   "metadata": {},
   "source": [
    "Conveninently the definition of an outlier can be described as a point which falls more than 1.5 times the interquartile range above the third quartile or below the first quartile."
   ]
  },
  {
   "cell_type": "code",
   "execution_count": 20,
   "metadata": {},
   "outputs": [
    {
     "data": {
      "text/html": [
       "<div>\n",
       "<style scoped>\n",
       "    .dataframe tbody tr th:only-of-type {\n",
       "        vertical-align: middle;\n",
       "    }\n",
       "\n",
       "    .dataframe tbody tr th {\n",
       "        vertical-align: top;\n",
       "    }\n",
       "\n",
       "    .dataframe thead th {\n",
       "        text-align: right;\n",
       "    }\n",
       "</style>\n",
       "<table border=\"1\" class=\"dataframe\">\n",
       "  <thead>\n",
       "    <tr style=\"text-align: right;\">\n",
       "      <th></th>\n",
       "      <th># of outliers</th>\n",
       "      <th>poi</th>\n",
       "    </tr>\n",
       "  </thead>\n",
       "  <tbody>\n",
       "    <tr>\n",
       "      <th>FREVERT MARK A</th>\n",
       "      <td>13</td>\n",
       "      <td>False</td>\n",
       "    </tr>\n",
       "    <tr>\n",
       "      <th>LAY KENNETH L</th>\n",
       "      <td>13</td>\n",
       "      <td>True</td>\n",
       "    </tr>\n",
       "    <tr>\n",
       "      <th>SKILLING JEFFREY K</th>\n",
       "      <td>12</td>\n",
       "      <td>True</td>\n",
       "    </tr>\n",
       "    <tr>\n",
       "      <th>TOTAL</th>\n",
       "      <td>12</td>\n",
       "      <td>False</td>\n",
       "    </tr>\n",
       "    <tr>\n",
       "      <th>WHALLEY LAWRENCE G</th>\n",
       "      <td>12</td>\n",
       "      <td>False</td>\n",
       "    </tr>\n",
       "    <tr>\n",
       "      <th>LAVORATO JOHN J</th>\n",
       "      <td>10</td>\n",
       "      <td>False</td>\n",
       "    </tr>\n",
       "    <tr>\n",
       "      <th>HAEDICKE MARK E</th>\n",
       "      <td>8</td>\n",
       "      <td>False</td>\n",
       "    </tr>\n",
       "    <tr>\n",
       "      <th>BELDEN TIMOTHY N</th>\n",
       "      <td>8</td>\n",
       "      <td>True</td>\n",
       "    </tr>\n",
       "  </tbody>\n",
       "</table>\n",
       "</div>"
      ],
      "text/plain": [
       "                    # of outliers    poi\n",
       "FREVERT MARK A                 13  False\n",
       "LAY KENNETH L                  13   True\n",
       "SKILLING JEFFREY K             12   True\n",
       "TOTAL                          12  False\n",
       "WHALLEY LAWRENCE G             12  False\n",
       "LAVORATO JOHN J                10  False\n",
       "HAEDICKE MARK E                 8  False\n",
       "BELDEN TIMOTHY N                8   True"
      ]
     },
     "execution_count": 20,
     "metadata": {},
     "output_type": "execute_result"
    }
   ],
   "source": [
    "original_data = enron_data.drop(columns=['poi']) # poi is not a feature and should not be considered\n",
    "\n",
    "first_quantile = original_data.quantile(.25)\n",
    "third_quantile = original_data.quantile(.75)\n",
    "\n",
    "median = original_data.quantile(.5)\n",
    "interquantile_range = third_quantile - first_quantile\n",
    "\n",
    "outlier_data = median + 1.5 * interquantile_range\n",
    "outliers = (original_data > outlier_data).sum(axis=1).to_frame(name='# of outliers') \\\n",
    "    .sort_values('# of outliers', ascending=False)\n",
    "\n",
    "five_percent_of_sample = int(len(enron_data) * 0.06)\n",
    "\n",
    "# Merge the outliers with the original enron data.\n",
    "outliers = outliers.merge(right=enron_data, how='inner', left_index=True, right_index=True) \\\n",
    "    .loc[:, ['# of outliers', 'poi']]\n",
    "outliers.head(five_percent_of_sample)"
   ]
  },
  {
   "cell_type": "markdown",
   "metadata": {},
   "source": [
    "Our data set is really small, so I'm going to consider just 5% of the samples the with most number of outliers:\n",
    "\n",
    "- Mark Frevert and Lawrence \"Greg\" Whalley are lesser known employees but still top managers of Enron (the latter being President and COO of Enron) who also represent valuable examples for our predictive model.\n",
    "- Kenneth Lay (Enron chairman and CEO) and Jeffrey Skilling (former Enron president and CEO) are very well known persons from Enron and heavily involved in the scandal. They represent important examples in our dataset and falsely flagged as true outliers.\n",
    "- The example `TOTAL` is the total value of financial payments from the FindLaw dataset. This clearly is not an individual person and will unbalance the distribution across several features in the dataset. Therefore it should be removed.\n",
    "- John Lavorato, another senior Enron execuative, has little media exposure and there are no reports of him being involved in the scandal. Since his data contains many outliers that could potentially bias our predictive model I'll remove him from the dataset.\n",
    "- Timothy \"Norris\" Belden is the former head of trading in Enron Energy Services. He is considered a key player in the Enron scandal constituting a good example for our predictive model.\n",
    "\n",
    "From the avbove considered 8 examples I will exlude only 2 of them. However before doing so I will visualise some of the features, hoping they will make the outliers and errors immediately stand out. This will convince me futher that these examples should be removed from the dataset."
   ]
  },
  {
   "cell_type": "code",
   "execution_count": 21,
   "metadata": {},
   "outputs": [
    {
     "name": "stderr",
     "output_type": "stream",
     "text": [
      "/usr/local/envs/py2env/lib/python2.7/site-packages/ggplot/components/smoothers.py:4: FutureWarning: The pandas.lib module is deprecated and will be removed in a future version. These are private functions and can be accessed from pandas._libs.lib instead\n",
      "  from pandas.lib import Timestamp\n",
      "/usr/local/envs/py2env/lib/python2.7/site-packages/statsmodels/compat/pandas.py:56: FutureWarning: The pandas.core.datetools module is deprecated and will be removed in a future version. Please use the pandas.tseries module instead.\n",
      "  from pandas.core import datetools\n",
      "/usr/local/envs/py2env/lib/python2.7/site-packages/matplotlib/__init__.py:800: MatplotlibDeprecationWarning: axes.color_cycle is deprecated and replaced with axes.prop_cycle; please use the latter.\n",
      "  mplDeprecation)\n",
      "/usr/local/envs/py2env/lib/python2.7/site-packages/matplotlib/cbook/deprecation.py:106: MatplotlibDeprecationWarning: Adding an axes using the same arguments as a previous axes currently reuses the earlier instance.  In a future version, a new instance will always be created and returned.  Meanwhile, this warning can be suppressed, and the future behavior ensured, by passing a unique label to each axes instance.\n",
      "  warnings.warn(message, mplDeprecation, stacklevel=1)\n"
     ]
    },
    {
     "data": {
      "image/png": "[encoded data removed]",
      "text/plain": [
       "<matplotlib.figure.Figure at 0x7fa12d2b2cd0>"
      ]
     },
     "metadata": {},
     "output_type": "display_data"
    },
    {
     "data": {
      "text/plain": [
       "<ggplot: (8770639016617)>"
      ]
     },
     "execution_count": 21,
     "metadata": {},
     "output_type": "execute_result"
    }
   ],
   "source": [
    "from ggplot import *\n",
    "\n",
    "ggplot(enron_data, aes(x='salary', y='bonus', color='poi')) + \\\n",
    "    geom_point(size=40.0)"
   ]
  },
  {
   "cell_type": "code",
   "execution_count": 22,
   "metadata": {},
   "outputs": [
    {
     "data": {
      "text/html": [
       "<div>\n",
       "<style scoped>\n",
       "    .dataframe tbody tr th:only-of-type {\n",
       "        vertical-align: middle;\n",
       "    }\n",
       "\n",
       "    .dataframe tbody tr th {\n",
       "        vertical-align: top;\n",
       "    }\n",
       "\n",
       "    .dataframe thead th {\n",
       "        text-align: right;\n",
       "    }\n",
       "</style>\n",
       "<table border=\"1\" class=\"dataframe\">\n",
       "  <thead>\n",
       "    <tr style=\"text-align: right;\">\n",
       "      <th></th>\n",
       "      <th>salary</th>\n",
       "      <th>to_messages</th>\n",
       "      <th>deferral_payments</th>\n",
       "      <th>total_payments</th>\n",
       "      <th>exercised_stock_options</th>\n",
       "      <th>bonus</th>\n",
       "      <th>restricted_stock</th>\n",
       "      <th>shared_receipt_with_poi</th>\n",
       "      <th>restricted_stock_deferred</th>\n",
       "      <th>total_stock_value</th>\n",
       "      <th>expenses</th>\n",
       "      <th>loan_advances</th>\n",
       "      <th>from_messages</th>\n",
       "      <th>other</th>\n",
       "      <th>from_this_person_to_poi</th>\n",
       "      <th>poi</th>\n",
       "      <th>director_fees</th>\n",
       "      <th>deferred_income</th>\n",
       "      <th>long_term_incentive</th>\n",
       "      <th>from_poi_to_this_person</th>\n",
       "    </tr>\n",
       "  </thead>\n",
       "  <tbody>\n",
       "    <tr>\n",
       "      <th>TOTAL</th>\n",
       "      <td>26704229.00</td>\n",
       "      <td>944.00</td>\n",
       "      <td>32083396.00</td>\n",
       "      <td>309886585.00</td>\n",
       "      <td>311764000.00</td>\n",
       "      <td>97343619.00</td>\n",
       "      <td>130322299.00</td>\n",
       "      <td>594.00</td>\n",
       "      <td>-7576788.00</td>\n",
       "      <td>434509511.00</td>\n",
       "      <td>5235198.00</td>\n",
       "      <td>83925000.00</td>\n",
       "      <td>41.00</td>\n",
       "      <td>42667589.00</td>\n",
       "      <td>6.00</td>\n",
       "      <td>False</td>\n",
       "      <td>1398517.00</td>\n",
       "      <td>-27992891.00</td>\n",
       "      <td>48521928.00</td>\n",
       "      <td>26.50</td>\n",
       "    </tr>\n",
       "  </tbody>\n",
       "</table>\n",
       "</div>"
      ],
      "text/plain": [
       "           salary  to_messages  deferral_payments  total_payments  \\\n",
       "TOTAL 26704229.00       944.00        32083396.00    309886585.00   \n",
       "\n",
       "       exercised_stock_options       bonus  restricted_stock  \\\n",
       "TOTAL             311764000.00 97343619.00      130322299.00   \n",
       "\n",
       "       shared_receipt_with_poi  restricted_stock_deferred  total_stock_value  \\\n",
       "TOTAL                   594.00                -7576788.00       434509511.00   \n",
       "\n",
       "        expenses  loan_advances  from_messages       other  \\\n",
       "TOTAL 5235198.00    83925000.00          41.00 42667589.00   \n",
       "\n",
       "       from_this_person_to_poi    poi  director_fees  deferred_income  \\\n",
       "TOTAL                     6.00  False     1398517.00     -27992891.00   \n",
       "\n",
       "       long_term_incentive  from_poi_to_this_person  \n",
       "TOTAL          48521928.00                    26.50  "
      ]
     },
     "execution_count": 22,
     "metadata": {},
     "output_type": "execute_result"
    }
   ],
   "source": [
    "enron_data[enron_data['salary'] > 1e7]"
   ]
  },
  {
   "cell_type": "code",
   "execution_count": 23,
   "metadata": {},
   "outputs": [
    {
     "data": {
      "image/png": "[encoded data removed]",
      "text/plain": [
       "<matplotlib.figure.Figure at 0x7fa12cd34610>"
      ]
     },
     "metadata": {},
     "output_type": "display_data"
    },
    {
     "data": {
      "text/plain": [
       "<ggplot: (8770638656725)>"
      ]
     },
     "execution_count": 23,
     "metadata": {},
     "output_type": "execute_result"
    }
   ],
   "source": [
    "enron_data = enron_data.drop('TOTAL')\n",
    "\n",
    "ggplot(enron_data, aes(x='salary', y='bonus', color='poi')) + \\\n",
    "    geom_point(size=40.0)"
   ]
  },
  {
   "cell_type": "markdown",
   "metadata": {},
   "source": [
    "You may conclude that there are four more outliers in the data. However considering the top 2 earners are Jeffrey Skilling and Kenneth Lay, both persons of interest, these should remain in the dataset. Similarly we can conclude there to be a single outlier within the bonus data. We can list the highest receivers to see just who this is."
   ]
  },
  {
   "cell_type": "code",
   "execution_count": 24,
   "metadata": {},
   "outputs": [
    {
     "data": {
      "text/html": [
       "<div>\n",
       "<style scoped>\n",
       "    .dataframe tbody tr th:only-of-type {\n",
       "        vertical-align: middle;\n",
       "    }\n",
       "\n",
       "    .dataframe tbody tr th {\n",
       "        vertical-align: top;\n",
       "    }\n",
       "\n",
       "    .dataframe thead th {\n",
       "        text-align: right;\n",
       "    }\n",
       "</style>\n",
       "<table border=\"1\" class=\"dataframe\">\n",
       "  <thead>\n",
       "    <tr style=\"text-align: right;\">\n",
       "      <th></th>\n",
       "      <th>salary</th>\n",
       "      <th>bonus</th>\n",
       "      <th>poi</th>\n",
       "    </tr>\n",
       "  </thead>\n",
       "  <tbody>\n",
       "    <tr>\n",
       "      <th>LAVORATO JOHN J</th>\n",
       "      <td>339288.00</td>\n",
       "      <td>8000000.00</td>\n",
       "      <td>False</td>\n",
       "    </tr>\n",
       "    <tr>\n",
       "      <th>LAY KENNETH L</th>\n",
       "      <td>1072321.00</td>\n",
       "      <td>7000000.00</td>\n",
       "      <td>True</td>\n",
       "    </tr>\n",
       "    <tr>\n",
       "      <th>SKILLING JEFFREY K</th>\n",
       "      <td>1111258.00</td>\n",
       "      <td>5600000.00</td>\n",
       "      <td>True</td>\n",
       "    </tr>\n",
       "    <tr>\n",
       "      <th>BELDEN TIMOTHY N</th>\n",
       "      <td>213999.00</td>\n",
       "      <td>5249999.00</td>\n",
       "      <td>True</td>\n",
       "    </tr>\n",
       "    <tr>\n",
       "      <th>ALLEN PHILLIP K</th>\n",
       "      <td>201955.00</td>\n",
       "      <td>4175000.00</td>\n",
       "      <td>False</td>\n",
       "    </tr>\n",
       "  </tbody>\n",
       "</table>\n",
       "</div>"
      ],
      "text/plain": [
       "                       salary      bonus    poi\n",
       "LAVORATO JOHN J     339288.00 8000000.00  False\n",
       "LAY KENNETH L      1072321.00 7000000.00   True\n",
       "SKILLING JEFFREY K 1111258.00 5600000.00   True\n",
       "BELDEN TIMOTHY N    213999.00 5249999.00   True\n",
       "ALLEN PHILLIP K     201955.00 4175000.00  False"
      ]
     },
     "execution_count": 24,
     "metadata": {},
     "output_type": "execute_result"
    }
   ],
   "source": [
    "enron_data.sort_values(by='bonus', ascending=False).head().loc[:, ['salary', 'bonus', 'poi']]"
   ]
  },
  {
   "cell_type": "markdown",
   "metadata": {},
   "source": [
    "The person receiving the highest bonus is John Lavorato, somebody we have already identified above as a potential outlier. Given this name has appeared a couple times as an outlier I will remove it from the dataset."
   ]
  },
  {
   "cell_type": "code",
   "execution_count": 25,
   "metadata": {},
   "outputs": [
    {
     "data": {
      "image/png": "[encoded data removed]",
      "text/plain": [
       "<matplotlib.figure.Figure at 0x7fa12cb9a710>"
      ]
     },
     "metadata": {},
     "output_type": "display_data"
    },
    {
     "data": {
      "text/plain": [
       "<ggplot: (8770638554085)>"
      ]
     },
     "execution_count": 25,
     "metadata": {},
     "output_type": "execute_result"
    }
   ],
   "source": [
    "enron_data = enron_data.drop('LAVORATO JOHN J')\n",
    "\n",
    "ggplot(enron_data, aes(x='salary', y='bonus', color='poi')) + \\\n",
    "    geom_point(size=40.0)"
   ]
  },
  {
   "cell_type": "markdown",
   "metadata": {},
   "source": [
    "Now that we've cleaned up the dataset, lets see how many examples and features remain."
   ]
  },
  {
   "cell_type": "code",
   "execution_count": 26,
   "metadata": {},
   "outputs": [
    {
     "name": "stdout",
     "output_type": "stream",
     "text": [
      "<class 'pandas.core.frame.DataFrame'>\n",
      "Index: 139 entries, ALLEN PHILLIP K to YEAP SOON\n",
      "Data columns (total 20 columns):\n",
      "salary                       139 non-null float64\n",
      "to_messages                  139 non-null float64\n",
      "deferral_payments            139 non-null float64\n",
      "total_payments               139 non-null float64\n",
      "exercised_stock_options      139 non-null float64\n",
      "bonus                        139 non-null float64\n",
      "restricted_stock             139 non-null float64\n",
      "shared_receipt_with_poi      139 non-null float64\n",
      "restricted_stock_deferred    139 non-null float64\n",
      "total_stock_value            139 non-null float64\n",
      "expenses                     139 non-null float64\n",
      "loan_advances                139 non-null float64\n",
      "from_messages                139 non-null float64\n",
      "other                        139 non-null float64\n",
      "from_this_person_to_poi      139 non-null float64\n",
      "poi                          139 non-null bool\n",
      "director_fees                139 non-null float64\n",
      "deferred_income              139 non-null float64\n",
      "long_term_incentive          139 non-null float64\n",
      "from_poi_to_this_person      139 non-null float64\n",
      "dtypes: bool(1), float64(19)\n",
      "memory usage: 21.9+ KB\n"
     ]
    }
   ],
   "source": [
    "enron_data.info()"
   ]
  },
  {
   "cell_type": "markdown",
   "metadata": {},
   "source": [
    "In total I have:\n",
    "\n",
    "- removed 7 examples,\n",
    "- removed 1 feature,\n",
    "- corrected inconsistant data,\n",
    "- filled in missing financial data with a zero value,\n",
    "- imputed missing email data using the median value from each class.\n",
    "\n",
    "Lets write this cleaned dataset to disk to be used in the final submission."
   ]
  },
  {
   "cell_type": "code",
   "execution_count": 27,
   "metadata": {},
   "outputs": [],
   "source": [
    "# Save the cleaned dictionary containing the dataset.\n",
    "with open('final_project_dataset_cleaned.pkl', 'wb') as data_file:\n",
    "    pickle.dump(enron_data.to_dict(orient='index'), data_file, protocol=pickle.HIGHEST_PROTOCOL)"
   ]
  },
  {
   "cell_type": "markdown",
   "metadata": {},
   "source": [
    "## Evaluation Metrics"
   ]
  },
  {
   "cell_type": "markdown",
   "metadata": {},
   "source": [
    "Before continuing to implement a predicitve model and investigating different classifers I want to discuss the evaluation metrics I'll be using to determine the suitability of each classifier. This is an important topic as without knowing what we're measuring it will not be possible to meaningfully improve and tune our predictive model.\n",
    "\n",
    "It follows that each evaluation metric favours one type of error over another, thus allowing a predictive model to be tuned and optimised for specific outcomes. For examples some metrics are more sensitive to false positives which will in the case of the Enron dataset tend to classify more employees as persons of interest than perhaps are."
   ]
  },
  {
   "cell_type": "markdown",
   "metadata": {},
   "source": [
    "### Accuracy"
   ]
  },
  {
   "cell_type": "markdown",
   "metadata": {},
   "source": [
    "Standard accuracy is a ratio of correct classifications to the total number of classifications:"
   ]
  },
  {
   "cell_type": "markdown",
   "metadata": {},
   "source": [
    "\\begin{align}\n",
    "accuracy & = \\frac{\\text{number of data points labelled correctly}}{\\text{number of data points}}\n",
    "\\end{align}"
   ]
  },
  {
   "cell_type": "markdown",
   "metadata": {},
   "source": [
    "It is therefore an overall measure of correct classification over all classes, that assigns equal cost to false positives and false negatives.\n",
    "\n",
    "When the class distribution is heavily imbalanced (for example more non-POIs than POIs) a model can predict the value of the majority class for all predictions and achieve a high classification accuracy. In this case accuracy is just a measure of how good our predictive model is at guessing. To put this into perspective a predictive model that always predicted false when trying to identify persons of interest on our cleaned dataset would achieve an accuracy of 87%.\n",
    "\n",
    "This causes issues when in reality there are unequal costs associated with errors (false positives vs false nagatives). In the Enron dataset the cost of a false positive may be far less than the cost of a false negative where those falsely labelled as a person of interest could later be absolved from any crime.\n",
    "\n",
    "Clearly this metric would not satisfy the objectives of this investigation that requires we implement a predictive model capable of identifying persons of interest."
   ]
  },
  {
   "cell_type": "markdown",
   "metadata": {},
   "source": [
    "### Balanced Accuracy"
   ]
  },
  {
   "cell_type": "markdown",
   "metadata": {},
   "source": [
    "http://scikit-learn.org/stable/modules/generated/sklearn.metrics.balanced_accuracy_score.html#sklearn.metrics.balanced_accuracy_score\n",
    "\n",
    "https://en.wikipedia.org/wiki/Precision_and_recall"
   ]
  },
  {
   "cell_type": "markdown",
   "metadata": {},
   "source": [
    "### Precision"
   ]
  },
  {
   "cell_type": "markdown",
   "metadata": {},
   "source": [
    "Precision is defined as the number of true positives divided by the number of true positives and false positives:"
   ]
  },
  {
   "cell_type": "markdown",
   "metadata": {},
   "source": [
    "\\begin{align}\n",
    "precision & = \\frac{\\text{true positives}}{\\text{true positives} + \\text{false positives}}\n",
    "\\end{align}"
   ]
  },
  {
   "cell_type": "markdown",
   "metadata": {},
   "source": [
    "Put more simply precision (also called the positive predictive value) measures the proportion of true positives that actually belong to the positive class. It is a measure of confidence that when the predictive model classifies an example as positive that it has been correctly classified.\n",
    "\n",
    "In terms of the Enron dataset precision expresses that for every employee classified as a person of interest the probability that this employee really is a person of interest.\n",
    "\n",
    "A positive result from a predictive model with a high preceision is useful for ruling out a possible negative classification since it rarely predicts negative for the truely positive examples in the dataset. Therefore a model with 100% precision can confidently say all positively classified examples are truely positive. In this case a positive result would definitively rule out a negative classification.\n",
    "\n",
    "On the otherhand a negative result from a predictive model with a high precision does not guarentee a truely negative classification. This is becaue precision does not take into account false negatives. Therefore a model with 100% precision may not recognise some examples that should belong to the positive class.\n",
    "\n",
    "In other words precision errs on the side of negative classification as it is reluctant to \"pull the trigger\" on edge cases. Therefore it will favour classifying Enron employees as non-POIs which presents a high cost as potentially many persons of interest will go undetected."
   ]
  },
  {
   "cell_type": "markdown",
   "metadata": {},
   "source": [
    "### Recall"
   ]
  },
  {
   "cell_type": "markdown",
   "metadata": {},
   "source": [
    "Recall is defined as the number of true positives divided by the number of true positives and false negatives:"
   ]
  },
  {
   "cell_type": "markdown",
   "metadata": {},
   "source": [
    "\\begin{align}\n",
    "recall & = \\frac{\\text{true positives}}{\\text{true positives} + \\text{false nagatives}}\n",
    "\\end{align}"
   ]
  },
  {
   "cell_type": "markdown",
   "metadata": {},
   "source": [
    "Put more simply recall (also called the true positive rate or sensitivity) measures the proportion of true positives that are correctly classified as such. Equivalently recall is the extent to which true positives are not overlooked (so false negatives are few) and thus a highly sensitive predictive model rarely overlooks a true positive.\n",
    "\n",
    "In terms of the Enron dataset recall returns the proportion of employees who are classified as persons of interest among those who truely are persons of interest.\n",
    "\n",
    "A negative result from a predictive model with a high recall is useful for ruling out a possible positive classification since it rarely predicts positive for the truely nagative examples in the dataset. Therefore a model with 100% recall will recognise all truely positive examples. In this case a negative result would definitively rule out a positive classification.\n",
    "\n",
    "Conversely a positive result from a predictive model with a high recall does not guarentee a truely positive classification. This is because recall does not take into account false positives. Therefore a model with 100% recall will recognise not only truely positive examples but may also include many false positives.\n",
    "\n",
    "Since recall quantifies the avoiding of false negatives this evaluation metric is ideal for the Enron dataset whereby not correclty identifying an employee as a person of interest has a much greater cost than fasely identifying an innocent employee of being a person of interest."
   ]
  },
  {
   "cell_type": "markdown",
   "metadata": {},
   "source": [
    "### F-Measure"
   ]
  },
  {
   "cell_type": "markdown",
   "metadata": {},
   "source": [
    "The F-measure is a weighted average of the precision and recall, with the traditional F-measure or balanced F-score (F1 score) being the harmonic average of the precision and recall:"
   ]
  },
  {
   "cell_type": "markdown",
   "metadata": {},
   "source": [
    "\\begin{align}\n",
    "F_1 & = 2 \\cdot \\left(\\frac{precision \\cdot recall}{precision + recall}\\right)\n",
    "\\end{align}"
   ]
  },
  {
   "cell_type": "markdown",
   "metadata": {},
   "source": [
    "This measure is approximately the average of both precision and recall when they are close, and is more generally the harmonic mean, which, for the case of two numbers, coincides with the square of the geometric mean divided by the arithmetic mean. The F1 score reaches its best value at 1 (indicating perfect precision and recall) and worst at 0. In its more general form the F-measure is defined as:"
   ]
  },
  {
   "cell_type": "markdown",
   "metadata": {},
   "source": [
    "\\begin{align}\n",
    "F_\\beta & = \\left(1 + \\beta^2\\right) \\cdot \\left(\\frac{precision \\cdot recall}{\\beta^2 \\cdot precision + recall}\\right)\n",
    "\\end{align}"
   ]
  },
  {
   "cell_type": "markdown",
   "metadata": {},
   "source": [
    "This gives us a parameterised version of the F-measure allowing us to specify the preferred weights for each error type (false positives and false negatives). As discussed above we are more interested in maximising the recall since it avoids false negatives. Therefore we can use the F2 score, which weighs recall twice as high as precision (thus placing more emphasis on false negatives). Plugging in the values the F2 score is defined as:"
   ]
  },
  {
   "cell_type": "markdown",
   "metadata": {},
   "source": [
    "\\begin{align}\n",
    "F_2 & = 5 \\cdot \\left(\\frac{precision \\cdot recall}{4 \\cdot precision + recall}\\right)\n",
    "\\end{align}"
   ]
  },
  {
   "cell_type": "markdown",
   "metadata": {},
   "source": [
    "For this investigation it is a requirement that our classifier achieves both a precision and recall greater than `0.3`. However it should be possible to achieve a better result given the optimal features are selected and hyperparameters given. Therefore when I later attempt to optimise my classifier I would like to lean towards maximising the F2 score. However sklearn does not seem to provide F2 as a possible [scoring function](http://scikit-learn.org/stable/modules/model_evaluation.html#scoring-parameter) so I will fallback to maximising the F1 score."
   ]
  },
  {
   "cell_type": "markdown",
   "metadata": {},
   "source": [
    "## Validation Strategy"
   ]
  },
  {
   "cell_type": "markdown",
   "metadata": {},
   "source": [
    "Learning the parameters of a predictive model and testing it on the same data is a methodological mistake: a model that would just repeat the labels of the samples that it has just seen would have a perfect score but would fail to predict anything useful on yet-unseen data. This situation is called overfitting. To avoid it, it is common practice when performing a (supervised) machine learning experiment to hold out part of the available data as a test set.\n",
    "\n",
    "This is called validation: a set of techniques used to make sure a predictive model performs well in a wide range of situations, and is not just optimised for a particular dataset or set of conditions. In this section I cover 2 of the more widely used validation methods describing some of the issues and how these can be overcome."
   ]
  },
  {
   "cell_type": "markdown",
   "metadata": {},
   "source": [
    "### Train Test Split"
   ]
  },
  {
   "cell_type": "markdown",
   "metadata": {},
   "source": [
    "Train test split is a validation method that partitions the original dataset into a training set to train the model; a validation set for tuning the model; and a test set to evaluate it. There is no general rule dictating how many samples should be made available for each set and depends largely and how strong the patterns are in the data. However it is advides to maximise the training data as much as possible.\n",
    "\n",
    "The training set, as the name suggests, is used to train a predictive model by attempting to identify the patterns in the data that drive it to generalise on a solution. During training the model fits itself around the data it is provided, but there is no validation performed at this stage.\n",
    "\n",
    "The validation set is used strictly for model tuning. Using the model created during training, parameters may be tuned and the performance of each adjutment is recorded. Using an independant dataset attempts to prevent the model from \"cheating\" and inaccurately reporting higher performance for a particular combination of parameter values.\n",
    "\n",
    "The test set is used to make a final estimate of the error. Until this point, the most performant model has been exposed to both the training and validation sets for parameter tuning. So, it must be checked on an unseen set so that we may forecast how well it will perform in the real world.\n",
    "\n",
    "![train-test-split](train-test-split.png)\n",
    "\n",
    "We can see how the Enron dataset may be split to create a training, validation, and test set using [`train_test_split`](https://scikit-learn.org/stable/modules/generated/sklearn.model_selection.train_test_split.html). Note that the dataset is shuffled to distribute the class labels."
   ]
  },
  {
   "cell_type": "code",
   "execution_count": 28,
   "metadata": {},
   "outputs": [
    {
     "name": "stdout",
     "output_type": "stream",
     "text": [
      "training set:    83 samples\n",
      "validation set:  28 samples\n",
      "test set:        28 samples\n"
     ]
    }
   ],
   "source": [
    "from sklearn.model_selection import train_test_split\n",
    "\n",
    "# First shuffle the data.\n",
    "shuffled_data = enron_data.sample(frac=1).reset_index(drop=True)\n",
    "\n",
    "# Create a 80% split of the data.\n",
    "split_boundary = int(len(shuffled_data) * .80)\n",
    "test_set = shuffled_data[split_boundary:]\n",
    "train_validation_set = shuffled_data[:split_boundary]\n",
    "\n",
    "# Create a further split for training and validation data.\n",
    "X_train, X_valid, y_train, y_valid = train_test_split(train_validation_set.drop(columns=['poi']), \n",
    "                                                      train_validation_set['poi'], \n",
    "                                                      test_size=0.25, \n",
    "                                                      random_state=42)\n",
    "\n",
    "# Justify the output of samples.\n",
    "print_samples = lambda t, samples: print('{} set:'.format(t).ljust(16), len(samples), 'samples')\n",
    "\n",
    "print_samples('training', X_train)\n",
    "print_samples('validation', X_valid)\n",
    "print_samples('test', test_set)"
   ]
  },
  {
   "cell_type": "markdown",
   "metadata": {},
   "source": [
    "The above however is only viable when there is enough data to make three splits. In this example I have created a 60-20-20 split that yields only 83 samples from the Enron dataset to be used for training. This is likely not nearly enough data to identify patterns that are possibly hidden in the other 56 samples being used for validation and testing. Furthermore making such a segregation, despite the data having been shuffled, may disturb the target distribution and therefore we may find that most of the persons of interest are contained in any one of the three sets.\n",
    "\n",
    "This is one of the drawbacks of this particular validation strategy and by definition it does not maximise the number of samples available for training since it must hold back a percentage of the samples to be distributed across both the validation and test sets.\n",
    "\n",
    "On a more general note validation and test sets \"wear out\" with repeated use. That is, the more you use the same data to make decisions about hyperparameter settings or other model improvements, the less confidence you'll have that these results actually generalize to new, unseen data. Note that validation sets typically wear out more slowly than test sets.\n",
    "\n",
    "If possible, it's a good idea to collect more data to \"refresh\" the validation and test sets. This of course is not possible in respect to the Enron dataset since we already have the records of all employees at the company."
   ]
  },
  {
   "cell_type": "markdown",
   "metadata": {},
   "source": [
    "### Cross-validation"
   ]
  },
  {
   "cell_type": "markdown",
   "metadata": {},
   "source": [
    "Cross-validation is a technique to validate predictive models by partitioning the original dataset into a training set to train the model, and a test set to evaluate it.\n",
    "\n",
    "In k-fold cross-validation, the original sample is randomly partitioned into `k` equal size subsamples. Of the `k` subsamples, a single subsample is retained as the validation data for testing the model, and the remaining `k-1` subsamples are used as training data. The cross-validation process is then repeated `k` times (the folds), with each of the `k` subsamples used exactly once as the validation data. The `k` results from the folds can then be averaged (or otherwise combined) to produce a single estimation.\n",
    "\n",
    "Moreover, we can use the [`StratifiedShuffleSplit`](https://scikit-learn.org/stable/modules/generated/sklearn.model_selection.StratifiedShuffleSplit.html) cross-validation object; a merge of [`StratifiedKFold`](https://scikit-learn.org/stable/modules/generated/sklearn.model_selection.StratifiedKFold.html#sklearn.model_selection.StratifiedKFold) and [`ShuffleSplit`](https://scikit-learn.org/stable/modules/generated/sklearn.model_selection.ShuffleSplit.html), which returns stratified randomised folds. The folds are made by preserving the percentage of samples for each class.\n",
    "\n",
    "![cross-validation](cross-validation.png)\n",
    "\n",
    "As before we can see how this may be applied to the Enron dataset using the object sklearn."
   ]
  },
  {
   "cell_type": "code",
   "execution_count": 29,
   "metadata": {},
   "outputs": [
    {
     "name": "stdout",
     "output_type": "stream",
     "text": [
      "training set:    125 samples\n",
      "validation set:  14 samples\n"
     ]
    }
   ],
   "source": [
    "from sklearn.model_selection import StratifiedShuffleSplit\n",
    "\n",
    "# Cross-validator with 10 splits.\n",
    "cv = StratifiedShuffleSplit(n_splits=10, test_size=0.1)\n",
    "\n",
    "# The cross-validator returns an iterator. Grab only the first item.\n",
    "X_train, X_valid = next(cv.split(enron_data.drop(columns=['poi']), enron_data['poi']))\n",
    "\n",
    "# Justify the output of samples.\n",
    "print_samples = lambda t, samples: print('{} set:'.format(t).ljust(16), len(samples), 'samples')\n",
    "\n",
    "print_samples('training', X_train)\n",
    "print_samples('validation', X_valid)"
   ]
  },
  {
   "cell_type": "markdown",
   "metadata": {},
   "source": [
    "The advantage of this method is that all samples are used for both training and validation, and each sample is used for validation exactly once. This therefore maximises the number of samples used for training.\n",
    "\n",
    "For the remainder of this experiment I shall use cross validation when evaluating my models and their respective hyperparamters."
   ]
  },
  {
   "cell_type": "markdown",
   "metadata": {},
   "source": [
    "## Testing"
   ]
  },
  {
   "cell_type": "markdown",
   "metadata": {},
   "source": [
    "To drive the evaluation of each classifier I will use the function included in this project, `test_classifier`, offering a consistent means through which every classifer may be tested. Furthermore it will be the same function used to evaluate my classifer upon submission."
   ]
  },
  {
   "cell_type": "code",
   "execution_count": 30,
   "metadata": {},
   "outputs": [
    {
     "name": "stderr",
     "output_type": "stream",
     "text": [
      "/usr/local/envs/py2env/lib/python2.7/site-packages/sklearn/cross_validation.py:41: DeprecationWarning: This module was deprecated in version 0.18 in favor of the model_selection module into which all the refactored classes and functions are moved. Also note that the interface of the new CV iterators are different from that of this module. This module will be removed in 0.20.\n",
      "  \"This module will be removed in 0.20.\", DeprecationWarning)\n"
     ]
    }
   ],
   "source": [
    "from tester import test_classifier"
   ]
  },
  {
   "cell_type": "markdown",
   "metadata": {},
   "source": [
    "This testing strategy does however come with the limitation that I am unable to manipulate the validation data before it is used to evaluate each classifier. This is something I dicussed earlier concerning validation leakage. If this were not the case I could perform imputation at the time of evaluation such that the validation set is not biased by the same data used for training."
   ]
  },
  {
   "cell_type": "markdown",
   "metadata": {},
   "source": [
    "Using the above function I have additionally implemented a means through which to test multiple classifiers sequentially whilst keeping the output to a minimum. Once each classifier has been tested the results are returned in a DataFrame and the results sorted (ascending F1 score by default). This is really useful to reduce the noise in this notebook, displaying only the most important information."
   ]
  },
  {
   "cell_type": "code",
   "execution_count": 31,
   "metadata": {},
   "outputs": [],
   "source": [
    "from utils import redirect_stdout\n",
    "\n",
    "def test_classifiers(clfs, dataset, features, sort_by='f1', verbose=False):\n",
    "    results = pd.DataFrame(columns=['accuracy', 'precision', 'recall', 'f1', 'f2'])\n",
    "    for _, (name, clf) in enumerate(clfs):\n",
    "        print('=====> Running {}\\n'.format(name))\n",
    "        if verbose:\n",
    "            results.loc[name] = test_classifier(clf, dataset, features)\n",
    "        else:\n",
    "            with redirect_stdout():\n",
    "                results.loc[name] = test_classifier(clf, dataset, features)\n",
    "    return results.sort_values(by=sort_by, ascending=False)"
   ]
  },
  {
   "cell_type": "markdown",
   "metadata": {},
   "source": [
    "## Classifier Pre-Assesment"
   ]
  },
  {
   "cell_type": "markdown",
   "metadata": {},
   "source": [
    "In this secton I am going to perform a prelimiary assesment of 4 \"out of the box\" classifieres using their respective default parameters. I'm going to use the results of evaulating these classifiers as a baseline from which I may improve performance, or ultimately dismiss classifiers from being further evaluated."
   ]
  },
  {
   "cell_type": "markdown",
   "metadata": {},
   "source": [
    "I am going to begin using all of the features in the dataset because presently there are no strong indicators as to which features are driving the patterns in the data."
   ]
  },
  {
   "cell_type": "code",
   "execution_count": 32,
   "metadata": {},
   "outputs": [],
   "source": [
    "# `features_list` is a list of strings, each of which is a feature name in the dataset. \n",
    "# The first feature in the list must be `poi` - the target label.\n",
    "features_list = ['poi', 'salary', 'to_messages', 'deferral_payments', 'total_payments',\n",
    "                'exercised_stock_options', 'bonus', 'restricted_stock',\n",
    "                'shared_receipt_with_poi', 'restricted_stock_deferred', 'total_stock_value',\n",
    "                'expenses', 'loan_advances', 'from_messages', 'other', 'from_this_person_to_poi',\n",
    "                'director_fees', 'deferred_income', 'long_term_incentive', 'from_poi_to_this_person']"
   ]
  },
  {
   "cell_type": "markdown",
   "metadata": {},
   "source": [
    "Next I have to extract a dictionary from the dataframe we've been using throughout the fist half of this investingation. Importantly the data is reorientated such that the keys in the dictionary are the Enron emplyees instead of the features, which is the default."
   ]
  },
  {
   "cell_type": "code",
   "execution_count": 33,
   "metadata": {},
   "outputs": [],
   "source": [
    "my_dataset = enron_data.to_dict(orient='index')"
   ]
  },
  {
   "cell_type": "markdown",
   "metadata": {},
   "source": [
    "Despite having implemented a method to test each classifier sequentially, in this section I will perform the evaluation each time using `test_classifier` to show the general approach that will be taken throughout the remainder of the project. This also lends to writing up a little about each classifier and detailing their features.\n",
    "\n",
    "To record the results of the pre-assesment I will create a dataframe where the columns match the evaluation metrics discussed in the last section."
   ]
  },
  {
   "cell_type": "code",
   "execution_count": 34,
   "metadata": {},
   "outputs": [],
   "source": [
    "results = pd.DataFrame(columns=['accuracy', 'precision', 'recall', 'f1', 'f2'])"
   ]
  },
  {
   "cell_type": "markdown",
   "metadata": {},
   "source": [
    "### Naive Bayes"
   ]
  },
  {
   "cell_type": "markdown",
   "metadata": {},
   "source": [
    "A Naive Bayes classifier is a fairly simple, probabalistic classifier based on applying Bayes' theorem with strong (naive) independence assumptions between features. What this means is that a Naive Bayes classifer will assume a [statistical indepencance](https://en.wikipedia.org/wiki/Independence_(probability_theory)) between features despite there being a possible strong correlation. However in spite of this apparent over-simplified assumption Naive Bayes calssifiers have been know to perform rather well in some real-world applications."
   ]
  },
  {
   "cell_type": "code",
   "execution_count": 35,
   "metadata": {},
   "outputs": [
    {
     "name": "stdout",
     "output_type": "stream",
     "text": [
      "GaussianNB(priors=None)\n",
      "\tAccuracy: 0.75621\tPrecision: 0.25289\tRecall: 0.36150\tF1: 0.29759\tF2: 0.33290\n",
      "\tTotal predictions: 14000\tTrue positives:  723\tFalse positives: 2136\tFalse negatives: 1277\tTrue negatives: 9864\n",
      "\n"
     ]
    }
   ],
   "source": [
    "from sklearn.naive_bayes import GaussianNB\n",
    "\n",
    "naive_bayes = GaussianNB()\n",
    "results.loc['Naive Bayes'] = test_classifier(naive_bayes, my_dataset, features_list)"
   ]
  },
  {
   "cell_type": "markdown",
   "metadata": {},
   "source": [
    "From the results shown above we can see that even before making any optimisations this classifier almost meets the requirements of this experiment (0.3 for both precision and recall). However the high number of false negatives is a concern meaning that over the many conbinations of training/validation subsets a huge number of persons of interest were not identified."
   ]
  },
  {
   "cell_type": "markdown",
   "metadata": {},
   "source": [
    "### Support Vector Machines"
   ]
  },
  {
   "cell_type": "markdown",
   "metadata": {},
   "source": [
    "Support Vector Machines (SMV) attempt to find a hyerplane, also known as the decision boundary, that divides two classes with the largest margin. That is an SVM maximises the distance to the nearest point in both classes which consequently maximises the robutness of the classification decision boundary. This is a classic optimisation problem, putting correct classification above maximising the margin. So there may be cases where the margin is reduced in order to correctly classify all examples.\n",
    "\n",
    "If a hyperplane does not exist that classifies all examples correctly the SVM will do the \"best it can\" given specific hyperparameters, therefore accomodating for outliers.\n",
    "\n",
    "For non-linear decision boundaries there are functions (kernels) that take in a low dimentional feature sapce and map it to a higher dimentional feature space. This transforms a non-linearly seperable feature space into one that can be separated. Most importantly these functions can map the results back into a low dimentional feature space.\n",
    "\n",
    "Support vectors are the points that lie along the supporting hyerplane. One key factor that plays into the complexity of the runtime for a support vector is the penaly parameter, `C`. The penalty parameter allows for a soft-margin and better generalization. The number of support vectors varies depending on the penalty we allow and how the data is distributed. The lower the penalty the fewer support vectors we get, creating a smoother decision boundary. Converserly the higher the penalty the greater the number of support vectors, having the effect of prioritising the number of correctly classified examples.\n",
    "\n",
    "Another key factor into the complexity of a support vector is how far the influence of a sinlge trainig point reaches, controlled by the kernel coefficient parameter, `gamma`. A low kernel coefficient has the effect of creating a straighter decision boundary due to training examples further from the hyperplane having a higher influence on the algorithm. On the otherhand a high kernel coefficient causes the decision boundary to become less linear because only those examples closest to the decision boundary have any influence on the algorithm."
   ]
  },
  {
   "cell_type": "code",
   "execution_count": 36,
   "metadata": {},
   "outputs": [
    {
     "name": "stdout",
     "output_type": "stream",
     "text": [
      "LinearSVC(C=1000.0, class_weight=None, dual=True, fit_intercept=True,\n",
      "     intercept_scaling=1, loss='squared_hinge', max_iter=1000,\n",
      "     multi_class='ovr', penalty='l2', random_state=None, tol=0.0001,\n",
      "     verbose=0)\n",
      "\tAccuracy: 0.73650\tPrecision: 0.23165\tRecall: 0.36450\tF1: 0.28327\tF2: 0.32699\n",
      "\tTotal predictions: 14000\tTrue positives:  729\tFalse positives: 2418\tFalse negatives: 1271\tTrue negatives: 9582\n",
      "\n"
     ]
    }
   ],
   "source": [
    "from sklearn.svm import LinearSVC\n",
    "\n",
    "linear_svc = LinearSVC(C=1000.0)\n",
    "results.loc['SVM'] = test_classifier(linear_svc, my_dataset, features_list)"
   ]
  },
  {
   "cell_type": "markdown",
   "metadata": {},
   "source": [
    "Many discussion forums, including the Udacity [Intro to Machine Learning](https://discussions.udacity.com/t/final-project-error/25538/6?u=tomasbashamdy3) forum, talk about how support vector machines commonly struggle on this particular dataset which may explain why I was not able to get a result when using the `sklearn.svm.SVC` classifier with an `rbf` kernel. Instead I have selected to use the `sklearn.svm.LinearSVC` classifier which is similar to `sklearn.svm.SVC` with a linear kernel, but instead is implemented in terms of `liblinear` rather than `libsvm`. Because of this it has more flexibility in the choice of penalties and loss functions and should scale better to large numbers of samples.\n",
    "\n",
    "Unlike the other classifiers in this section I had to tune the penalty parameter, `C`, otherwise the classifier was not returing in a reasonable amount of time (if at all). This I think is likely due to the many features contained in the dataset that may possibly not be linearly separable. Using a higher penalty parameter allows the classifer to priorities correctness over smooth decision boundaries.\n",
    "\n",
    "Despite my best efforts the linear Support Vector Machine classifier has performed similarly to Naive Bayes, arguably slightly worse, with both a slightly lower number of true posites and equally slightly higher number of false negatives."
   ]
  },
  {
   "cell_type": "markdown",
   "metadata": {},
   "source": [
    "### Random Forest"
   ]
  },
  {
   "cell_type": "markdown",
   "metadata": {},
   "source": [
    "Random Forest classifiers are a specific type of bootstrap aggrageted (or bagged) decision tree, an early ensemble method, that builds multiple decision trees by repeatedly resampling training data with replacement, and voting the trees for a consensus prediction. That is a Random Forest classifier is composed of a number of smaller classifiers, in this case decision trees: a non-parametric supervised learning method used for both calssification and regression.\n",
    "\n",
    "Decision trees attempt to create a model that predits the value of a target variable (represented by the leaves) by learning simple rules informed by the features within a dataset. These rules create decision boundaries (represented by the branches) that attempt to separate disimilar examples.\n",
    "\n",
    "A tree can be \"learned\" by splitting the input data into subsets based on an attribute value test. This process is repeated on each derived subset in a recursive manner called recursive partitioning. The recursion is completed when the subset at a node has all the same value of the target variable, or when splitting no longer adds value to the predictions. This process of top-down induction of decision trees is an example of a greedy algorithm, and it is by far the most common strategy for learning decision trees from data.\n",
    "\n",
    "However one of the issues with decision tree learners is that they can create over-complex trees that do not generalise well from the training data. Random decision forests correct for decision trees' habit of overfitting to their training set.\n",
    "\n",
    "An important factor that governs the performace of a random forest is the number of decision tree the compose it. I believe it is generally accepted that the greater number of decision trees the more confidence we can gain from the consensus. However more decision trees, and therefore more subsamples of the training data, result in a classifier that is much slower to train.\n",
    "\n",
    "Another interesting parameter is the [criterion](https://en.wikipedia.org/wiki/Decision_tree_learning#Metrics). This dictates the function used to measure the impurity of a decision boundary. The `sklearn.tree.DecisionTreeClassifier` used here implements 2 known functions to measure boundary impurity. The first is [information gain](https://en.wikipedia.org/wiki/Information_gain_in_decision_trees) and is intended for classification problems, similar to that of this experiment. The second function is gini impurity, intended for continuous values and therefore more appropriate for regression problems. It is interesting to note that both information gain and gini impurity are largely similar as metrics and generally the performance of a classifier will not differ using one or the other. There was a paper written comparing these two metrics where the most important remarks were:\n",
    "\n",
    "* It only matters in 2% of the cases whether you use gini impurity or entropy.\n",
    "* Entropy might be a little slower to compute (because it makes use of the logarithm)."
   ]
  },
  {
   "cell_type": "code",
   "execution_count": 37,
   "metadata": {},
   "outputs": [
    {
     "name": "stdout",
     "output_type": "stream",
     "text": [
      "RandomForestClassifier(bootstrap=True, class_weight=None, criterion='gini',\n",
      "            max_depth=None, max_features='auto', max_leaf_nodes=None,\n",
      "            min_impurity_decrease=0.0, min_impurity_split=None,\n",
      "            min_samples_leaf=1, min_samples_split=2,\n",
      "            min_weight_fraction_leaf=0.0, n_estimators=10, n_jobs=-1,\n",
      "            oob_score=False, random_state=None, verbose=0,\n",
      "            warm_start=False)\n",
      "\tAccuracy: 0.86829\tPrecision: 0.59443\tRecall: 0.24550\tF1: 0.34749\tF2: 0.27816\n",
      "\tTotal predictions: 14000\tTrue positives:  491\tFalse positives:  335\tFalse negatives: 1509\tTrue negatives: 11665\n",
      "\n"
     ]
    }
   ],
   "source": [
    "from sklearn.ensemble import RandomForestClassifier\n",
    "\n",
    "random_forest = RandomForestClassifier(n_jobs=-1)\n",
    "results.loc['Random Forest'] = test_classifier(random_forest, my_dataset, features_list)"
   ]
  },
  {
   "cell_type": "markdown",
   "metadata": {},
   "source": [
    "From the above results I am rather impressed with the fairly high precision this classifiers offers without having performed any hyperparameter tuning or other machine learning techniques. However the recall seems to have suffered even more greatly than the support vector machine classifier. This is a cause for concern since in my opinion the recall is of greater importance in this experiment than the precision. Even more concerning is the increase in false negatives. This is a really undesirable feature of this classifer and can hopefully be improved through tuning. However despite this the F1 score has improved upon both the Naive Bayes and SVM classifiers due to the significant boost in precision."
   ]
  },
  {
   "cell_type": "markdown",
   "metadata": {},
   "source": [
    "### AdaBoost"
   ]
  },
  {
   "cell_type": "markdown",
   "metadata": {},
   "source": [
    "https://en.wikipedia.org/wiki/AdaBoost"
   ]
  },
  {
   "cell_type": "code",
   "execution_count": 38,
   "metadata": {},
   "outputs": [
    {
     "name": "stdout",
     "output_type": "stream",
     "text": [
      "AdaBoostClassifier(algorithm='SAMME.R', base_estimator=None,\n",
      "          learning_rate=1.0, n_estimators=50, random_state=None)\n",
      "\tAccuracy: 0.87029\tPrecision: 0.55549\tRecall: 0.46050\tF1: 0.50355\tF2: 0.47681\n",
      "\tTotal predictions: 14000\tTrue positives:  921\tFalse positives:  737\tFalse negatives: 1079\tTrue negatives: 11263\n",
      "\n"
     ]
    }
   ],
   "source": [
    "from sklearn.ensemble import AdaBoostClassifier\n",
    "\n",
    "adaboost = AdaBoostClassifier()\n",
    "results.loc['AdaBoost'] = test_classifier(adaboost, my_dataset, features_list)"
   ]
  },
  {
   "cell_type": "markdown",
   "metadata": {},
   "source": [
    "By far the most performant out-of-the-box classifier, AdaBoost already scores high enough to have achieved the criteria for this experiment. Most impressively it has attained more true and false positives than any of the other classifiers. This indicates that currently this classifier errs on the side of positive classification (marking examples as persons of interest). This is a favourable tradeoff likely meaning many more persons of interest will be correctly classified as such. However I am still concerned with the number of false negatives this classifier yields. Whilst it is the lowest of all the classifiers it still remains too high to give a satisfacotry level of confidence to dismiss an individual Enron employee."
   ]
  },
  {
   "cell_type": "markdown",
   "metadata": {},
   "source": [
    "Below is the full table of results for comparison."
   ]
  },
  {
   "cell_type": "code",
   "execution_count": 39,
   "metadata": {},
   "outputs": [
    {
     "data": {
      "text/html": [
       "<div>\n",
       "<style scoped>\n",
       "    .dataframe tbody tr th:only-of-type {\n",
       "        vertical-align: middle;\n",
       "    }\n",
       "\n",
       "    .dataframe tbody tr th {\n",
       "        vertical-align: top;\n",
       "    }\n",
       "\n",
       "    .dataframe thead th {\n",
       "        text-align: right;\n",
       "    }\n",
       "</style>\n",
       "<table border=\"1\" class=\"dataframe\">\n",
       "  <thead>\n",
       "    <tr style=\"text-align: right;\">\n",
       "      <th></th>\n",
       "      <th>accuracy</th>\n",
       "      <th>precision</th>\n",
       "      <th>recall</th>\n",
       "      <th>f1</th>\n",
       "      <th>f2</th>\n",
       "    </tr>\n",
       "  </thead>\n",
       "  <tbody>\n",
       "    <tr>\n",
       "      <th>AdaBoost</th>\n",
       "      <td>0.87</td>\n",
       "      <td>0.56</td>\n",
       "      <td>0.46</td>\n",
       "      <td>0.50</td>\n",
       "      <td>0.48</td>\n",
       "    </tr>\n",
       "    <tr>\n",
       "      <th>Random Forest</th>\n",
       "      <td>0.87</td>\n",
       "      <td>0.59</td>\n",
       "      <td>0.25</td>\n",
       "      <td>0.35</td>\n",
       "      <td>0.28</td>\n",
       "    </tr>\n",
       "    <tr>\n",
       "      <th>Naive Bayes</th>\n",
       "      <td>0.76</td>\n",
       "      <td>0.25</td>\n",
       "      <td>0.36</td>\n",
       "      <td>0.30</td>\n",
       "      <td>0.33</td>\n",
       "    </tr>\n",
       "    <tr>\n",
       "      <th>SVM</th>\n",
       "      <td>0.74</td>\n",
       "      <td>0.23</td>\n",
       "      <td>0.36</td>\n",
       "      <td>0.28</td>\n",
       "      <td>0.33</td>\n",
       "    </tr>\n",
       "  </tbody>\n",
       "</table>\n",
       "</div>"
      ],
      "text/plain": [
       "               accuracy  precision  recall   f1   f2\n",
       "AdaBoost           0.87       0.56    0.46 0.50 0.48\n",
       "Random Forest      0.87       0.59    0.25 0.35 0.28\n",
       "Naive Bayes        0.76       0.25    0.36 0.30 0.33\n",
       "SVM                0.74       0.23    0.36 0.28 0.33"
      ]
     },
     "execution_count": 39,
     "metadata": {},
     "output_type": "execute_result"
    }
   ],
   "source": [
    "results.sort_values(by='f1', ascending=False)"
   ]
  },
  {
   "cell_type": "markdown",
   "metadata": {},
   "source": [
    "## Feature Engineering"
   ]
  },
  {
   "cell_type": "markdown",
   "metadata": {},
   "source": [
    "The next step in this experiment is to create new features from the existing data in the Enron dataset. I'll do this in an attempt to tease out any latent information within combinations of features that may improve performance.\n",
    "\n",
    "Using my intuition and resoning about the background of the Enron scandal I have created 6 new features across the payment, stock and email data I have at hand. The payment features implemented are concerned with the fraction of financial compensation awarded as a fraction of the total payment received by each Enron employee. Needless to say that it is quite typical that employees at any organisation can be incentivised by three common types of compensation: salary, bonus and long term incentives (e.g. reward for long service). Therefore is stands to reason that perhaps those persons of interest involved in the Enron scandal were receiving large bonuses or being rewarded huge long service incentives in an attempt to hide fraudulent behaviour. More specifically I have created 3 new features:\n",
    "\n",
    "* salary as a fraction of total payment\n",
    "* bounus as a fraction of total payment\n",
    "* long term incentive as a fraction of total payment\n",
    "\n",
    "It is important to note that here I've also replaced any infinate values that may have resulted from the calculation with 0. This is quite likely to happen since many values in the financial data were given a value of 0 during the data cleaning stage of this experiment.\n",
    "\n",
    "Below I have plotted the salary as a fraction of total payment against bonus as a fraction of total payment to guage if there are any patterns to be found."
   ]
  },
  {
   "cell_type": "code",
   "execution_count": 40,
   "metadata": {},
   "outputs": [
    {
     "data": {
      "image/png": "[encoded data removed]",
      "text/plain": [
       "<matplotlib.figure.Figure at 0x7fa12cb073d0>"
      ]
     },
     "metadata": {},
     "output_type": "display_data"
    },
    {
     "data": {
      "text/plain": [
       "<ggplot: (8770638514129)>"
      ]
     },
     "execution_count": 40,
     "metadata": {},
     "output_type": "execute_result"
    }
   ],
   "source": [
    "enron_data['fraction_salary'] = enron_data.salary / enron_data.total_payments\n",
    "enron_data['fraction_bonus'] = enron_data.bonus / enron_data.total_payments\n",
    "enron_data['fraction_long_term_incentive'] = enron_data.long_term_incentive / enron_data.total_payments\n",
    "\n",
    "# Replace any infinate or missing values.\n",
    "enron_data = enron_data.replace([np.inf, -np.inf], np.nan)\n",
    "enron_data = enron_data.fillna(0)\n",
    "\n",
    "ggplot(enron_data, aes(x='fraction_salary', y='fraction_bonus', color='poi')) + \\\n",
    "    geom_point(size=40.0)"
   ]
  },
  {
   "cell_type": "markdown",
   "metadata": {},
   "source": [
    "Intuitively I'd expect many of the persons of interest involved in the Enron scandal to have large contributions to their total payment from either a bonus or from some other means. In the scatter plot above you can see that many of the persons of interest receive a low salary in respect to their overall total payment but tend towards receiving a higher bonus. That is with expection to a small handful of Enron employees. Suspiciously there are a few data points that indicate a bonus much larger than the total payment they received. I thought this to be an error in the data, but having gone back to the FindLaw report it is clear that the total payment repoted for some employees was significantly reduced due to deferred income."
   ]
  },
  {
   "cell_type": "markdown",
   "metadata": {},
   "source": [
    "Similarly I have plotted the salary as a fraction of total payment against long term incentive as a fraction of total payment."
   ]
  },
  {
   "cell_type": "code",
   "execution_count": 41,
   "metadata": {},
   "outputs": [
    {
     "data": {
      "image/png": "[encoded data removed]",
      "text/plain": [
       "<matplotlib.figure.Figure at 0x7fa12cb9a910>"
      ]
     },
     "metadata": {},
     "output_type": "display_data"
    },
    {
     "data": {
      "text/plain": [
       "<ggplot: (8770638508481)>"
      ]
     },
     "execution_count": 41,
     "metadata": {},
     "output_type": "execute_result"
    }
   ],
   "source": [
    "ggplot(enron_data, aes(x='fraction_salary', y='fraction_long_term_incentive', color='poi')) + \\\n",
    "    geom_point(size=40.0)"
   ]
  },
  {
   "cell_type": "markdown",
   "metadata": {},
   "source": [
    "Apart from the two glaring obvious persons of interest that have long term incentives much larger than their total payment, there does not appear to be any conclusive trend in this data. However I shall keep this feature in case it proves useful to the classifiers. If I find this to not be the case this feature will likely be removed in the feature selection part of the experiment."
   ]
  },
  {
   "cell_type": "markdown",
   "metadata": {},
   "source": [
    "Next I'll create a new stock value feature that, not too disimilar to the new payment features, will represent exercised stock options as a fraction of the total stock value for each Enron employee. The rationale behind this new feature is that employees involved in the scandal may have been given huge amounts of stock that could be later sold.\n",
    "\n",
    "I did not have any other feature that I though appropriate to plot this against so I'll just leave this feature for the classifiers to judge it's usefulness whilst performing feature selection."
   ]
  },
  {
   "cell_type": "code",
   "execution_count": 42,
   "metadata": {},
   "outputs": [],
   "source": [
    "enron_data['fraction_exercised_stock_options'] = enron_data.exercised_stock_options / enron_data.total_stock_value\n",
    "\n",
    "# Replace any infinite or missing values.\n",
    "enron_data = enron_data.replace([np.inf, -np.inf], np.nan)\n",
    "enron_data = enron_data.fillna(0)"
   ]
  },
  {
   "cell_type": "markdown",
   "metadata": {},
   "source": [
    "Last, I created new email features that attempt to tease out the frequency at which persons of interest were in contact (via email) with each other as a proportion to the total number of message they either sent or received. The reason I find these features to be of interest is becuase it seems likely for this scandal to have gone unnoticed for so long that key individuals were privately sending messages to coordinate fraudulant activity. More specifically I have created 2 new features:\n",
    "\n",
    "* messages sent to a person of interest as a fraction of total messages sent\n",
    "* messaged received from a person of interest as a fraction of total messaged received\n",
    "\n",
    "I have plotted these two features against each other to find any trends."
   ]
  },
  {
   "cell_type": "code",
   "execution_count": 43,
   "metadata": {},
   "outputs": [
    {
     "data": {
      "image/png": "[encoded data removed]",
      "text/plain": [
       "<matplotlib.figure.Figure at 0x7fa12ccb8e50>"
      ]
     },
     "metadata": {},
     "output_type": "display_data"
    },
    {
     "data": {
      "text/plain": [
       "<ggplot: (8770638643181)>"
      ]
     },
     "execution_count": 43,
     "metadata": {},
     "output_type": "execute_result"
    }
   ],
   "source": [
    "enron_data['fraction_from_poi_to_this_person'] = enron_data.from_poi_to_this_person / enron_data.to_messages\n",
    "enron_data['fraction_from_this_person_to_poi'] = enron_data.from_this_person_to_poi / enron_data.from_messages\n",
    "\n",
    "ggplot(enron_data, aes(x='fraction_from_poi_to_this_person', y='fraction_from_this_person_to_poi', color='poi')) + \\\n",
    "    geom_point(size=40.0)"
   ]
  },
  {
   "cell_type": "markdown",
   "metadata": {},
   "source": [
    "Intuitively I would have imagined persons of interest to sit somewhere towards the top right of the graph whilst the other employees would be scattered about as they innocently get on with their jobs. However the scatter plot does not contain any discernible pattern that I can see. What is apparent from this plot is that Enron employees tended to send more email messages to persons on interest than receive them.\n",
    "\n",
    "However all is not lost as there are a few data points in this plot worth exploring. An interesting data point is the Enron employee that has not be flagged as a person of interest but has only ever sent email messages to other persons of interest. Lets find out who this is."
   ]
  },
  {
   "cell_type": "code",
   "execution_count": 44,
   "metadata": {},
   "outputs": [
    {
     "data": {
      "text/html": [
       "<div>\n",
       "<style scoped>\n",
       "    .dataframe tbody tr th:only-of-type {\n",
       "        vertical-align: middle;\n",
       "    }\n",
       "\n",
       "    .dataframe tbody tr th {\n",
       "        vertical-align: top;\n",
       "    }\n",
       "\n",
       "    .dataframe thead th {\n",
       "        text-align: right;\n",
       "    }\n",
       "</style>\n",
       "<table border=\"1\" class=\"dataframe\">\n",
       "  <thead>\n",
       "    <tr style=\"text-align: right;\">\n",
       "      <th></th>\n",
       "      <th>fraction_from_this_person_to_poi</th>\n",
       "      <th>from_messages</th>\n",
       "    </tr>\n",
       "  </thead>\n",
       "  <tbody>\n",
       "    <tr>\n",
       "      <th>HUMPHREY GENE E</th>\n",
       "      <td>1.00</td>\n",
       "      <td>17.00</td>\n",
       "    </tr>\n",
       "    <tr>\n",
       "      <th>SHERRICK JEFFREY B</th>\n",
       "      <td>0.72</td>\n",
       "      <td>25.00</td>\n",
       "    </tr>\n",
       "  </tbody>\n",
       "</table>\n",
       "</div>"
      ],
      "text/plain": [
       "                    fraction_from_this_person_to_poi  from_messages\n",
       "HUMPHREY GENE E                                 1.00          17.00\n",
       "SHERRICK JEFFREY B                              0.72          25.00"
      ]
     },
     "execution_count": 44,
     "metadata": {},
     "output_type": "execute_result"
    }
   ],
   "source": [
    "enron_data.sort_values(by='fraction_from_this_person_to_poi', ascending=False) \\\n",
    "    .loc[:, ['fraction_from_this_person_to_poi', 'from_messages']].head(2)"
   ]
  },
  {
   "cell_type": "markdown",
   "metadata": {},
   "source": [
    "Whilst I could not find much on the internet that would identify the role Gene Hunphrey had at Enron I was able to discover to whom he was sending the messages:\n",
    "\n",
    "* Kenneth Lay\n",
    "* Jeffrey Skilling\n",
    "\n",
    "Considering he only sent 17 messages it is not too hard to believe why this metric is so high.\n",
    "\n",
    "Jeffrey Sherrick in another interesting data point who sent email messages primarily to Kenneth Lay. However this is justified by the fact he was the President of Enron Global Exploration & Production Inc. and therfore part of the corporate leadership and central management at Enron.\n",
    "\n",
    "The last data point I want to explore is the employee that has clearly received the most emails from persons of interest as a fraction of the total number of emails received. Lets find out who this is."
   ]
  },
  {
   "cell_type": "code",
   "execution_count": 45,
   "metadata": {},
   "outputs": [
    {
     "data": {
      "text/html": [
       "<div>\n",
       "<style scoped>\n",
       "    .dataframe tbody tr th:only-of-type {\n",
       "        vertical-align: middle;\n",
       "    }\n",
       "\n",
       "    .dataframe tbody tr th {\n",
       "        vertical-align: top;\n",
       "    }\n",
       "\n",
       "    .dataframe thead th {\n",
       "        text-align: right;\n",
       "    }\n",
       "</style>\n",
       "<table border=\"1\" class=\"dataframe\">\n",
       "  <thead>\n",
       "    <tr style=\"text-align: right;\">\n",
       "      <th></th>\n",
       "      <th>fraction_from_poi_to_this_person</th>\n",
       "      <th>fraction_from_this_person_to_poi</th>\n",
       "      <th>to_messages</th>\n",
       "      <th>from_messages</th>\n",
       "    </tr>\n",
       "  </thead>\n",
       "  <tbody>\n",
       "    <tr>\n",
       "      <th>DONAHUE JR JEFFREY M</th>\n",
       "      <td>0.22</td>\n",
       "      <td>0.50</td>\n",
       "      <td>865.00</td>\n",
       "      <td>22.00</td>\n",
       "    </tr>\n",
       "  </tbody>\n",
       "</table>\n",
       "</div>"
      ],
      "text/plain": [
       "                      fraction_from_poi_to_this_person  \\\n",
       "DONAHUE JR JEFFREY M                              0.22   \n",
       "\n",
       "                      fraction_from_this_person_to_poi  to_messages  \\\n",
       "DONAHUE JR JEFFREY M                              0.50       865.00   \n",
       "\n",
       "                      from_messages  \n",
       "DONAHUE JR JEFFREY M          22.00  "
      ]
     },
     "execution_count": 45,
     "metadata": {},
     "output_type": "execute_result"
    }
   ],
   "source": [
    "enron_data.sort_values(by='fraction_from_poi_to_this_person', ascending=False) \\\n",
    "    .loc[:, ['fraction_from_poi_to_this_person', 'fraction_from_this_person_to_poi', 'to_messages', 'from_messages']].head(1)"
   ]
  },
  {
   "cell_type": "markdown",
   "metadata": {},
   "source": [
    "Jeffrey Donahue held a number of senior corporate development roles whilst at Enron and it is evident from the above table that 50% of the messages he sent were to a person of interest (which is only 11 messages). Additionally he received 190 messages from persons of interest, making up 22% of the messages he received overall. Taking a look at his email data I can see that he both sent messages to and received messages from the following persons of interest:\n",
    "\n",
    "* David Delainey\n",
    "* Kenneth Lay\n",
    "* Jeffrey Skilling\n",
    "\n",
    "So although neither Gene Humphrey, Jeffrey Sherrick nor Jeffrey Donahue are themselves persons of interest it is fascinating to discover that they were all in contact with the same few empoyees of the company involved in the scandal."
   ]
  },
  {
   "cell_type": "markdown",
   "metadata": {},
   "source": [
    "As before I will extract a dictionary from the dataframe we've been using throughout this investingation, now including the new engineered features, and reorient the data. In addition I will now be using the `test_classifiers` method I implemented earlier to more comprehensively evaluate a list of classifiers sequentially, and will continue to take this approach from this point in the experiment."
   ]
  },
  {
   "cell_type": "code",
   "execution_count": 46,
   "metadata": {},
   "outputs": [],
   "source": [
    "engineered_features = ['fraction_salary', 'fraction_bonus', 'fraction_long_term_incentive',\n",
    "                       'fraction_exercised_stock_options', 'fraction_from_poi_to_this_person',\n",
    "                       'fraction_from_this_person_to_poi']\n",
    "\n",
    "# Append the engineered features to our list of original features.\n",
    "extended_features_list = features_list + engineered_features"
   ]
  },
  {
   "cell_type": "markdown",
   "metadata": {},
   "source": []
  },
  {
   "cell_type": "code",
   "execution_count": 47,
   "metadata": {},
   "outputs": [
    {
     "name": "stdout",
     "output_type": "stream",
     "text": [
      "=====> Running Naive Bayes\n",
      "\n",
      "=====> Running SVM\n",
      "\n",
      "=====> Running Random Forest\n",
      "\n",
      "=====> Running AdaBoost\n",
      "\n"
     ]
    },
    {
     "data": {
      "text/html": [
       "<div>\n",
       "<style scoped>\n",
       "    .dataframe tbody tr th:only-of-type {\n",
       "        vertical-align: middle;\n",
       "    }\n",
       "\n",
       "    .dataframe tbody tr th {\n",
       "        vertical-align: top;\n",
       "    }\n",
       "\n",
       "    .dataframe thead th {\n",
       "        text-align: right;\n",
       "    }\n",
       "</style>\n",
       "<table border=\"1\" class=\"dataframe\">\n",
       "  <thead>\n",
       "    <tr style=\"text-align: right;\">\n",
       "      <th></th>\n",
       "      <th>accuracy</th>\n",
       "      <th>precision</th>\n",
       "      <th>recall</th>\n",
       "      <th>f1</th>\n",
       "      <th>f2</th>\n",
       "    </tr>\n",
       "  </thead>\n",
       "  <tbody>\n",
       "    <tr>\n",
       "      <th>AdaBoost</th>\n",
       "      <td>0.87</td>\n",
       "      <td>0.56</td>\n",
       "      <td>0.48</td>\n",
       "      <td>0.52</td>\n",
       "      <td>0.49</td>\n",
       "    </tr>\n",
       "    <tr>\n",
       "      <th>Random Forest</th>\n",
       "      <td>0.88</td>\n",
       "      <td>0.69</td>\n",
       "      <td>0.30</td>\n",
       "      <td>0.42</td>\n",
       "      <td>0.34</td>\n",
       "    </tr>\n",
       "    <tr>\n",
       "      <th>Naive Bayes</th>\n",
       "      <td>0.76</td>\n",
       "      <td>0.25</td>\n",
       "      <td>0.36</td>\n",
       "      <td>0.30</td>\n",
       "      <td>0.33</td>\n",
       "    </tr>\n",
       "    <tr>\n",
       "      <th>SVM</th>\n",
       "      <td>0.74</td>\n",
       "      <td>0.23</td>\n",
       "      <td>0.36</td>\n",
       "      <td>0.28</td>\n",
       "      <td>0.33</td>\n",
       "    </tr>\n",
       "  </tbody>\n",
       "</table>\n",
       "</div>"
      ],
      "text/plain": [
       "               accuracy  precision  recall   f1   f2\n",
       "AdaBoost           0.87       0.56    0.48 0.52 0.49\n",
       "Random Forest      0.88       0.69    0.30 0.42 0.34\n",
       "Naive Bayes        0.76       0.25    0.36 0.30 0.33\n",
       "SVM                0.74       0.23    0.36 0.28 0.33"
      ]
     },
     "execution_count": 47,
     "metadata": {},
     "output_type": "execute_result"
    }
   ],
   "source": [
    "# Extract the data from the dataframe, including the engineered features.\n",
    "my_extended_dataset = enron_data.to_dict(orient='index')\n",
    "\n",
    "# Create a list of classifiers to evaluate.\n",
    "clfs = [\n",
    "  (u'Naive Bayes', GaussianNB()),\n",
    "  (u'SVM', LinearSVC(C=1000.0)),\n",
    "  (u'Random Forest', RandomForestClassifier(n_jobs=-1)),\n",
    "  (u'AdaBoost', AdaBoostClassifier())\n",
    "]\n",
    "\n",
    "test_classifiers(clfs, my_extended_dataset, extended_features_list)"
   ]
  },
  {
   "cell_type": "markdown",
   "metadata": {},
   "source": [
    "The above table shows that overall adding these 4 new features has not had a significant impact on the performace of each classifier, with exception to the `RandomForestClassifier` that has an imporoved F1 score of 41% (a 5% increase). This is due to both an increase in the precision and recall of this particular classifer. This I admit is a little disappointing as I had hoped some latent patterns to be discovered in these new features that would show a greater performace across all the classifiers. However I will keep all of these features until later feature selection deems them as having no significant effect."
   ]
  },
  {
   "cell_type": "markdown",
   "metadata": {},
   "source": [
    "In total I have engineered 6 features:\n",
    "\n",
    "- fraction_salary\n",
    "- fraction_bonus\n",
    "- fraction_long_term_incentive\n",
    "- fraction_exercised_stock_options\n",
    "- fraction_from_poi_to_this_person\n",
    "- fraction_from_this_person_to_poi\n",
    "\n",
    "Lets write these engineered dataset to disk to be used in the final submission."
   ]
  },
  {
   "cell_type": "code",
   "execution_count": 48,
   "metadata": {},
   "outputs": [],
   "source": [
    "# Save the engineered dictionary containing the dataset.\n",
    "with open('final_project_dataset_engineered.pkl', 'wb') as data_file:\n",
    "    pickle.dump(my_extended_dataset, data_file, protocol=pickle.HIGHEST_PROTOCOL)"
   ]
  },
  {
   "cell_type": "markdown",
   "metadata": {},
   "source": [
    "## Feature Scaling"
   ]
  },
  {
   "cell_type": "markdown",
   "metadata": {},
   "source": [
    "In general, classifiers that exploit distances (i.e. [Euclidean distance](https://en.wikipedia.org/wiki/Euclidean_distance)) or similarities between examples are sensitive to features taking on broad ranges of values. That is classifiers that have a co-dependancy between dimentions are effected by feature scaling. For example if one feature takes on a range of values much greater than the other features in the same dataset, the distance will be goverened by this particular feature. Therefore it is best practice to normalise (or standardise) all features within a dataset such that each contributes proportionately to the final distance.\n",
    "\n",
    "Examples of classifers sensitive to feature scaling include both Support Vector Machines and K-Nearest Neighbour. Therefore it is imperitive for this experiment that, at least in the case of the `LinearSVC`, the features are appropriately scaled.\n",
    "\n",
    "Conversely graphical-model based classifiers, such as Naive Bayes, as well as Decision trees and Tree-based ensemble methods (Random Forest, AdaBoost) are invariant to feature scaling. However as part of the experimentation I will scale the data for these classifiers to investigate what differece, if any, it makes to the performance."
   ]
  },
  {
   "cell_type": "markdown",
   "metadata": {},
   "source": [
    "### Rescaling (min-max Normalisation)"
   ]
  },
  {
   "cell_type": "markdown",
   "metadata": {},
   "source": [
    "[Normalisation](https://en.wikipedia.org/wiki/Normalization_(statistics)) is a method commonly deployed in machine learning centered around rescaling that uses the extreme values within a particular distribution. More specifically it looks at the minimum and maximum values, the range of a feature, and then shrinks or stretches each value to a common range. This common range will typically be between` [0, 1]` or `[-1, 1]`. Selecting the target range depends on the nature of the data. The general formula is given as:"
   ]
  },
  {
   "cell_type": "markdown",
   "metadata": {},
   "source": [
    "\\begin{align}\n",
    "x^{\\prime} = \\frac{\\left(x - x_{min}\\right)}{\\left(x_{max} - x_{min}\\right)}\n",
    "\\end{align}"
   ]
  },
  {
   "cell_type": "markdown",
   "metadata": {},
   "source": [
    "It is basically at what percentage of a range the value lies. Since the range is only determined by the minimum and maximum for each feature normalisation is invarient to extreme values. For example a series containing values `[-100, 10, 11, 12, 900]` can still be normalised within a range of `[0, 1]`. Here the normalised output would be `[0, 0.11, 0.111, 0.112, 1]`. What follows is an example of applying feature normalisation to the Enron dataset and what effect this has to the performance of each classifer."
   ]
  },
  {
   "cell_type": "code",
   "execution_count": 49,
   "metadata": {},
   "outputs": [
    {
     "name": "stdout",
     "output_type": "stream",
     "text": [
      "=====> Running Naive Bayes\n",
      "\n",
      "=====> Running SVM\n",
      "\n",
      "=====> Running Random Forest\n",
      "\n",
      "=====> Running AdaBoost\n",
      "\n"
     ]
    },
    {
     "data": {
      "text/html": [
       "<div>\n",
       "<style scoped>\n",
       "    .dataframe tbody tr th:only-of-type {\n",
       "        vertical-align: middle;\n",
       "    }\n",
       "\n",
       "    .dataframe tbody tr th {\n",
       "        vertical-align: top;\n",
       "    }\n",
       "\n",
       "    .dataframe thead th {\n",
       "        text-align: right;\n",
       "    }\n",
       "</style>\n",
       "<table border=\"1\" class=\"dataframe\">\n",
       "  <thead>\n",
       "    <tr style=\"text-align: right;\">\n",
       "      <th></th>\n",
       "      <th>accuracy</th>\n",
       "      <th>precision</th>\n",
       "      <th>recall</th>\n",
       "      <th>f1</th>\n",
       "      <th>f2</th>\n",
       "    </tr>\n",
       "  </thead>\n",
       "  <tbody>\n",
       "    <tr>\n",
       "      <th>AdaBoost</th>\n",
       "      <td>0.87</td>\n",
       "      <td>0.56</td>\n",
       "      <td>0.47</td>\n",
       "      <td>0.52</td>\n",
       "      <td>0.49</td>\n",
       "    </tr>\n",
       "    <tr>\n",
       "      <th>SVM</th>\n",
       "      <td>0.83</td>\n",
       "      <td>0.42</td>\n",
       "      <td>0.42</td>\n",
       "      <td>0.42</td>\n",
       "      <td>0.42</td>\n",
       "    </tr>\n",
       "    <tr>\n",
       "      <th>Random Forest</th>\n",
       "      <td>0.88</td>\n",
       "      <td>0.65</td>\n",
       "      <td>0.27</td>\n",
       "      <td>0.39</td>\n",
       "      <td>0.31</td>\n",
       "    </tr>\n",
       "    <tr>\n",
       "      <th>Naive Bayes</th>\n",
       "      <td>0.67</td>\n",
       "      <td>0.24</td>\n",
       "      <td>0.57</td>\n",
       "      <td>0.33</td>\n",
       "      <td>0.45</td>\n",
       "    </tr>\n",
       "  </tbody>\n",
       "</table>\n",
       "</div>"
      ],
      "text/plain": [
       "               accuracy  precision  recall   f1   f2\n",
       "AdaBoost           0.87       0.56    0.47 0.52 0.49\n",
       "SVM                0.83       0.42    0.42 0.42 0.42\n",
       "Random Forest      0.88       0.65    0.27 0.39 0.31\n",
       "Naive Bayes        0.67       0.24    0.57 0.33 0.45"
      ]
     },
     "execution_count": 49,
     "metadata": {},
     "output_type": "execute_result"
    }
   ],
   "source": [
    "from sklearn.preprocessing import MinMaxScaler\n",
    "\n",
    "scaler = MinMaxScaler()\n",
    "columns_to_scale = enron_data.columns.drop('poi') # poi is not a feature and should not be considered\n",
    "\n",
    "# Make a copy of the extended dataset and perform scaling.\n",
    "enron_data_normalised = enron_data.copy()\n",
    "enron_data_normalised[columns_to_scale] = scaler.fit_transform(enron_data[columns_to_scale])\n",
    "\n",
    "# Extract the data from the dataframe, with the features normalised.\n",
    "my_normalised_dataset = enron_data_normalised.to_dict(orient='index')\n",
    "\n",
    "# Create a list of classifiers to evaluate.\n",
    "clfs = [\n",
    "  (u'Naive Bayes', GaussianNB()),\n",
    "  (u'SVM', LinearSVC(C=1000.0)),\n",
    "  (u'Random Forest', RandomForestClassifier(n_jobs=-1)),\n",
    "  (u'AdaBoost', AdaBoostClassifier())\n",
    "]\n",
    "\n",
    "test_classifiers(clfs, my_normalised_dataset, extended_features_list)"
   ]
  },
  {
   "cell_type": "markdown",
   "metadata": {},
   "source": [
    "Quite unsurprisingly, normalising the features has had no (or very little) effect on the results of the AdaBoost and RandomForest classifiers, having only in the case of the AdaBoost classifier increasd recall by 1%. This I have deemed not significant enough to warrant any further investigation. Conversely normalisaing the features has surprisingly had a mixed effect on the Naive Bayes classifier, reducing the accuracy by almost 10% whilst increasing the recall by over 20%. Since all texts online have led me to believe Naive Bayes is invariant to feature scaling I am rather curious as to why this has had such a significant impact.\n",
    "\n",
    "Again unsurprisingly, as the only non graphical-model based classifer I am using to evaluate a predictive model, the performance of the support vector machine has improved vastly from having previously been the least performant, to being far more comparible to the most performant classifiers in the table."
   ]
  },
  {
   "cell_type": "markdown",
   "metadata": {},
   "source": [
    "### Standardisation"
   ]
  },
  {
   "cell_type": "markdown",
   "metadata": {},
   "source": [
    "[Standardisation](https://en.wikipedia.org/wiki/Feature_scaling#Standardization) is another method of feature scaling and is employed by `sklearn.preprocessing.scale()` which assumes that all features are normally distributed (each feature with a different mean and standard deviation), and scales them such that each feature's Gaussian distribution is now centered around 0, and it's standard deviation is 1 (unit-variance).\n",
    "\n",
    "It achieves this by calculating the distribution mean and standard deviation for each feature, and converts each value into a z-score, defined as the number of standard deviations away from the mean:"
   ]
  },
  {
   "cell_type": "markdown",
   "metadata": {},
   "source": [
    "\\begin{align}\n",
    "x^{\\prime} = \\frac{\\left(x - \\bar{x}\\right)}{\\sigma}\n",
    "\\end{align}"
   ]
  },
  {
   "cell_type": "markdown",
   "metadata": {},
   "source": [
    "In ideal circumstances where all features hold the normality assumption, in addition to many practical situations where the normality assumption does not hold but the distributions are somewhat close, this scheme still works pretty well. On the other hand if the data is far from normally distributed, for example, highly skewed, fat-tailed distributions like a [power-law](https://en.wikipedia.org/wiki/Power_law), this scheme will not give good results."
   ]
  },
  {
   "cell_type": "code",
   "execution_count": 50,
   "metadata": {},
   "outputs": [
    {
     "name": "stdout",
     "output_type": "stream",
     "text": [
      "=====> Running Naive Bayes\n",
      "\n",
      "=====> Running SVM\n",
      "\n",
      "=====> Running Random Forest\n",
      "\n",
      "=====> Running AdaBoost\n",
      "\n"
     ]
    },
    {
     "data": {
      "text/html": [
       "<div>\n",
       "<style scoped>\n",
       "    .dataframe tbody tr th:only-of-type {\n",
       "        vertical-align: middle;\n",
       "    }\n",
       "\n",
       "    .dataframe tbody tr th {\n",
       "        vertical-align: top;\n",
       "    }\n",
       "\n",
       "    .dataframe thead th {\n",
       "        text-align: right;\n",
       "    }\n",
       "</style>\n",
       "<table border=\"1\" class=\"dataframe\">\n",
       "  <thead>\n",
       "    <tr style=\"text-align: right;\">\n",
       "      <th></th>\n",
       "      <th>accuracy</th>\n",
       "      <th>precision</th>\n",
       "      <th>recall</th>\n",
       "      <th>f1</th>\n",
       "      <th>f2</th>\n",
       "    </tr>\n",
       "  </thead>\n",
       "  <tbody>\n",
       "    <tr>\n",
       "      <th>AdaBoost</th>\n",
       "      <td>0.87</td>\n",
       "      <td>0.56</td>\n",
       "      <td>0.48</td>\n",
       "      <td>0.52</td>\n",
       "      <td>0.49</td>\n",
       "    </tr>\n",
       "    <tr>\n",
       "      <th>SVM</th>\n",
       "      <td>0.84</td>\n",
       "      <td>0.44</td>\n",
       "      <td>0.56</td>\n",
       "      <td>0.49</td>\n",
       "      <td>0.53</td>\n",
       "    </tr>\n",
       "    <tr>\n",
       "      <th>Random Forest</th>\n",
       "      <td>0.88</td>\n",
       "      <td>0.66</td>\n",
       "      <td>0.29</td>\n",
       "      <td>0.40</td>\n",
       "      <td>0.32</td>\n",
       "    </tr>\n",
       "    <tr>\n",
       "      <th>Naive Bayes</th>\n",
       "      <td>0.63</td>\n",
       "      <td>0.23</td>\n",
       "      <td>0.68</td>\n",
       "      <td>0.35</td>\n",
       "      <td>0.49</td>\n",
       "    </tr>\n",
       "  </tbody>\n",
       "</table>\n",
       "</div>"
      ],
      "text/plain": [
       "               accuracy  precision  recall   f1   f2\n",
       "AdaBoost           0.87       0.56    0.48 0.52 0.49\n",
       "SVM                0.84       0.44    0.56 0.49 0.53\n",
       "Random Forest      0.88       0.66    0.29 0.40 0.32\n",
       "Naive Bayes        0.63       0.23    0.68 0.35 0.49"
      ]
     },
     "execution_count": 50,
     "metadata": {},
     "output_type": "execute_result"
    }
   ],
   "source": [
    "from sklearn.preprocessing import StandardScaler\n",
    "\n",
    "scaler = StandardScaler()\n",
    "columns_to_scale = enron_data.columns.drop('poi') # poi is not a feature and should not be considered\n",
    "\n",
    "# Make a copy of the extended dataset and perform scaling.\n",
    "enron_data_standardised = enron_data.copy()\n",
    "enron_data_standardised[columns_to_scale] = scaler.fit_transform(enron_data[columns_to_scale])\n",
    "\n",
    "# Extract the data from the dataframe, with the features standardised.\n",
    "my_standardised_dataset = enron_data_standardised.to_dict(orient='index')\n",
    "\n",
    "# Create a list of classifiers to evaluate.\n",
    "clfs = [\n",
    "  (u'Naive Bayes', GaussianNB()),\n",
    "  (u'SVM', LinearSVC(C=1000.0)),\n",
    "  (u'Random Forest', RandomForestClassifier(n_jobs=-1)),\n",
    "  (u'AdaBoost', AdaBoostClassifier())\n",
    "]\n",
    "\n",
    "test_classifiers(clfs, my_standardised_dataset, extended_features_list)"
   ]
  },
  {
   "cell_type": "markdown",
   "metadata": {},
   "source": [
    "The results above show a similar trend to those obtained from normalising the data, with no discerbale difference in performance from both the AdaBoost and RandomForest classifiers and a large improvement from the support vecor machine. It is important to note however that standardising the data has somewhat further improved the performace of the support vector machine over normalisation, boosting the F1 score to almost that of the most performant classifier.\n",
    "\n",
    "As before, and just as surprisingly the Naive Bayes classifier has returned a decrease in accuracy but overall improvement in recall and therefore F2 score. At a later date I would like to dive into why scaling the data is causing this behaviour from this particular classifier."
   ]
  },
  {
   "cell_type": "markdown",
   "metadata": {},
   "source": [
    "### Considerations..."
   ]
  },
  {
   "cell_type": "markdown",
   "metadata": {},
   "source": [
    "Rescaling ([MinMaxScaler](http://scikit-learn.org/stable/modules/generated/sklearn.preprocessing.MinMaxScaler.html#sklearn.preprocessing.MinMaxScaler)) works much better in certain cases where standarisation ([StandardScaler](http://scikit-learn.org/stable/modules/generated/sklearn.preprocessing.StandardScaler.html)) might not work well. For example, if the standard deviations are very small for features, standarisation is highly sensitive to tiny changes between standard deviations of different features, but rescaling is very robust. Also, for features with highly skewed distributions, or sparse cases where each feature has a lot of zeros that move the distribution away from a Gaussian, rescaling is a better choice."
   ]
  },
  {
   "cell_type": "code",
   "execution_count": 51,
   "metadata": {},
   "outputs": [
    {
     "data": {
      "text/html": [
       "<div>\n",
       "<style scoped>\n",
       "    .dataframe tbody tr th:only-of-type {\n",
       "        vertical-align: middle;\n",
       "    }\n",
       "\n",
       "    .dataframe tbody tr th {\n",
       "        vertical-align: top;\n",
       "    }\n",
       "\n",
       "    .dataframe thead th {\n",
       "        text-align: right;\n",
       "    }\n",
       "</style>\n",
       "<table border=\"1\" class=\"dataframe\">\n",
       "  <thead>\n",
       "    <tr style=\"text-align: right;\">\n",
       "      <th></th>\n",
       "      <th># standard deviations</th>\n",
       "    </tr>\n",
       "  </thead>\n",
       "  <tbody>\n",
       "    <tr>\n",
       "      <th>salary</th>\n",
       "      <td>197600.56</td>\n",
       "    </tr>\n",
       "    <tr>\n",
       "      <th>to_messages</th>\n",
       "      <td>2043.02</td>\n",
       "    </tr>\n",
       "    <tr>\n",
       "      <th>deferral_payments</th>\n",
       "      <td>766161.13</td>\n",
       "    </tr>\n",
       "    <tr>\n",
       "      <th>total_payments</th>\n",
       "      <td>8901866.63</td>\n",
       "    </tr>\n",
       "    <tr>\n",
       "      <th>exercised_stock_options</th>\n",
       "      <td>4995771.18</td>\n",
       "    </tr>\n",
       "    <tr>\n",
       "      <th>bonus</th>\n",
       "      <td>1082916.14</td>\n",
       "    </tr>\n",
       "    <tr>\n",
       "      <th>restricted_stock</th>\n",
       "      <td>2030256.98</td>\n",
       "    </tr>\n",
       "    <tr>\n",
       "      <th>shared_receipt_with_poi</th>\n",
       "      <td>937.60</td>\n",
       "    </tr>\n",
       "    <tr>\n",
       "      <th>restricted_stock_deferred</th>\n",
       "      <td>277901.51</td>\n",
       "    </tr>\n",
       "    <tr>\n",
       "      <th>total_stock_value</th>\n",
       "      <td>6361214.05</td>\n",
       "    </tr>\n",
       "    <tr>\n",
       "      <th>expenses</th>\n",
       "      <td>46381.80</td>\n",
       "    </tr>\n",
       "    <tr>\n",
       "      <th>loan_advances</th>\n",
       "      <td>6915543.11</td>\n",
       "    </tr>\n",
       "    <tr>\n",
       "      <th>from_messages</th>\n",
       "      <td>1459.43</td>\n",
       "    </tr>\n",
       "    <tr>\n",
       "      <th>other</th>\n",
       "      <td>1150429.36</td>\n",
       "    </tr>\n",
       "    <tr>\n",
       "      <th>from_this_person_to_poi</th>\n",
       "      <td>73.39</td>\n",
       "    </tr>\n",
       "    <tr>\n",
       "      <th>director_fees</th>\n",
       "      <td>29479.77</td>\n",
       "    </tr>\n",
       "    <tr>\n",
       "      <th>deferred_income</th>\n",
       "      <td>615568.91</td>\n",
       "    </tr>\n",
       "    <tr>\n",
       "      <th>long_term_incentive</th>\n",
       "      <td>682003.43</td>\n",
       "    </tr>\n",
       "    <tr>\n",
       "      <th>from_poi_to_this_person</th>\n",
       "      <td>57.80</td>\n",
       "    </tr>\n",
       "    <tr>\n",
       "      <th>fraction_salary</th>\n",
       "      <td>0.20</td>\n",
       "    </tr>\n",
       "    <tr>\n",
       "      <th>fraction_bonus</th>\n",
       "      <td>0.59</td>\n",
       "    </tr>\n",
       "    <tr>\n",
       "      <th>fraction_long_term_incentive</th>\n",
       "      <td>0.56</td>\n",
       "    </tr>\n",
       "    <tr>\n",
       "      <th>fraction_exercised_stock_options</th>\n",
       "      <td>0.39</td>\n",
       "    </tr>\n",
       "    <tr>\n",
       "      <th>fraction_from_poi_to_this_person</th>\n",
       "      <td>0.03</td>\n",
       "    </tr>\n",
       "    <tr>\n",
       "      <th>fraction_from_this_person_to_poi</th>\n",
       "      <td>0.17</td>\n",
       "    </tr>\n",
       "  </tbody>\n",
       "</table>\n",
       "</div>"
      ],
      "text/plain": [
       "                                  # standard deviations\n",
       "salary                                        197600.56\n",
       "to_messages                                     2043.02\n",
       "deferral_payments                             766161.13\n",
       "total_payments                               8901866.63\n",
       "exercised_stock_options                      4995771.18\n",
       "bonus                                        1082916.14\n",
       "restricted_stock                             2030256.98\n",
       "shared_receipt_with_poi                          937.60\n",
       "restricted_stock_deferred                     277901.51\n",
       "total_stock_value                            6361214.05\n",
       "expenses                                       46381.80\n",
       "loan_advances                                6915543.11\n",
       "from_messages                                   1459.43\n",
       "other                                        1150429.36\n",
       "from_this_person_to_poi                           73.39\n",
       "director_fees                                  29479.77\n",
       "deferred_income                               615568.91\n",
       "long_term_incentive                           682003.43\n",
       "from_poi_to_this_person                           57.80\n",
       "fraction_salary                                    0.20\n",
       "fraction_bonus                                     0.59\n",
       "fraction_long_term_incentive                       0.56\n",
       "fraction_exercised_stock_options                   0.39\n",
       "fraction_from_poi_to_this_person                   0.03\n",
       "fraction_from_this_person_to_poi                   0.17"
      ]
     },
     "execution_count": 51,
     "metadata": {},
     "output_type": "execute_result"
    }
   ],
   "source": [
    "enron_data.drop(columns=['poi']).std().to_frame('# standard deviations')"
   ]
  },
  {
   "cell_type": "markdown",
   "metadata": {},
   "source": [
    "Despite there being a small handful of features with tiny standard deviations, all resulting from features engineered in the previous section, it is conclusive from the test results that standardisation has seen the largest improvments in the non graphical-model based classifiers (in this case only SVM). Moreover since standardisation also has no significant effect on both the AdaBoost and RandomForest classifiers it should not harm to apply the same scaling operation when further testing these classifers in later sections, thus making experimentation much easier and fair.\n",
    "\n",
    "However due to the surprising results from the Naive Bayes classifier it may be time to eliminate it from the list of potential candidates for final selection. Despite in both cases (normalisation and standardisation) Naive Bayes performed slightly better, according to the evaluation metrics I'm optimising for, I feel this may be coincidental and this particular classifier too unpredictable to continue evaluating."
   ]
  },
  {
   "cell_type": "markdown",
   "metadata": {},
   "source": [
    "Lets write the standardised dataset to disk to be used in the final submission."
   ]
  },
  {
   "cell_type": "code",
   "execution_count": 52,
   "metadata": {},
   "outputs": [],
   "source": [
    "# Save the engineered dictionary containing the dataset.\n",
    "with open('final_project_dataset_standardised.pkl', 'wb') as data_file:\n",
    "    pickle.dump(my_standardised_dataset, data_file, protocol=pickle.HIGHEST_PROTOCOL)"
   ]
  },
  {
   "cell_type": "markdown",
   "metadata": {},
   "source": [
    "## Feature Selection"
   ]
  },
  {
   "cell_type": "markdown",
   "metadata": {},
   "source": [
    "The features in our dataset have a significant influence over the performance of the predictive model we are able to create. Broadly speaking, in machine learning if you feed garbage into a classifier you should expect only garbage to come out. This becomes more important as the number of features in the dataset grows. You need not use every available feature when creating a model, therefore it is important to discover which features are contributing most to predicting the output variable. In our case this is the  likelihood an Enron employee is in fact a person of interest. This is a very difficult problem which often requires a deep understanding of the domain. However it is possible to automatically identify a subset of features from the original dataset that are the most relevant and useful through a process called feaure selection. It is this process that may mean the difference between successfully and meaningfully modeling the problem and not."
   ]
  },
  {
   "cell_type": "markdown",
   "metadata": {},
   "source": [
    "Throughout previous sections it has been accepted that the more data we have the better our trained model will be at making predictions. This is generally the case but does have a few caveats. For instance, including redundant or partially redundant features can be misleading to modeling algorithms. This is especially true of linear algorithms such as linear and logistic regression. Furthermore irrelevant attributes may contribute to overfitting. Some Decision Tree algorithms, including the Random Forest classifier used in this experiment, attempt to make splits in feature values. Less relevant features will be split on last but may contribute to small amounts of noise, only benefiting the model by chance. Overall this could have a large negative impact on model performance and accuracy."
   ]
  },
  {
   "cell_type": "markdown",
   "metadata": {},
   "source": [
    "We can therefore conclude that the removal of redundant features may benefit the performance of a predicitve model, lowering the prediction error that would be otherwise incurred if using the full dataset. Overall choosing to keep only the most relevant features has the following desired effects:\n",
    "\n",
    "- **Reduces Overfitting**: Less redundant data means less opportunity to make decisions based on noise.\n",
    "- **Improves Accuracy**: Less misleading data means modeling accuracy improves.\n",
    "- **Reduces Training Time**: Less data means that algorithms train faster."
   ]
  },
  {
   "cell_type": "markdown",
   "metadata": {},
   "source": [
    "### Approach with Caution..."
   ]
  },
  {
   "cell_type": "markdown",
   "metadata": {},
   "source": [
    "Whilst feature selection is a vital part of the machine learning process we must be aware of the cost of performing it too ealry. In reality the choice of features may have an impact on the optimal hyperparameter values of our predictive model, and those values may also impact the choice of optimal features. Therefore we end up in a chicken and egg situation which could be solved by considering feature selection as part of the model selection process. If not, bias may be introduced into our model and result in overfitting."
   ]
  },
  {
   "cell_type": "markdown",
   "metadata": {},
   "source": [
    "In addition it would be a mistake to first perform feature selection on the entire dataset, then perform model selection, training and validation on the selected features. The reason for this is that the validation and testing datasets will have also been used when deciding on the selection of features thus introduing bias in the predictive model."
   ]
  },
  {
   "cell_type": "markdown",
   "metadata": {},
   "source": [
    "To avoid this situation feature selection must be performed as part fo the iterative validation process when using such techniques as cross-validation. This means that feature selection is performed on the prepared fold right before the model is trained. More generally feature selection must be performed on a different dataset than that which is used for validation and testing. Moreover feature selection must not be performed on the test set, as this will inflate estimates of the models' performance."
   ]
  },
  {
   "cell_type": "markdown",
   "metadata": {},
   "source": [
    "### Feature Importance"
   ]
  },
  {
   "cell_type": "markdown",
   "metadata": {},
   "source": [
    "Bagged Decision Trees like Random Forest and Adaboost can be used to estimate and rank the importance of features in both regression and classification problems. We can take advantage of this to get a sense of which features may be most important and perform an amount of manual feature selection. The benefit to this appraoch is that each classifier can be given its own crafted subset of features. However one drawback is that this technique can only be applied to those classifiers that support it. Therefore the Linear Support Vector Machine cannot take advantage of this method. However it is still useful nonetheless."
   ]
  },
  {
   "cell_type": "markdown",
   "metadata": {},
   "source": [
    "To get a little more context a Bagged Decision Tree is a classifier that fits many Decision Trees on a random subset of the original dataset and then takes the mean of all their individual predctions, forming a final prediction. Due to this each Decision Tree has its own feature importances, which are also averaged to create a final set of importances. "
   ]
  },
  {
   "cell_type": "markdown",
   "metadata": {},
   "source": [
    "\\begin{align}\n",
    "f(x) = \\frac{\\sum_{i}importances(x_i)}{len(x)}\n",
    "\\end{align}"
   ]
  },
  {
   "cell_type": "markdown",
   "metadata": {},
   "source": [
    "When the importances are returned from these classifiers they are no longer clearly identifiable by name. Instead only the score is returned. Therefore to see what these look like I will first define a function to print out the feature importances alongside their original names. Luckily the scores are in the same order as the features were given to the classifier."
   ]
  },
  {
   "cell_type": "code",
   "execution_count": 53,
   "metadata": {},
   "outputs": [],
   "source": [
    "# Justify the output of feature importances.\n",
    "print_importance = lambda f, importance: print('{}:'.format(f).ljust(34), importance)\n",
    "\n",
    "def print_feature_importances(clf, features_list):\n",
    "    feature_name_and_importance = zip(features_list, clf.feature_importances_)\n",
    "    for feat, importance in sorted(feature_name_and_importance, key=lambda x: x[1], reverse=True):\n",
    "        print_importance(feat, importance)"
   ]
  },
  {
   "cell_type": "markdown",
   "metadata": {},
   "source": [
    "Now retreiving the feature importances is as simple as accessing the `feature_importances_` attribute on the trained predictive model as seen below with the RandomForestClassifier."
   ]
  },
  {
   "cell_type": "code",
   "execution_count": 54,
   "metadata": {},
   "outputs": [
    {
     "name": "stdout",
     "output_type": "stream",
     "text": [
      "RandomForestClassifier(bootstrap=True, class_weight=None, criterion='gini',\n",
      "            max_depth=None, max_features='auto', max_leaf_nodes=None,\n",
      "            min_impurity_decrease=0.0, min_impurity_split=None,\n",
      "            min_samples_leaf=1, min_samples_split=2,\n",
      "            min_weight_fraction_leaf=0.0, n_estimators=10, n_jobs=-1,\n",
      "            oob_score=False, random_state=None, verbose=0,\n",
      "            warm_start=False)\n",
      "\tAccuracy: 0.87843\tPrecision: 0.66817\tRecall: 0.29600\tF1: 0.41026\tF2: 0.33311\n",
      "\tTotal predictions: 14000\tTrue positives:  592\tFalse positives:  294\tFalse negatives: 1408\tTrue negatives: 11706\n",
      "\n",
      "fraction_from_this_person_to_poi:  0.14781050413072772\n",
      "total_payments:                    0.07100500623787412\n",
      "exercised_stock_options:           0.07061972893444307\n",
      "shared_receipt_with_poi:           0.06707985571417129\n",
      "from_messages:                     0.06558367499624823\n",
      "from_poi_to_this_person:           0.06547970025557637\n",
      "fraction_from_poi_to_this_person:  0.06486769112028759\n",
      "from_this_person_to_poi:           0.06349202143390158\n",
      "expenses:                          0.0629752646942957\n",
      "fraction_bonus:                    0.05941534927524802\n",
      "other:                             0.04608726192514147\n",
      "bonus:                             0.044931051418569026\n",
      "long_term_incentive:               0.03608470395037865\n",
      "to_messages:                       0.03404968299548859\n",
      "fraction_salary:                   0.032137757428155195\n",
      "total_stock_value:                 0.03128079091822085\n",
      "salary:                            0.027153311588839622\n",
      "fraction_exercised_stock_options:  0.0060963055966194715\n",
      "fraction_long_term_incentive:      0.0038503373858134312\n",
      "deferral_payments:                 0.0\n",
      "restricted_stock:                  0.0\n",
      "restricted_stock_deferred:         0.0\n",
      "loan_advances:                     0.0\n",
      "director_fees:                     0.0\n",
      "deferred_income:                   0.0\n"
     ]
    }
   ],
   "source": [
    "random_forest_selection = RandomForestClassifier(n_jobs=-1)\n",
    "test_classifier(random_forest_selection, my_standardised_dataset, extended_features_list)\n",
    "\n",
    "# Print the feature names and importances.\n",
    "print_feature_importances(random_forest_selection, extended_features_list[1:])"
   ]
  },
  {
   "cell_type": "markdown",
   "metadata": {},
   "source": [
    "It can be seen from the output that the attribute `feature_importances_` holds a score for each of the features in the dataset representing the estimated importance of each feature. The importances are ordered such that those with the largest value are considered the most relevant to the classifer whils those towards the bottom are considered of lower relevance and could contribute noie to the predictive model."
   ]
  },
  {
   "cell_type": "markdown",
   "metadata": {},
   "source": [
    "We can similarly retrieve the feature importances from the AdaBoostClassifier."
   ]
  },
  {
   "cell_type": "code",
   "execution_count": 55,
   "metadata": {},
   "outputs": [
    {
     "name": "stdout",
     "output_type": "stream",
     "text": [
      "AdaBoostClassifier(algorithm='SAMME.R', base_estimator=None,\n",
      "          learning_rate=1.0, n_estimators=50, random_state=None)\n",
      "\tAccuracy: 0.87243\tPrecision: 0.56346\tRecall: 0.47500\tF1: 0.51546\tF2: 0.49040\n",
      "\tTotal predictions: 14000\tTrue positives:  950\tFalse positives:  736\tFalse negatives: 1050\tTrue negatives: 11264\n",
      "\n",
      "from_this_person_to_poi:           0.14\n",
      "shared_receipt_with_poi:           0.1\n",
      "fraction_from_poi_to_this_person:  0.1\n",
      "fraction_from_this_person_to_poi:  0.1\n",
      "expenses:                          0.08\n",
      "fraction_salary:                   0.08\n",
      "other:                             0.06\n",
      "fraction_long_term_incentive:      0.06\n",
      "deferral_payments:                 0.04\n",
      "bonus:                             0.04\n",
      "total_stock_value:                 0.04\n",
      "salary:                            0.02\n",
      "to_messages:                       0.02\n",
      "total_payments:                    0.02\n",
      "exercised_stock_options:           0.02\n",
      "deferred_income:                   0.02\n",
      "long_term_incentive:               0.02\n",
      "from_poi_to_this_person:           0.02\n",
      "fraction_bonus:                    0.02\n",
      "restricted_stock:                  0.0\n",
      "restricted_stock_deferred:         0.0\n",
      "loan_advances:                     0.0\n",
      "from_messages:                     0.0\n",
      "director_fees:                     0.0\n",
      "fraction_exercised_stock_options:  0.0\n"
     ]
    }
   ],
   "source": [
    "adaboost_selection = AdaBoostClassifier()\n",
    "test_classifier(adaboost_selection, my_standardised_dataset, extended_features_list)\n",
    "\n",
    "# Print the feature names and importances.\n",
    "print_feature_importances(adaboost_selection, extended_features_list[1:])"
   ]
  },
  {
   "cell_type": "markdown",
   "metadata": {},
   "source": [
    "It is rather interesting to compare the feature importances of both the RandomForestClassifer and the AdaBoostClassifier. It is clear from the results that both classifiers do not agree on the 10 most important features despite each classifier having arguably equal accuracy thus far. This could be noted as further indication that accuracy is not a great metric in this experiment. However what is clear is that both classifiers regard several of the engineered features more important than many of the original features in dataset. This would suggest that these features in fact describe a trend in the data posing a strong correlation to the output variable."
   ]
  },
  {
   "cell_type": "markdown",
   "metadata": {},
   "source": [
    "There would be little point to investigate further whether only using the top `n` features has any impact on the performance of the predictive model since there is likely a co-dependancy on the classifier hyperparameters which will be investingated in a later section. For now it is enough to know how wildly different the importances are for each classifier with their respective default options."
   ]
  },
  {
   "cell_type": "markdown",
   "metadata": {},
   "source": [
    "### Univariate Feature Selection"
   ]
  },
  {
   "cell_type": "markdown",
   "metadata": {},
   "source": [
    "Univariate feature selection, a type of filter method, works by selecting the most relevant features as reported by some univariate statistical function. That is the selection of features is independant to any implementation of classifier. Instead when univariate feature selection is applied each feature is assigned a score indicating the strength of its relationship with the output variable. This is a powerful property of this type of feature selection because, unlike feature importances which only works with supported modeling implementations, this technique may be applied as a preprocessing step before training any model."
   ]
  },
  {
   "cell_type": "markdown",
   "metadata": {},
   "source": [
    "We can use [`sklearn.feature_selection.SelectKBest`](http://scikit-learn.org/stable/modules/generated/sklearn.feature_selection.SelectKBest.html#sklearn.feature_selection.SelectKBest) that by default applies the [`f_classif`](https://scikit-learn.org/stable/modules/generated/sklearn.feature_selection.f_classif.html#sklearn.feature_selection.f_classif) scoring function to compute the ANOVA F-value for the provided samples. This is a good scoring function for the Enron dataset which contains a few negative values. Alternatively if we had previously normalised the features between 0 and 1 then we could use the [`chi2`](https://scikit-learn.org/stable/modules/generated/sklearn.feature_selection.chi2.html#sklearn.feature_selection.chi2) scoring function to compute the likelihood of correlation or association between groups of categorical features using their frequency distribution. However this only works for non-negative features."
   ]
  },
  {
   "cell_type": "code",
   "execution_count": 56,
   "metadata": {},
   "outputs": [],
   "source": [
    "# Justify the output of feature scores.\n",
    "print_score = lambda f, score: print('{}:'.format(f).ljust(34), score)\n",
    "\n",
    "def print_feature_scores(clf, features_list):\n",
    "    feature_name_and_score = zip(features_list, clf.scores_)\n",
    "    for feat, score in sorted(feature_name_and_score, key=lambda x: x[1], reverse=True):\n",
    "        print_score(feat, score)"
   ]
  },
  {
   "cell_type": "markdown",
   "metadata": {},
   "source": [
    "We can now compute the scores by first separating the features from the labels using methods provided by the course material and running these through the `SelectKBest` algorithm. Note that I have, for the purpose of demonstration, set the algorithm to reduce the dataset down to the 4 most relevant features. This however will not become important until the dataset has been transformed."
   ]
  },
  {
   "cell_type": "code",
   "execution_count": 57,
   "metadata": {},
   "outputs": [
    {
     "name": "stdout",
     "output_type": "stream",
     "text": [
      "bonus:                             30.996650263046035\n",
      "fraction_from_this_person_to_poi:  24.74703911283773\n",
      "total_stock_value:                 21.715370553236223\n",
      "exercised_stock_options:           21.61831247068783\n",
      "fraction_bonus:                    20.11247267477801\n",
      "salary:                            17.652821354040245\n",
      "shared_receipt_with_poi:           15.901048190153714\n",
      "fraction_long_term_incentive:      13.280784474046534\n",
      "from_poi_to_this_person:           11.868915005764967\n",
      "deferred_income:                   10.877747814724641\n",
      "long_term_incentive:               10.438729740129324\n",
      "total_payments:                    9.17891146854367\n",
      "restricted_stock:                  8.383512828688367\n",
      "loan_advances:                     6.949372528479059\n",
      "expenses:                          5.038223197623868\n",
      "other:                             3.968449361834746\n",
      "from_this_person_to_poi:           3.5603092511206285\n",
      "fraction_salary:                   2.363441883884539\n",
      "to_messages:                       2.259290587732519\n",
      "fraction_from_poi_to_this_person:  2.1529983056261957\n",
      "director_fees:                     2.030244576563368\n",
      "restricted_stock_deferred:         0.7943522196252019\n",
      "deferral_payments:                 0.26155708920673937\n",
      "from_messages:                     0.16456684445456812\n",
      "fraction_exercised_stock_options:  0.05302510191815604\n"
     ]
    }
   ],
   "source": [
    "from feature_format import featureFormat, targetFeatureSplit\n",
    "from sklearn.feature_selection import SelectKBest\n",
    "\n",
    "data = featureFormat(my_standardised_dataset, extended_features_list, sort_keys = True)\n",
    "labels, features = targetFeatureSplit(data)\n",
    "\n",
    "select_k_best = SelectKBest(k=4).fit(features, labels)\n",
    "\n",
    "# Print the feature names and scores.\n",
    "print_feature_scores(select_k_best, extended_features_list[1:])"
   ]
  },
  {
   "cell_type": "markdown",
   "metadata": {},
   "source": [
    "Here we can see the scores that have been assigned to each feature, where the largest scores indicate the most relevant features. When the dataset is transformed through this algorithm it will return only the 4 most relevant features since the `k` parameter was set to 4."
   ]
  },
  {
   "cell_type": "code",
   "execution_count": 58,
   "metadata": {},
   "outputs": [
    {
     "data": {
      "text/plain": [
       "(139, 4)"
      ]
     },
     "execution_count": 58,
     "metadata": {},
     "output_type": "execute_result"
    }
   ],
   "source": [
    "transformed_data = select_k_best.transform(features)\n",
    "transformed_data.shape"
   ]
  },
  {
   "cell_type": "markdown",
   "metadata": {},
   "source": [
    "These 4 features, in order of relevance, are:\n",
    "\n",
    "1. `bonus`\n",
    "1. `fraction_from_this_person_to_poi`\n",
    "1. `total_stock_value`\n",
    "1. `exercised_stock_options`\n",
    "\n",
    "Interestingly the second most relevant feature to be returned by `SelectKBest` is an engineered feature describing the messages sent to a person of interest as a fraction of total messages they have sent. Perhaps not so surprisingly however are the other features which I intuatively believe to be some of the more important drivers indicating a person of interest.\n",
    "\n",
    "Again it must be noted that the features here do not agree with the feature importances returned from the Random Forest and AdaBoost classifiers."
   ]
  },
  {
   "cell_type": "markdown",
   "metadata": {},
   "source": [
    "Given that using this algorithm we can select only the subset of features that are most relevant, the problem is reduced to that of optimising how many features should be selected to obtain the most performant predictive model. Choosing this value will take part of the focus of the hyperparameter tuning section of this experiment."
   ]
  },
  {
   "cell_type": "markdown",
   "metadata": {},
   "source": [
    "### Recursive Feature Elimination"
   ]
  },
  {
   "cell_type": "markdown",
   "metadata": {},
   "source": [
    "Recursive feature elimination, a type of wrapper method, is a greedy optimization algorithm which aims to identify which attributes (and combination of attributes) contribute the most to predicting the target value. This is achieved by first training the predictive model on the initial set of feature and then removing the least relevant feature, indicated by the smallest feature coefficient or feature importance. The model is then retrained and the next least relevant feature removed. This process continues by considering smaller and smaller sets of features until we arrive at the desired number of remaining features.\n",
    "\n",
    "We can use [`sklearn.feature_selection.RFE`](https://scikit-learn.org/stable/modules/generated/sklearn.feature_selection.RFE.html) to perform this task, that given a classifer capable of assiging weights/scores to each feature, will determine the least relevant feature through either the `coef_` or `feature_importances` attribute. We have observed that the classifiers used in this experiment pocess either attribute and can therefore all be used to perform recursive feature elimination.\n",
    "\n",
    "It is important to note that features must first be scaled, otherwise there is a chance that features with smaller values will have a minimal coefficient and therefore be dropped. However if the features are scaled with a preprocessing stage these same features could turn out to be quite important. Fortunatley this has already covered this in the previous section where I decided on standardising the data using the `StandardScaler`.\n",
    "\n",
    "As with univariate feature selection the problem of selecting features is reduced to that of optimising how many features should be selected to obtain the most performant model. For this I would like to use [`sklearn.feature_selection.RFECV`](https://scikit-learn.org/stable/modules/generated/sklearn.feature_selection.RFECV.html#sklearn.feature_selection.RFECV) which extends `RFE` with a cross-validation step that intends to seek out the optimal number of features given for a given metric. In this case I will optimise for the F1 score. "
   ]
  },
  {
   "cell_type": "markdown",
   "metadata": {},
   "source": [
    "## Dimensionality Reduction"
   ]
  },
  {
   "cell_type": "markdown",
   "metadata": {},
   "source": [
    "Dimensionality reduction is a subtle form of feature selection deserving its own section of this notebook. Unlike feature selection discussed in the previous section the techniques used in dimensionality reduction derive brand new (latent) features from the existing dataset. These features are not directly measureable but describe a general trend or direction in the data that we may project our data onto while losing a minimal amount of information. Here I will discuss 2 common methods to apply dimensionality reduction and how they work."
   ]
  },
  {
   "cell_type": "markdown",
   "metadata": {},
   "source": [
    "### Principle Component Analysis"
   ]
  },
  {
   "cell_type": "markdown",
   "metadata": {},
   "source": [
    "[Principal Component Analysis](http://scikit-learn.org/stable/modules/generated/sklearn.decomposition.PCA.html) (PCA) is a very useful unsupervised learning technique that can be used to tease out the latent features in a dataset. It achieves this by identifying and reframing the dataset by what are called its principle components (PC), the combination of attributes (directions in the feature space) that account for the most variance in the data.\n",
    "\n",
    "It is mathematical fact that projecting data points onto the direction of maximum variance we minimise the distance from a higher dimensionality data point to its new transformed value. This translates to a minimal information loss after the transformation.\n",
    "\n",
    "As a gerneral process PCA is able to algorithmically create new features from a dataset and rank the relative powers of each new feature. So if we have `n` latent features that are driving most of the variation in the data (remember this minimises the informaton loss) PCA will pick those out and rank them as the `1st, 2nd, ..., nth` principle components where the 1st PC has the most effect, and the maximum number of PCs is equal to `min(num_features, num_examples)`.\n",
    "\n",
    "More specifically PCA finds a new coordinate space, through translation and rotation only, moving the centre of the coordinate system to the centre of the data. PCA works on eigenvectors and eigenvalues of the covariance matrix, which is the equivalent of fitting those principle-component hyperplanes to the variance of the data. Why? Because eigenvectors trace the principal lines of force. In other words, PCA determines the lines of variance in the dataset which are so called its principal components with the first principal component having the maximum variance, second principal component (orthoganal to the first) having second maximum variance and so on.\n",
    "\n",
    "When used for dimensionality reduction PCA will discard the principle components ranking the loweset and therefore having the least effect. This therefore reduces any noise in the dataset that is either adding little (or no) information or could be derived from other features."
   ]
  },
  {
   "cell_type": "markdown",
   "metadata": {},
   "source": [
    "### Linear Discriminant Analysis"
   ]
  },
  {
   "cell_type": "markdown",
   "metadata": {},
   "source": [
    "[Linear Discriminant Analysis](http://scikit-learn.org/stable/modules/generated/sklearn.discriminant_analysis.LinearDiscriminantAnalysis.html) (LDA) is a supervised learning technique that in addition to identifying attributes contributing the most variance in the data (the scatter in LDA terms), as PCA does, computes the linear discriminants (LD) representing the directions in the feature space that maximise the separation between classes. This ensures good class separability in the dataset.\n",
    "\n",
    "In general LDA algorithmically finds the boundaries around the clusters of classes, projecting the data points onto the direction of maximum distance between each class such that they are as separated as possible, with each cluster having a relative (close) distance to a centroid. Furthermore LDA identifies these cluster as satisfying two criteria:\n",
    "\n",
    "1.\tMaximize the distance between the centroid of each class,\n",
    "1.\tMaximize the variation within each class.\n",
    "\n",
    "When used for dimensionality reduction LDA will discard the linear discriminants that explain the least distance between classes thus reducing any potential noise generated by features that may posess some overlap.\n",
    "\n",
    "Linear Discriminant Analysis is particularly suited to datasets that have more than two classes and is the preferred linear classification technique, say over logistic regression, that is limited to only two-class classification problems."
   ]
  },
  {
   "cell_type": "markdown",
   "metadata": {},
   "source": [
    "## Hyperparameter Tuning"
   ]
  },
  {
   "cell_type": "markdown",
   "metadata": {},
   "source": [
    "At this point I could also perform Principal Component Analysis to further reduce the number of features, but I think that the performance I am seeing does not necessitate the use of PCA, and the algorithms do not take very long to train even on a large number of features.\n",
    "\n",
    "This is one way that I try to combat the black box problem in machine learning. If I at least know what is going in to a model, then I can try to understand why the model returned a certain classification and it can inform my thinking to enable me to create smarter machine learning classifiers in the future."
   ]
  },
  {
   "cell_type": "markdown",
   "metadata": {},
   "source": [
    "1. Using [Grid Search](https://scikit-learn.org/stable/modules/generated/sklearn.model_selection.GridSearchCV.html) as it allows for large permutations of paramters to be tuned systematically.\n",
    "\n",
    "https://github.com/scikit-learn/scikit-learn/wiki/Pipeline-et-al.-design-issues"
   ]
  },
  {
   "cell_type": "code",
   "execution_count": 59,
   "metadata": {},
   "outputs": [],
   "source": [
    "from feature_format import featureFormat, targetFeatureSplit\n",
    "\n",
    "from sklearn.pipeline import Pipeline\n",
    "from sklearn.model_selection import GridSearchCV\n",
    "from sklearn.feature_selection import RFECV\n",
    "\n",
    "def create_validator(dataset, features_list):\n",
    "    '''\n",
    "    Return a function that cross-validates over a dataset.\n",
    "    '''\n",
    "    def validator(estimator, param_grid):\n",
    "        '''\n",
    "        Perform recursive feature elimination over the entire dataset before\n",
    "        running the results through grid search cross-validation.\n",
    "        '''\n",
    "        # Extract features and labels from dataset for local testing.\n",
    "        data = featureFormat(dataset, features_list, sort_keys=True)\n",
    "        labels, features = targetFeatureSplit(data)\n",
    "\n",
    "        # Cross validator with 100 splits.\n",
    "        validator = StratifiedShuffleSplit(n_splits=100)\n",
    "\n",
    "        # Automatic cross-validated feature selection.\n",
    "        selector = RFECV(estimator, scoring='f1', cv=5, n_jobs=-1)\n",
    "\n",
    "        # Parameter search cross-validation.\n",
    "        grid_search = GridSearchCV(selector, param_grid, scoring='f1', cv=validator, n_jobs=-1, return_train_score=False)\n",
    "        grid_search.fit(features, labels)\n",
    "\n",
    "        return grid_search\n",
    "    return validator\n",
    "\n",
    "def create_k_best_validator(dataset, features_list):\n",
    "    '''\n",
    "    '''\n",
    "    def validator(estimator, param_grid):\n",
    "        '''\n",
    "        '''\n",
    "        # Extract features and labels from dataset for local testing.\n",
    "        data = featureFormat(dataset, features_list, sort_keys=True)\n",
    "        labels, features = targetFeatureSplit(data)\n",
    "\n",
    "        # Cross validator with 100 splits.\n",
    "        validator = StratifiedShuffleSplit(n_splits=100)\n",
    "        \n",
    "        # Pipeline with univariate feature selection step.\n",
    "        pipeline = Pipeline([\n",
    "            ('selection', SelectKBest()),\n",
    "            ('estimator', estimator)\n",
    "        ])\n",
    "        \n",
    "        # Parameter search cross-validation.\n",
    "        grid_search = GridSearchCV(pipeline, param_grid, scoring='f1', cv=validator, n_jobs=-1, return_train_score=False)\n",
    "        grid_search.fit(features, labels)\n",
    "        \n",
    "        return grid_search\n",
    "    return validator\n",
    "        "
   ]
  },
  {
   "cell_type": "code",
   "execution_count": 60,
   "metadata": {},
   "outputs": [],
   "source": [
    "# Load the dictionary containing the dataset.\n",
    "with open('final_project_dataset_standardised.pkl', 'r') as data_file:\n",
    "    my_standardised_dataset = pickle.load(data_file)\n",
    "\n",
    "#df = pd.DataFrame.from_dict(my_standardised_dataset, orient='index')\n",
    "#df[:].isin([np.inf, -np.inf, np.nan]).any(axis=0, skipna=False)\n",
    "#np.where(df.values >= np.finfo(np.float64).max)\n",
    "\n",
    "rfe_validator = create_validator(my_standardised_dataset, extended_features_list)\n",
    "kbest_validator = create_k_best_validator(my_standardised_dataset, extended_features_list)"
   ]
  },
  {
   "cell_type": "code",
   "execution_count": null,
   "metadata": {},
   "outputs": [],
   "source": [
    "param_grid = dict(  \n",
    "    estimator__n_estimators=[5, 10, 20, 50, 100, 500],\n",
    "    estimator__learning_rate=[1.0, 0.5, 0.1, 0.01],\n",
    "    estimator__algorithm=['SAMME.R', 'SAMME']\n",
    ")\n",
    "\n",
    "adaboost_validated = validator(AdaBoostClassifier(), param_grid)\n",
    "pd.DataFrame(adaboost_validated.cv_results_).sort_values(by='rank_test_score').head()"
   ]
  },
  {
   "cell_type": "code",
   "execution_count": 61,
   "metadata": {},
   "outputs": [
    {
     "name": "stderr",
     "output_type": "stream",
     "text": [
      "/usr/local/envs/py2env/lib/python2.7/site-packages/sklearn/metrics/classification.py:1135: UndefinedMetricWarning: F-score is ill-defined and being set to 0.0 due to no predicted samples.\n",
      "  'precision', 'predicted', average, warn_for)\n",
      "/usr/local/envs/py2env/lib/python2.7/site-packages/sklearn/metrics/classification.py:1135: UndefinedMetricWarning: F-score is ill-defined and being set to 0.0 due to no predicted samples.\n",
      "  'precision', 'predicted', average, warn_for)\n",
      "/usr/local/envs/py2env/lib/python2.7/site-packages/sklearn/metrics/classification.py:1135: UndefinedMetricWarning: F-score is ill-defined and being set to 0.0 due to no predicted samples.\n",
      "  'precision', 'predicted', average, warn_for)\n",
      "/usr/local/envs/py2env/lib/python2.7/site-packages/sklearn/metrics/classification.py:1135: UndefinedMetricWarning: F-score is ill-defined and being set to 0.0 due to no predicted samples.\n",
      "  'precision', 'predicted', average, warn_for)\n"
     ]
    },
    {
     "data": {
      "text/html": [
       "<div>\n",
       "<style scoped>\n",
       "    .dataframe tbody tr th:only-of-type {\n",
       "        vertical-align: middle;\n",
       "    }\n",
       "\n",
       "    .dataframe tbody tr th {\n",
       "        vertical-align: top;\n",
       "    }\n",
       "\n",
       "    .dataframe thead th {\n",
       "        text-align: right;\n",
       "    }\n",
       "</style>\n",
       "<table border=\"1\" class=\"dataframe\">\n",
       "  <thead>\n",
       "    <tr style=\"text-align: right;\">\n",
       "      <th></th>\n",
       "      <th>mean_fit_time</th>\n",
       "      <th>mean_score_time</th>\n",
       "      <th>mean_test_score</th>\n",
       "      <th>param_estimator__C</th>\n",
       "      <th>param_estimator__loss</th>\n",
       "      <th>param_estimator__max_iter</th>\n",
       "      <th>param_estimator__multi_class</th>\n",
       "      <th>param_estimator__tol</th>\n",
       "      <th>param_selection__k</th>\n",
       "      <th>params</th>\n",
       "      <th>...</th>\n",
       "      <th>split94_test_score</th>\n",
       "      <th>split95_test_score</th>\n",
       "      <th>split96_test_score</th>\n",
       "      <th>split97_test_score</th>\n",
       "      <th>split98_test_score</th>\n",
       "      <th>split99_test_score</th>\n",
       "      <th>split9_test_score</th>\n",
       "      <th>std_fit_time</th>\n",
       "      <th>std_score_time</th>\n",
       "      <th>std_test_score</th>\n",
       "    </tr>\n",
       "  </thead>\n",
       "  <tbody>\n",
       "    <tr>\n",
       "      <th>3499</th>\n",
       "      <td>0.01</td>\n",
       "      <td>0.00</td>\n",
       "      <td>0.51</td>\n",
       "      <td>1000</td>\n",
       "      <td>hinge</td>\n",
       "      <td>1000</td>\n",
       "      <td>ovr</td>\n",
       "      <td>0.00</td>\n",
       "      <td>25</td>\n",
       "      <td>{u'estimator__C': 1000, u'estimator__max_iter'...</td>\n",
       "      <td>...</td>\n",
       "      <td>0.50</td>\n",
       "      <td>0.67</td>\n",
       "      <td>0.57</td>\n",
       "      <td>0.00</td>\n",
       "      <td>0.67</td>\n",
       "      <td>0.50</td>\n",
       "      <td>0.00</td>\n",
       "      <td>0.00</td>\n",
       "      <td>0.00</td>\n",
       "      <td>0.29</td>\n",
       "    </tr>\n",
       "    <tr>\n",
       "      <th>3424</th>\n",
       "      <td>0.01</td>\n",
       "      <td>0.00</td>\n",
       "      <td>0.51</td>\n",
       "      <td>1000</td>\n",
       "      <td>hinge</td>\n",
       "      <td>1000</td>\n",
       "      <td>ovr</td>\n",
       "      <td>0.10</td>\n",
       "      <td>25</td>\n",
       "      <td>{u'estimator__C': 1000, u'estimator__max_iter'...</td>\n",
       "      <td>...</td>\n",
       "      <td>0.50</td>\n",
       "      <td>0.67</td>\n",
       "      <td>0.80</td>\n",
       "      <td>0.00</td>\n",
       "      <td>0.57</td>\n",
       "      <td>0.50</td>\n",
       "      <td>0.00</td>\n",
       "      <td>0.00</td>\n",
       "      <td>0.00</td>\n",
       "      <td>0.28</td>\n",
       "    </tr>\n",
       "    <tr>\n",
       "      <th>3474</th>\n",
       "      <td>0.01</td>\n",
       "      <td>0.00</td>\n",
       "      <td>0.51</td>\n",
       "      <td>1000</td>\n",
       "      <td>hinge</td>\n",
       "      <td>1000</td>\n",
       "      <td>ovr</td>\n",
       "      <td>0.00</td>\n",
       "      <td>25</td>\n",
       "      <td>{u'estimator__C': 1000, u'estimator__max_iter'...</td>\n",
       "      <td>...</td>\n",
       "      <td>0.50</td>\n",
       "      <td>0.67</td>\n",
       "      <td>0.67</td>\n",
       "      <td>0.00</td>\n",
       "      <td>0.57</td>\n",
       "      <td>0.50</td>\n",
       "      <td>0.00</td>\n",
       "      <td>0.00</td>\n",
       "      <td>0.00</td>\n",
       "      <td>0.28</td>\n",
       "    </tr>\n",
       "    <tr>\n",
       "      <th>3874</th>\n",
       "      <td>0.01</td>\n",
       "      <td>0.00</td>\n",
       "      <td>0.50</td>\n",
       "      <td>1000</td>\n",
       "      <td>squared_hinge</td>\n",
       "      <td>1000</td>\n",
       "      <td>ovr</td>\n",
       "      <td>0.00</td>\n",
       "      <td>25</td>\n",
       "      <td>{u'estimator__C': 1000, u'estimator__max_iter'...</td>\n",
       "      <td>...</td>\n",
       "      <td>0.50</td>\n",
       "      <td>0.67</td>\n",
       "      <td>0.57</td>\n",
       "      <td>0.00</td>\n",
       "      <td>0.57</td>\n",
       "      <td>0.50</td>\n",
       "      <td>0.00</td>\n",
       "      <td>0.00</td>\n",
       "      <td>0.00</td>\n",
       "      <td>0.29</td>\n",
       "    </tr>\n",
       "    <tr>\n",
       "      <th>3449</th>\n",
       "      <td>0.01</td>\n",
       "      <td>0.00</td>\n",
       "      <td>0.50</td>\n",
       "      <td>1000</td>\n",
       "      <td>hinge</td>\n",
       "      <td>1000</td>\n",
       "      <td>ovr</td>\n",
       "      <td>0.01</td>\n",
       "      <td>25</td>\n",
       "      <td>{u'estimator__C': 1000, u'estimator__max_iter'...</td>\n",
       "      <td>...</td>\n",
       "      <td>0.50</td>\n",
       "      <td>0.67</td>\n",
       "      <td>0.67</td>\n",
       "      <td>0.00</td>\n",
       "      <td>0.67</td>\n",
       "      <td>0.50</td>\n",
       "      <td>0.00</td>\n",
       "      <td>0.00</td>\n",
       "      <td>0.00</td>\n",
       "      <td>0.29</td>\n",
       "    </tr>\n",
       "  </tbody>\n",
       "</table>\n",
       "<p>5 rows × 114 columns</p>\n",
       "</div>"
      ],
      "text/plain": [
       "      mean_fit_time  mean_score_time  mean_test_score param_estimator__C  \\\n",
       "3499           0.01             0.00             0.51               1000   \n",
       "3424           0.01             0.00             0.51               1000   \n",
       "3474           0.01             0.00             0.51               1000   \n",
       "3874           0.01             0.00             0.50               1000   \n",
       "3449           0.01             0.00             0.50               1000   \n",
       "\n",
       "     param_estimator__loss param_estimator__max_iter  \\\n",
       "3499                 hinge                      1000   \n",
       "3424                 hinge                      1000   \n",
       "3474                 hinge                      1000   \n",
       "3874         squared_hinge                      1000   \n",
       "3449                 hinge                      1000   \n",
       "\n",
       "     param_estimator__multi_class param_estimator__tol param_selection__k  \\\n",
       "3499                          ovr                 0.00                 25   \n",
       "3424                          ovr                 0.10                 25   \n",
       "3474                          ovr                 0.00                 25   \n",
       "3874                          ovr                 0.00                 25   \n",
       "3449                          ovr                 0.01                 25   \n",
       "\n",
       "                                                 params       ...        \\\n",
       "3499  {u'estimator__C': 1000, u'estimator__max_iter'...       ...         \n",
       "3424  {u'estimator__C': 1000, u'estimator__max_iter'...       ...         \n",
       "3474  {u'estimator__C': 1000, u'estimator__max_iter'...       ...         \n",
       "3874  {u'estimator__C': 1000, u'estimator__max_iter'...       ...         \n",
       "3449  {u'estimator__C': 1000, u'estimator__max_iter'...       ...         \n",
       "\n",
       "      split94_test_score  split95_test_score  split96_test_score  \\\n",
       "3499                0.50                0.67                0.57   \n",
       "3424                0.50                0.67                0.80   \n",
       "3474                0.50                0.67                0.67   \n",
       "3874                0.50                0.67                0.57   \n",
       "3449                0.50                0.67                0.67   \n",
       "\n",
       "      split97_test_score  split98_test_score  split99_test_score  \\\n",
       "3499                0.00                0.67                0.50   \n",
       "3424                0.00                0.57                0.50   \n",
       "3474                0.00                0.57                0.50   \n",
       "3874                0.00                0.57                0.50   \n",
       "3449                0.00                0.67                0.50   \n",
       "\n",
       "      split9_test_score  std_fit_time  std_score_time  std_test_score  \n",
       "3499               0.00          0.00            0.00            0.29  \n",
       "3424               0.00          0.00            0.00            0.28  \n",
       "3474               0.00          0.00            0.00            0.28  \n",
       "3874               0.00          0.00            0.00            0.29  \n",
       "3449               0.00          0.00            0.00            0.29  \n",
       "\n",
       "[5 rows x 114 columns]"
      ]
     },
     "execution_count": 61,
     "metadata": {},
     "output_type": "execute_result"
    }
   ],
   "source": [
    "param_grid = dict(\n",
    "    selection__k=np.arange(1, len(extended_features_list)),\n",
    "    estimator__C=[1, 10, 50, 100, 1000],\n",
    "    estimator__loss=['hinge', 'squared_hinge'],\n",
    "    estimator__max_iter=[100, 1000],\n",
    "    estimator__multi_class=['ovr', 'crammer_singer'],\n",
    "    estimator__tol=[0.1, 0.01, 0.001, 0.0001] \n",
    ")\n",
    "\n",
    "linear_svc_validated = kbest_validator(LinearSVC(), param_grid)\n",
    "pd.DataFrame(linear_svc_validated.cv_results_).sort_values(by='rank_test_score').head()"
   ]
  },
  {
   "cell_type": "code",
   "execution_count": null,
   "metadata": {},
   "outputs": [
    {
     "name": "stderr",
     "output_type": "stream",
     "text": [
      "/usr/local/envs/py2env/lib/python2.7/site-packages/sklearn/externals/joblib/parallel.py:547: UserWarning: Multiprocessing-backed parallel loops cannot be nested, setting n_jobs=1\n",
      "  **self._backend_args)\n",
      "/usr/local/envs/py2env/lib/python2.7/site-packages/sklearn/externals/joblib/parallel.py:547: UserWarning: Multiprocessing-backed parallel loops cannot be nested, setting n_jobs=1\n",
      "  **self._backend_args)\n",
      "/usr/local/envs/py2env/lib/python2.7/site-packages/sklearn/externals/joblib/parallel.py:547: UserWarning: Multiprocessing-backed parallel loops cannot be nested, setting n_jobs=1\n",
      "  **self._backend_args)\n",
      "/usr/local/envs/py2env/lib/python2.7/site-packages/sklearn/externals/joblib/parallel.py:547: UserWarning: Multiprocessing-backed parallel loops cannot be nested, setting n_jobs=1\n",
      "  **self._backend_args)\n",
      "/usr/local/envs/py2env/lib/python2.7/site-packages/sklearn/metrics/classification.py:1135: UndefinedMetricWarning: F-score is ill-defined and being set to 0.0 due to no predicted samples.\n",
      "  'precision', 'predicted', average, warn_for)\n",
      "/usr/local/envs/py2env/lib/python2.7/site-packages/sklearn/metrics/classification.py:1135: UndefinedMetricWarning: F-score is ill-defined and being set to 0.0 due to no predicted samples.\n",
      "  'precision', 'predicted', average, warn_for)\n",
      "/usr/local/envs/py2env/lib/python2.7/site-packages/sklearn/metrics/classification.py:1135: UndefinedMetricWarning: F-score is ill-defined and being set to 0.0 due to no predicted samples.\n",
      "  'precision', 'predicted', average, warn_for)\n",
      "/usr/local/envs/py2env/lib/python2.7/site-packages/sklearn/metrics/classification.py:1135: UndefinedMetricWarning: F-score is ill-defined and being set to 0.0 due to no predicted samples.\n",
      "  'precision', 'predicted', average, warn_for)\n"
     ]
    }
   ],
   "source": [
    "param_grid = dict(  \n",
    "    estimator__C=[1, 10, 50, 100, 1000],\n",
    "    estimator__loss=['hinge', 'squared_hinge'],\n",
    "    estimator__max_iter=[100, 1000],\n",
    "    estimator__multi_class=['ovr', 'crammer_singer'],\n",
    "    estimator__tol=[0.1, 0.01, 0.001, 0.0001] \n",
    ")\n",
    "\n",
    "linear_svc_validated = rfe_validator(LinearSVC(), param_grid)\n",
    "pd.DataFrame(linear_svc_validated.cv_results_).sort_values(by='rank_test_score').head()"
   ]
  },
  {
   "cell_type": "code",
   "execution_count": null,
   "metadata": {},
   "outputs": [],
   "source": [
    "linear_svc_validated"
   ]
  },
  {
   "cell_type": "code",
   "execution_count": 70,
   "metadata": {},
   "outputs": [
    {
     "name": "stderr",
     "output_type": "stream",
     "text": [
      "/usr/local/envs/py2env/lib/python2.7/site-packages/sklearn/metrics/classification.py:1135: UndefinedMetricWarning: F-score is ill-defined and being set to 0.0 due to no predicted samples.\n",
      "  'precision', 'predicted', average, warn_for)\n",
      "/usr/local/envs/py2env/lib/python2.7/site-packages/sklearn/metrics/classification.py:1135: UndefinedMetricWarning: F-score is ill-defined and being set to 0.0 due to no predicted samples.\n",
      "  'precision', 'predicted', average, warn_for)\n",
      "/usr/local/envs/py2env/lib/python2.7/site-packages/sklearn/metrics/classification.py:1135: UndefinedMetricWarning: F-score is ill-defined and being set to 0.0 due to no predicted samples.\n",
      "  'precision', 'predicted', average, warn_for)\n",
      "/usr/local/envs/py2env/lib/python2.7/site-packages/sklearn/metrics/classification.py:1135: UndefinedMetricWarning: F-score is ill-defined and being set to 0.0 due to no predicted samples.\n",
      "  'precision', 'predicted', average, warn_for)\n"
     ]
    },
    {
     "data": {
      "text/html": [
       "<div>\n",
       "<style scoped>\n",
       "    .dataframe tbody tr th:only-of-type {\n",
       "        vertical-align: middle;\n",
       "    }\n",
       "\n",
       "    .dataframe tbody tr th {\n",
       "        vertical-align: top;\n",
       "    }\n",
       "\n",
       "    .dataframe thead th {\n",
       "        text-align: right;\n",
       "    }\n",
       "</style>\n",
       "<table border=\"1\" class=\"dataframe\">\n",
       "  <thead>\n",
       "    <tr style=\"text-align: right;\">\n",
       "      <th></th>\n",
       "      <th>mean_fit_time</th>\n",
       "      <th>mean_score_time</th>\n",
       "      <th>mean_test_score</th>\n",
       "      <th>param_estimator__min_samples_split</th>\n",
       "      <th>param_estimator__n_estimators</th>\n",
       "      <th>param_selection__k</th>\n",
       "      <th>params</th>\n",
       "      <th>rank_test_score</th>\n",
       "      <th>split0_test_score</th>\n",
       "      <th>split10_test_score</th>\n",
       "      <th>...</th>\n",
       "      <th>split94_test_score</th>\n",
       "      <th>split95_test_score</th>\n",
       "      <th>split96_test_score</th>\n",
       "      <th>split97_test_score</th>\n",
       "      <th>split98_test_score</th>\n",
       "      <th>split99_test_score</th>\n",
       "      <th>split9_test_score</th>\n",
       "      <th>std_fit_time</th>\n",
       "      <th>std_score_time</th>\n",
       "      <th>std_test_score</th>\n",
       "    </tr>\n",
       "  </thead>\n",
       "  <tbody>\n",
       "    <tr>\n",
       "      <th>196</th>\n",
       "      <td>0.51</td>\n",
       "      <td>0.13</td>\n",
       "      <td>0.41</td>\n",
       "      <td>4</td>\n",
       "      <td>100</td>\n",
       "      <td>22</td>\n",
       "      <td>{u'estimator__min_samples_split': 4, u'selecti...</td>\n",
       "      <td>1</td>\n",
       "      <td>0.67</td>\n",
       "      <td>0.50</td>\n",
       "      <td>...</td>\n",
       "      <td>0.00</td>\n",
       "      <td>0.50</td>\n",
       "      <td>0.50</td>\n",
       "      <td>1.00</td>\n",
       "      <td>0.67</td>\n",
       "      <td>0.00</td>\n",
       "      <td>0.67</td>\n",
       "      <td>0.06</td>\n",
       "      <td>0.02</td>\n",
       "      <td>0.34</td>\n",
       "    </tr>\n",
       "    <tr>\n",
       "      <th>99</th>\n",
       "      <td>0.51</td>\n",
       "      <td>0.13</td>\n",
       "      <td>0.41</td>\n",
       "      <td>2</td>\n",
       "      <td>100</td>\n",
       "      <td>25</td>\n",
       "      <td>{u'estimator__min_samples_split': 2, u'selecti...</td>\n",
       "      <td>2</td>\n",
       "      <td>0.67</td>\n",
       "      <td>0.50</td>\n",
       "      <td>...</td>\n",
       "      <td>0.67</td>\n",
       "      <td>0.50</td>\n",
       "      <td>0.40</td>\n",
       "      <td>1.00</td>\n",
       "      <td>0.67</td>\n",
       "      <td>0.00</td>\n",
       "      <td>0.67</td>\n",
       "      <td>0.06</td>\n",
       "      <td>0.02</td>\n",
       "      <td>0.34</td>\n",
       "    </tr>\n",
       "    <tr>\n",
       "      <th>67</th>\n",
       "      <td>0.41</td>\n",
       "      <td>0.14</td>\n",
       "      <td>0.40</td>\n",
       "      <td>2</td>\n",
       "      <td>75</td>\n",
       "      <td>18</td>\n",
       "      <td>{u'estimator__min_samples_split': 2, u'selecti...</td>\n",
       "      <td>3</td>\n",
       "      <td>0.67</td>\n",
       "      <td>0.50</td>\n",
       "      <td>...</td>\n",
       "      <td>0.67</td>\n",
       "      <td>0.50</td>\n",
       "      <td>0.50</td>\n",
       "      <td>1.00</td>\n",
       "      <td>0.50</td>\n",
       "      <td>0.00</td>\n",
       "      <td>0.67</td>\n",
       "      <td>0.03</td>\n",
       "      <td>0.02</td>\n",
       "      <td>0.35</td>\n",
       "    </tr>\n",
       "    <tr>\n",
       "      <th>112</th>\n",
       "      <td>0.16</td>\n",
       "      <td>0.13</td>\n",
       "      <td>0.40</td>\n",
       "      <td>4</td>\n",
       "      <td>10</td>\n",
       "      <td>13</td>\n",
       "      <td>{u'estimator__min_samples_split': 4, u'selecti...</td>\n",
       "      <td>4</td>\n",
       "      <td>0.00</td>\n",
       "      <td>0.67</td>\n",
       "      <td>...</td>\n",
       "      <td>1.00</td>\n",
       "      <td>0.67</td>\n",
       "      <td>0.50</td>\n",
       "      <td>0.67</td>\n",
       "      <td>0.50</td>\n",
       "      <td>0.00</td>\n",
       "      <td>0.67</td>\n",
       "      <td>0.01</td>\n",
       "      <td>0.00</td>\n",
       "      <td>0.36</td>\n",
       "    </tr>\n",
       "    <tr>\n",
       "      <th>73</th>\n",
       "      <td>0.40</td>\n",
       "      <td>0.14</td>\n",
       "      <td>0.40</td>\n",
       "      <td>2</td>\n",
       "      <td>75</td>\n",
       "      <td>24</td>\n",
       "      <td>{u'estimator__min_samples_split': 2, u'selecti...</td>\n",
       "      <td>5</td>\n",
       "      <td>0.67</td>\n",
       "      <td>0.50</td>\n",
       "      <td>...</td>\n",
       "      <td>0.67</td>\n",
       "      <td>0.50</td>\n",
       "      <td>0.00</td>\n",
       "      <td>1.00</td>\n",
       "      <td>0.67</td>\n",
       "      <td>0.00</td>\n",
       "      <td>0.00</td>\n",
       "      <td>0.04</td>\n",
       "      <td>0.02</td>\n",
       "      <td>0.35</td>\n",
       "    </tr>\n",
       "  </tbody>\n",
       "</table>\n",
       "<p>5 rows × 111 columns</p>\n",
       "</div>"
      ],
      "text/plain": [
       "     mean_fit_time  mean_score_time  mean_test_score  \\\n",
       "196           0.51             0.13             0.41   \n",
       "99            0.51             0.13             0.41   \n",
       "67            0.41             0.14             0.40   \n",
       "112           0.16             0.13             0.40   \n",
       "73            0.40             0.14             0.40   \n",
       "\n",
       "    param_estimator__min_samples_split param_estimator__n_estimators  \\\n",
       "196                                  4                           100   \n",
       "99                                   2                           100   \n",
       "67                                   2                            75   \n",
       "112                                  4                            10   \n",
       "73                                   2                            75   \n",
       "\n",
       "    param_selection__k                                             params  \\\n",
       "196                 22  {u'estimator__min_samples_split': 4, u'selecti...   \n",
       "99                  25  {u'estimator__min_samples_split': 2, u'selecti...   \n",
       "67                  18  {u'estimator__min_samples_split': 2, u'selecti...   \n",
       "112                 13  {u'estimator__min_samples_split': 4, u'selecti...   \n",
       "73                  24  {u'estimator__min_samples_split': 2, u'selecti...   \n",
       "\n",
       "     rank_test_score  split0_test_score  split10_test_score       ...        \\\n",
       "196                1               0.67                0.50       ...         \n",
       "99                 2               0.67                0.50       ...         \n",
       "67                 3               0.67                0.50       ...         \n",
       "112                4               0.00                0.67       ...         \n",
       "73                 5               0.67                0.50       ...         \n",
       "\n",
       "     split94_test_score  split95_test_score  split96_test_score  \\\n",
       "196                0.00                0.50                0.50   \n",
       "99                 0.67                0.50                0.40   \n",
       "67                 0.67                0.50                0.50   \n",
       "112                1.00                0.67                0.50   \n",
       "73                 0.67                0.50                0.00   \n",
       "\n",
       "     split97_test_score  split98_test_score  split99_test_score  \\\n",
       "196                1.00                0.67                0.00   \n",
       "99                 1.00                0.67                0.00   \n",
       "67                 1.00                0.50                0.00   \n",
       "112                0.67                0.50                0.00   \n",
       "73                 1.00                0.67                0.00   \n",
       "\n",
       "     split9_test_score  std_fit_time  std_score_time  std_test_score  \n",
       "196               0.67          0.06            0.02            0.34  \n",
       "99                0.67          0.06            0.02            0.34  \n",
       "67                0.67          0.03            0.02            0.35  \n",
       "112               0.67          0.01            0.00            0.36  \n",
       "73                0.00          0.04            0.02            0.35  \n",
       "\n",
       "[5 rows x 111 columns]"
      ]
     },
     "execution_count": 70,
     "metadata": {},
     "output_type": "execute_result"
    }
   ],
   "source": [
    "param_grid = dict(\n",
    "    selection__k=np.arange(1, len(extended_features_list)),\n",
    "    estimator__n_estimators=[10, 50, 75, 100],\n",
    "    estimator__min_samples_split=[2, 4]\n",
    ")\n",
    "\n",
    "random_forest_validated = kbest_validator(RandomForestClassifier(n_jobs=-1), param_grid)\n",
    "pd.DataFrame(random_forest_validated.cv_results_).sort_values(by='rank_test_score').head()"
   ]
  },
  {
   "cell_type": "code",
   "execution_count": null,
   "metadata": {},
   "outputs": [],
   "source": [
    "param_grid = dict(\n",
    "    estimator__n_estimators=[10, 50, 75, 100],\n",
    "    estimator__min_samples_split=[2, 4]\n",
    ")\n",
    "\n",
    "random_forest_validated = validator(RandomForestClassifier(n_jobs=-1), param_grid)\n",
    "#pd.DataFrame(random_forest_validated.cv_results_).sort_values(by='rank_test_score').head()"
   ]
  },
  {
   "cell_type": "code",
   "execution_count": 63,
   "metadata": {},
   "outputs": [
    {
     "data": {
      "text/plain": [
       "GridSearchCV(cv=StratifiedShuffleSplit(n_splits=100, random_state=None, test_size='default',\n",
       "            train_size=None),\n",
       "       error_score='raise',\n",
       "       estimator=RFECV(cv=5,\n",
       "   estimator=RandomForestClassifier(bootstrap=True, class_weight=None, criterion='gini',\n",
       "            max_depth=None, max_features='auto', max_leaf_nodes=None,\n",
       "            min_impurity_decrease=0.0, min_impurity_split=None,\n",
       "            min_samples_leaf=1, min_samples_split=2,\n",
       "  ...state=None, verbose=0,\n",
       "            warm_start=False),\n",
       "   n_jobs=-1, scoring='f1', step=1, verbose=0),\n",
       "       fit_params=None, iid=True, n_jobs=-1,\n",
       "       param_grid={'estimator__min_samples_split': [2, 4], 'estimator__n_estimators': [10, 50, 75, 100]},\n",
       "       pre_dispatch='2*n_jobs', refit=True, return_train_score=False,\n",
       "       scoring='f1', verbose=0)"
      ]
     },
     "execution_count": 63,
     "metadata": {},
     "output_type": "execute_result"
    }
   ],
   "source": [
    "random_forest_validated"
   ]
  },
  {
   "cell_type": "markdown",
   "metadata": {},
   "source": [
    "The above has just completed all the hard work for me by cross-validating and cross-referencing all the hyperparameter values I specified in the parameter grid, using the F1 score as the evaluation metric. To see the most performant estimator we can read from the `best_estimator` attribute on the grid search object. Additionally I'll print the steps for transparency."
   ]
  },
  {
   "cell_type": "code",
   "execution_count": null,
   "metadata": {},
   "outputs": [],
   "source": [
    "clf = grid_search.best_estimator_\n",
    "clf.steps"
   ]
  },
  {
   "cell_type": "markdown",
   "metadata": {},
   "source": [
    "Finally I'll run the predictive model through the provided testing code to see if the results are comparable."
   ]
  },
  {
   "cell_type": "code",
   "execution_count": null,
   "metadata": {},
   "outputs": [],
   "source": [
    "test_classifier(clf, my_dataset, features_list);"
   ]
  },
  {
   "cell_type": "markdown",
   "metadata": {},
   "source": [
    "## Evaluation of the Experiment"
   ]
  },
  {
   "cell_type": "markdown",
   "metadata": {},
   "source": []
  },
  {
   "cell_type": "markdown",
   "metadata": {},
   "source": [
    "## Future Work"
   ]
  },
  {
   "cell_type": "markdown",
   "metadata": {},
   "source": [
    "Using the same dataset can I run this through a neural network using TensorFlow."
   ]
  },
  {
   "cell_type": "markdown",
   "metadata": {},
   "source": [
    "## Conclusion"
   ]
  },
  {
   "cell_type": "markdown",
   "metadata": {},
   "source": []
  },
  {
   "cell_type": "markdown",
   "metadata": {},
   "source": [
    "## References"
   ]
  },
  {
   "cell_type": "markdown",
   "metadata": {},
   "source": [
    "```python\n",
    "@article{doi:10.1145/2020408.2020496,\n",
    "  author  = {Kaufman, S. and Rosset, S. and Perlich, C},\n",
    "  title   = {Leakage in Data Mining: Formulation, Detection, and Avoidance},\n",
    "  journal = {ACM},\n",
    "  pages   = {556-563},\n",
    "  year    = {2011},\n",
    "  doi     = {10.1145/2020408.2020496},\n",
    "  url     = {http://doi.acm.org/10.1145/2020408.2020496},\n",
    "}\n",
    "\n",
    "@article{doi:10.1093/llc/fqn019,\n",
    "  author  = {Sculley, D. and Pasanek, Bradley M.},\n",
    "  title   = {Meaning and mining: the impact of implicit assumptions in data mining for the humanities},\n",
    "  journal = {Literary and Linguistic Computing},\n",
    "  volume  = {23},\n",
    "  number  = {4},\n",
    "  pages   = {409-424},\n",
    "  year    = {2008},\n",
    "  doi     = {10.1093/llc/fqn019},\n",
    "  url     = {http://dx.doi.org/10.1093/llc/fqn019},\n",
    "  eprint  = {/oup/backfile/content_public/journal/dsh/23/4/10.1093/llc/fqn019/2/fqn019.pdf}\n",
    "}\n",
    "\n",
    "@article{doi:10.1.1.483.2183,\n",
    "  author  = {Zhang, H`},\n",
    "  title   = {The Optimality of Naive Bayes},\n",
    "  journal = {Proceedings of the Seventeenth International Florida Artificial Intelligence Research Society Conference, FLAIRS 2004},\n",
    "  volume  = {2},       \n",
    "  year    = {2004},\n",
    "  doi     = {10.1.1.483.2183}\n",
    "}\n",
    "\n",
    "https://en.wikipedia.org/wiki/Enron#Former_management_and_corporate_governance\n",
    "https://georgemdallas.wordpress.com/2013/10/30/principal-component-analysis-4-dummies-eigenvectors-eigenvalues-and-dimension-reduction/\n",
    "```"
   ]
  }
 ],
 "metadata": {
  "kernelspec": {
   "display_name": "Python 2",
   "language": "python",
   "name": "python2"
  },
  "language_info": {
   "codemirror_mode": {
    "name": "ipython",
    "version": 2
   },
   "file_extension": ".py",
   "mimetype": "text/x-python",
   "name": "python",
   "nbconvert_exporter": "python",
   "pygments_lexer": "ipython2",
   "version": "2.7.15"
  }
 },
 "nbformat": 4,
 "nbformat_minor": 2
}
